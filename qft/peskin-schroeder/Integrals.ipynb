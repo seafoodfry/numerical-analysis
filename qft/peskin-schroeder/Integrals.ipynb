{
 "cells": [
  {
   "cell_type": "code",
   "execution_count": 1,
   "id": "79d7f835-552e-4835-8ba6-f2cb5532aa89",
   "metadata": {},
   "outputs": [],
   "source": [
    "from sympy import symbols, integrate, cos, sin, pi"
   ]
  },
  {
   "cell_type": "code",
   "execution_count": 2,
   "id": "8de5a129-2f97-4c68-bab0-6663c0e939f5",
   "metadata": {},
   "outputs": [
    {
     "data": {
      "text/latex": [
       "$\\displaystyle \\frac{4 \\pi \\alpha^{2}}{3 E_{cm}^{2}}$"
      ],
      "text/plain": [
       "4*pi*alpha**2/(3*E_cm**2)"
      ]
     },
     "execution_count": 2,
     "metadata": {},
     "output_type": "execute_result"
    }
   ],
   "source": [
    "# Define the variables.\n",
    "theta, phi = symbols('theta phi')\n",
    "alpha, E_cm = symbols('alpha E_cm')\n",
    "\n",
    "# Define the differential cross-section per unit solid angle.\n",
    "d_sigma_d_Omega = (alpha**2 / (4 * E_cm**2)) * (1 + cos(theta)**2)\n",
    "\n",
    "# Expression for the solid angle element.\n",
    "d_Omega = sin(theta)\n",
    "\n",
    "# Integrate over theta from 0 to pi and phi from 0 to 2*pi.\n",
    "sigma_total = integrate(d_sigma_d_Omega * d_Omega, (theta, 0, pi), (phi, 0, 2*pi))\n",
    "sigma_total.simplify()"
   ]
  },
  {
   "cell_type": "code",
   "execution_count": 6,
   "id": "30a1f8a0-37f1-4fb0-a840-33b39982a189",
   "metadata": {},
   "outputs": [
    {
     "data": {
      "text/latex": [
       "$\\displaystyle \\frac{\\alpha^{2} \\left(\\cos^{2}{\\left(\\theta \\right)} + 1\\right) \\sin{\\left(\\theta \\right)}}{4 E_{cm}^{2}}$"
      ],
      "text/plain": [
       "alpha**2*(cos(theta)**2 + 1)*sin(theta)/(4*E_cm**2)"
      ]
     },
     "execution_count": 6,
     "metadata": {},
     "output_type": "execute_result"
    }
   ],
   "source": [
    "initial_expr = d_sigma_d_Omega * d_Omega\n",
    "initial_expr"
   ]
  },
  {
   "cell_type": "code",
   "execution_count": 5,
   "id": "d68801a2-6c99-4349-9cd7-e3527457b954",
   "metadata": {},
   "outputs": [
    {
     "data": {
      "text/latex": [
       "$\\displaystyle \\frac{\\alpha^{2} \\left(\\cos^{2}{\\left(\\theta \\right)} + 1\\right) \\sin{\\left(\\theta \\right)}}{4 E_{cm}^{2}}$"
      ],
      "text/plain": [
       "alpha**2*(cos(theta)**2 + 1)*sin(theta)/(4*E_cm**2)"
      ]
     },
     "execution_count": 5,
     "metadata": {},
     "output_type": "execute_result"
    }
   ],
   "source": [
    "initial_expr.simplify()"
   ]
  },
  {
   "cell_type": "code",
   "execution_count": null,
   "id": "f6844496-7ff2-4da8-a6d1-69320a877060",
   "metadata": {},
   "outputs": [],
   "source": []
  }
 ],
 "metadata": {
  "kernelspec": {
   "display_name": "Python 3 (ipykernel)",
   "language": "python",
   "name": "python3"
  },
  "language_info": {
   "codemirror_mode": {
    "name": "ipython",
    "version": 3
   },
   "file_extension": ".py",
   "mimetype": "text/x-python",
   "name": "python",
   "nbconvert_exporter": "python",
   "pygments_lexer": "ipython3",
   "version": "3.11.8"
  }
 },
 "nbformat": 4,
 "nbformat_minor": 5
}
