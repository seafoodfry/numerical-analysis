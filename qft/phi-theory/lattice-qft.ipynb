{
 "cells": [
  {
   "cell_type": "code",
   "execution_count": 1,
   "id": "4a4ebb36-9b07-4117-8398-6d4efa32ce01",
   "metadata": {},
   "outputs": [],
   "source": [
    "import numpy as np\n",
    "import matplotlib.pyplot as plt\n",
    "import pandas as pd\n",
    "import subprocess\n",
    "import os\n",
    "\n",
    "from dataclasses import dataclass\n",
    "from tqdm import tqdm\n",
    "from matplotlib.animation import FuncAnimation\n",
    "from IPython.display import HTML\n",
    "from pathlib import Path"
   ]
  },
  {
   "cell_type": "code",
   "execution_count": 2,
   "id": "4588d97b-a87c-41da-925e-a83ad9dc7f8a",
   "metadata": {},
   "outputs": [
    {
     "name": "stdout",
     "output_type": "stream",
     "text": [
      "g++ -g -O2 -Wall -Wextra -Wshadow -Werror -std=c++20  -c Lattice.cpp -o Lattice.o\n",
      "g++ -g -O2 -Wall -Wextra -Wshadow -Werror -std=c++20  -c Simulation.cpp -o Simulation.o\n",
      "g++ -o Simulation HashTable.o Lattice.o Simulation.o -L/usr/local/lib -Wl,-rpath,/usr/local/lib -lgsl -lgslcblas -lm\n"
     ]
    }
   ],
   "source": [
    "!make Simulation"
   ]
  },
  {
   "cell_type": "markdown",
   "id": "82e4c61e-8a5c-4c49-9c0e-b553bea355ec",
   "metadata": {},
   "source": [
    "Following the work of [Lattice Simulations of Nonperturbative Quantum Field Theories](https://inspirehep.net/literature/1386200) by David Schaich, we will perform a lattice QFT simulation of a $\\phi^4$ field using the metropolis and the wolff algorithms.\n",
    "\n",
    "Let's start with the metropolis bits."
   ]
  },
  {
   "cell_type": "markdown",
   "id": "1abdab57-99cb-42c0-9c2a-966512b4a800",
   "metadata": {},
   "source": [
    "# Metropolis\n",
    "\n",
    "For the metropolis steps, we need to be able to compute the energy of our system in order to determine whether we accept or reject a change.\n",
    "\n",
    "As we saw in the Isisng model example, in order to meet the more rigurous condition of detailed balance we need to probabilitically accept a change according to\n",
    "\n",
    "$$\n",
    "A(\\mu \\rightarrow \\nu)\n",
    "=\n",
    "\\begin{cases}\n",
    "1           & \\text{if } E_\\nu \\leq E_\\mu \\quad(\\Delta E \\leq 0) \\\\\n",
    "e^{-\\beta (E_\\nu - E_\\mu)} = e^{-\\beta \\Delta E}   & \\text{if } E_\\nu > E_\\mu \\quad(\\Delta E > 0)\n",
    "\\end{cases}\n",
    "$$\n",
    "\n",
    "And this is where we will take a more research-based pedagogy and work backwards - as opposed to sending you off to learn QFT, quantum mechanics, electrodynamics, etc, etc.\n",
    "\n",
    "The $\\phi^4$ theory in four-dimensional Euclidean space has the following expression for its action\n",
    "\n",
    "$$\n",
    "S_{E} = \n",
    "\\int d^4 x_E \\mathcal{L}_{E} =\n",
    "\\int d^4 x \\left[ \n",
    "    \\frac{1}{2} \\left( \\partial_{E_\\mu} \\phi \\right)^2 + \\frac{1}{2} \\mu_0 \\phi^2 + \\frac{1}{4} \\lambda_0 \\phi^4\n",
    "\\right]\n",
    "$$\n",
    "\n",
    "And it turns out that in Euclidean space the action, or Euclidean action, has the same units as the energy, so from here on out we will refer to the above as the energy.\n",
    "\n",
    "Just to start out simple, we will work in 2D first.\n",
    "And we will:\n",
    "1. Discretize $\\phi$: the continuous function $\\phi(x_\\mu)$ will be represented by $\\phi_n$ for $0 \\leq n \\leq N$, on an Lattice of zise $N$ and spacing $a$ between points.\n",
    "2. Discretize the derivatives: for example, $\\partial \\phi / \\partial x$ becomes $\\frac{1}{a} \\left( \\phi_n(x+a,t) - \\phi_n(x,t) \\right)$\n",
    "3. Discretize the integral: $\\int dx f$ becomes $\\sum^{N}_{i} f(n_i) a$\n",
    "\n",
    "All to define the operations we need in a lattice."
   ]
  },
  {
   "cell_type": "code",
   "execution_count": null,
   "id": "670ba637-b8b9-4c1c-aad7-5f895d3d2abe",
   "metadata": {},
   "outputs": [],
   "source": []
  }
 ],
 "metadata": {
  "kernelspec": {
   "display_name": "Python 3 (ipykernel)",
   "language": "python",
   "name": "python3"
  },
  "language_info": {
   "codemirror_mode": {
    "name": "ipython",
    "version": 3
   },
   "file_extension": ".py",
   "mimetype": "text/x-python",
   "name": "python",
   "nbconvert_exporter": "python",
   "pygments_lexer": "ipython3",
   "version": "3.11.8"
  }
 },
 "nbformat": 4,
 "nbformat_minor": 5
}
