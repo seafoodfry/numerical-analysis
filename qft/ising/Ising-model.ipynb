{
 "cells": [
  {
   "cell_type": "markdown",
   "id": "147e0bb8-751d-40ee-b959-259451c83c9d",
   "metadata": {},
   "source": [
    "The Hamiltonian for the model is\n",
    "\n",
    "$$\n",
    "H = - \\sum_{<ij>} J_{ij} s_i s_j - \\sum_{i} B_i s_i\n",
    "$$\n",
    "\n",
    "$\\sum_{<ij>}$ indicates a summation over all neighboring pairs of spins (concrete example next),\n",
    "$J_{ij}$ is the strenght of the interaction between the pair $ij$,\n",
    "$B_i$ is the external magnetic field at site $i$.\n",
    "\n",
    "And for our purposes, we will work in a world where there is no external magnetic field,\n",
    "and where the coupling between neighbroing pairs of spins if constant.\n",
    "\n",
    "$$\n",
    "H = - J \\sum_{<ij>} s_i s_j\n",
    "$$\n",
    "\n",
    "Now let us show how to compute the energy.\n",
    "We will be doing it by computing the energy between transitions (we are doing it this way because we just happen to know that this will come in handy later on).\n",
    "\n",
    "\n",
    "If a sping is up, $u$, then its value is +1.\n",
    "So here below we have 4 pairs of nearest neighboards where $\\sum_{<ij>} s_i s_j = 1 + 1 + 1 + 1 = 4$, so $H = -J4$.\n",
    "From there try double checking the rest.\n",
    "\n",
    "```\n",
    "              u                      u\n",
    "E = -4J     u u u    ->   E = 4J   u d u\n",
    "              u                      u\n",
    "```\n",
    "$\\Delta E = 4J - -4J = 8J$ and so $-\\beta \\Delta E = - 8J \\beta$\n",
    "\n",
    "\n",
    "```\n",
    "              u                        u\n",
    "E = -2J     d u u     ->    E = 2J   d d u\n",
    "              u                        u\n",
    "```\n",
    "$\\Delta E = 2J - -2J = 4J$ and so  $-\\beta \\Delta E = - 4J \\beta$.\n",
    "\n",
    "\n",
    "```\n",
    "              u                        u\n",
    "E =  0J     d u u     ->    E = 0J   d d u\n",
    "              d                        d\n",
    "```\n",
    "$\\Delta E = 0J - 0J = 0J$ and so $-\\beta \\Delta E = - 0J \\beta = 0$.\n",
    "\n",
    "\n",
    "```\n",
    "              d                         d\n",
    "E = 2J      d u u     ->    E = -2J   d d u\n",
    "              d                         d\n",
    "```\n",
    "$\\Delta E = -2J - 2J = -4J$ and so $-\\beta \\Delta E = 4J \\beta$.\n",
    "\n",
    "```\n",
    "              d                        d\n",
    "E = 4J      d u d     ->   E = -4J   d d d\n",
    "              d                        d\n",
    "```\n",
    "$\\Delta E = -4J - 4J = -8J$ and so $-\\beta \\Delta E = 8J \\beta$.\n",
    "\n",
    "If you rack your brain you'll see that these are all the possible states and transitions, when we flip one spin at a time."
   ]
  },
  {
   "cell_type": "markdown",
   "id": "7b6c75a4-9a62-4522-b8ef-4f21bbbdbce5",
   "metadata": {},
   "source": [
    "The critical temperature for the 2D model has been analytically obtained and is\n",
    "\n",
    "$$\n",
    "T_c = \\frac{2J}{\\log(1 + \\sqrt{2})} \\approx 2.269 J\n",
    "$$\n",
    "\n",
    "or\n",
    "$$\n",
    "\\beta_c \\approx \\frac{0.4407}{J}\n",
    "$$\n",
    "\n",
    "See [Wikipedia: Onsager's exact solution](https://en.wikipedia.org/wiki/Ising_model#Onsager's_exact_solution)."
   ]
  },
  {
   "cell_type": "markdown",
   "id": "d73ddd29-2c0e-4853-b048-e4fadfe79b72",
   "metadata": {},
   "source": [
    "# Metropolis Algorithm\n",
    "\n",
    "Single site is updated at a time:\n",
    "    a. Probability of generating such as state is $1/N$.\n",
    "\n",
    "The detailed condition for Markov Chains Monte Carlos is\n",
    "$$\n",
    "\\frac{P(\\mu \\rightarrow \\nu)}{P(\\nu \\rightarrow \\mu)}\n",
    "= \\frac{g(\\mu \\rightarrow \\nu) A(\\mu \\rightarrow \\nu)}{g(\\nu \\rightarrow \\mu) A(\\mu \\rightarrow \\nu)}\n",
    "= \\frac{A(\\mu \\rightarrow \\nu)}{A(\\mu \\rightarrow \\nu)}\n",
    "$$\n",
    "\n",
    "Where $g$ is the probability of generating a given state and $A$ is the probability of accepting the transition.\n",
    "\n",
    "Remember that the more stringent expression of detailed balance to guarantee static equilibirum is written as\n",
    "$$\n",
    "p_mu P(\\mu\\rightarrow\\nu) = p_nu P(\\nu\\rightarrow\\mu)\n",
    "$$\n",
    "\n",
    "and since the probabilities $p_mu$ and $p_nu$ are $e^{-\\beta E_mu}/Z$ and $e^{-\\beta E_nu}/Z$ respectively,\n",
    "\n",
    "$$\n",
    "\\frac{P(\\mu \\rightarrow \\nu)}{P(\\nu \\rightarrow \\mu)}\n",
    "= \\frac{A(\\mu \\rightarrow \\nu)}{A(\\mu \\rightarrow \\nu)}\n",
    "= \\frac{p_\\nu}{p_\\mu}\n",
    "= e^{-\\beta (E_\\nu - E_\\mu)}\n",
    "$$\n",
    "\n",
    "Note that if $E_\\nu \\leq E_\\mu$, then $e^{-\\beta (E_\\nu - E_\\mu)}$, then the argument of the exponent will be zero or positive, so $e^{+(\\ldots)} \\geq 1$.\n",
    "And if $E_\\nu > E_\\mu$, then $e^{-\\beta (E_\\nu - E_\\mu)}$ will looke like $e^{-(\\ldots)} < 1$.\n",
    "Which intuitevely makes sense, transitioning to a state $\\nu$ from a state $\\mu$ is favored when the end state $\\nu$ has a lower energy (rememeber that the exponents are proportional to the probability of the given state).\n",
    "\n",
    "Thus, the Metropolis algorithm \n",
    "$$\n",
    "A(\\mu \\rightarrow \\nu)\n",
    "=\n",
    "\\begin{cases}\n",
    "    1                                                    & \\text{if } E_\\nu \\leq E_\\mu \\quad(\\Delta E \\leq 0) \\\\\n",
    "    e^{-\\beta (E_\\nu - E_\\mu)} = e^{-\\beta \\Delta E} \\   & \\text{if } E_\\nu > E_\\mu \\quad(\\Delta E > 0)\n",
    "\\end{cases}\n",
    "$$\n",
    "\n",
    "**Note:** there is a potential for a simplification here! if you go back to the beginning where we documented all the 5 possible transitions, only 2 of them meet the criteria of $E_\\nu > E_\\mu$ ($\\Delta E > 0$).\n",
    "So we only really need to compute two exponentials $e^{-4J\\beta}$ and $e^{-8J\\beta}$, so we could pre-compute them instead of calling a special function.\n",
    "And we do do this in `Lattice.cpp` in the `Lattice(unsigned int x, unsigned int y, unsigned int RNSeed)` constructor."
   ]
  },
  {
   "cell_type": "markdown",
   "id": "a85c9613-1b36-4582-ad0e-ea25a8fde2d3",
   "metadata": {},
   "source": [
    "# Wolff Cluster Algorithm\n",
    "\n",
    "## Swendsen-Wang Algorithm\n",
    "\n",
    "1. The entire lattice is partitioned into non-overlapping clusters. Each cluster contains a region where all spins are aligned in the same direction.\n",
    "2. Each cluster is flipped with probability 1/2.\n",
    "\n",
    "## Wolff Cluster Algorithm\n",
    "\n",
    "Create only a single cluster of aligned spins that does not include the entire lattice most of the time.\n",
    "\n",
    "1. **Randomly** select an initial seed spin.\n",
    "2. The initial seed spin forms the kernel for the cluster.\n",
    "3. **Probabilistically** add to the cluster all of the seed's neighbours that have the same spin.\n",
    "4. Recursively consider all of the neighbours of the seed's neighbours.\n",
    "5. Stop when all the properly-aligned neighbour sites have been tested.\n",
    "6. Flip the cluster to create a new state. This new state is always accepted.\n",
    "\n",
    "The Wolff cluster algorithms then moves the issue of optimizing the acceptance probabilities to\n",
    "the generation of an acceptance probability (by probabilistically adding sites to a cluster).\n",
    "\n",
    "So in this case $A(\\mu\\rightarrow\\nu) = A(\\nu\\rightarrow\\mu) = 1$, and we know we want to land in\n",
    "$$\n",
    "\\frac{P(\\mu \\rightarrow \\nu)}{P(\\nu \\rightarrow \\mu)}\n",
    "= \\frac{g(\\mu \\rightarrow \\nu)}{g(\\mu \\rightarrow \\nu)}\n",
    "= e^{-\\beta (E_\\nu - E_\\mu)}\n",
    "$$\n",
    "\n",
    "With the Wolff algorithmn, the non-local change in energy is when the cluster is flipped and the spins at the borders of the cluster that used to be aligned end up pointing in the opposite direction.\n",
    "Then, if $P_+$ is the probability of a neighbouring spin being added to a cluster, the make the argument that the selection probability $g$ is proportional to the number of independent Bernoulli trials of a neighbouring spin not being added\n",
    "\n",
    "$$\n",
    "g(\\mu\\rightarrow\\nu) \\propto (1-P_+)^n\n",
    "$$\n",
    "\n",
    "So,\n",
    "\n",
    "$$\n",
    "\\frac{P(\\mu \\rightarrow \\nu)}{P(\\nu \\rightarrow \\mu)}\n",
    "= \\frac{g(\\mu \\rightarrow \\nu)}{g(\\mu \\rightarrow \\nu)}\n",
    "= (1-P_+)^{n-m}\n",
    "= e^{-\\beta (E_\\nu - E_\\mu)}\n",
    "$$\n",
    "\n",
    "where $m$ is are the neighbours around the edges of the cluster that were pointing in the opposite direction but after the flip end up being aligned.\n",
    "So going backwards (flipping the cluster back) is $g(\\nu\\rightarrow\\mu) \\propto (1-P_+)^m$.\n",
    "\n",
    "The other thing to take into account is that if we go from $u u \\rightarrow u d$, then the energy went from $-J(1) \\rightarrow -J(-1)$, same if we went from $d d \\rightarrow u d$. In both cases the change in energy is of $J + J = 2J$.\n",
    "So the energy rises by $2J$ for each $n$ spin that used to be aligned but it no longer is after the cluster flip.\n",
    "Thus,\n",
    "\n",
    "$$\n",
    "(1-P_+)^{n-m}\n",
    "= (e^{-2J\\beta})^{n-m}\n",
    "= e^{-\\beta (E_\\nu - E_\\mu)}\n",
    "$$\n",
    "\n",
    "Which coincidentally also tells us that,\n",
    "$$\n",
    "P_+ = 1 - e^{-2J\\beta}\n",
    "$$"
   ]
  },
  {
   "cell_type": "markdown",
   "id": "c3976dc1-c4e1-4d48-8ffa-f40612fad74d",
   "metadata": {},
   "source": [
    "# Autocorrelation Time\n",
    "\n",
    "$\\tau$ is informally, the similarity between observations of a random variable (the \"state\" of our system) as a function of the time lag between them.\n",
    "It is roughly how long it takes for a system to evolve into a new state which is statistically independent from the initial state.\n",
    "\n",
    "Let's say that we have some observable $Q$ (a mathematician/statistician will talk about random variables).\n",
    "And let's introduce the **time-displaced autocorrelation function** $\\chi(t)$,\n",
    "\n",
    "$$\n",
    "\\chi(t)\n",
    "= \\frac{1}{t_{max} - t} \\left( \\sum^{t_{max}-t}_{t^\\prime = 0} Q(t^\\prime) Q(t+t^\\prime) \\right) - \\langle Q \\rangle^2\n",
    "$$\n",
    "\n",
    "Note that we have a sum because we are working with time series measurements of our random variables.\n",
    "Also see that $t_{max}$ is the total number of measurements made during a simulation.\n",
    "\n",
    "We assume that the correlation, and consequently $\\chi(t)$,  decreases exponentially as time passes by.\n",
    "So we assume a generic form such as $\\chi(t) = A e^{-t/\\tau}$.\n",
    "Thus,\n",
    "$$\n",
    "\\frac{\\chi(t)}{\\chi(0)} = e^{-t/\\tau}\n",
    "$$\n",
    "\n",
    "So solving for $\\tau$ gives us,\n",
    "$$\n",
    "\\tau = -t / \\log\\left( \\frac{\\chi(t)}{\\chi(0)} \\right)\n",
    "$$\n",
    "or\n",
    "$$\n",
    "\\tau = t / \\log\\left( \\frac{\\chi(0)}{\\chi(t)} \\right)\n",
    "$$\n",
    "\n",
    "To compute $\\tau$ then, we would look at the ratio $\\chi(t) / \\chi(0)$ in the domain until $\\chi(t)$ deviates from an exponential decay curve, $\\chi(t) < \\chi(t+1)$, or when $\\chi(t) , 0$.\n",
    "Within the domain in-scope then compute $\\tau_t$ and then take the average."
   ]
  },
  {
   "cell_type": "markdown",
   "id": "caffe6cb-6ae2-478b-b9c0-531915a52b1f",
   "metadata": {},
   "source": [
    "# Lattice Simulations of Nonperturbative Quantum Field Theories: Issing Model\n",
    "\n",
    "The rest of this notebook will cover the Ising model simulation implemented in\n",
    "[Lattice Simulations of Nonperturbative Quantum Field Theories]https://inspirehep.net/literature/1386200)\n",
    "by David Schaich.\n",
    "\n",
    "Given what we have already discussed we can begin with the implementation of the Ising model in this work.\n",
    "\n",
    "## Precompute Optimizations\n",
    "\n",
    "The first step in the Isign model simulation is a series of metropolis steps for equilibration with a handful of optimization thrown in.\n",
    "\n",
    "The first one, is that as we just saw during our energy counting excersie, there are only 5 possible transitions and froom those trnasitions 3 will always lead us to a lower energy level, and the other 2 will be accepted probabilistically (we generate a $U \\sim U[0,1]$ and if $u$ is smaller than the Boltsmann factor $e^{-\\beta\\Delta E}$, then we accept the move.\n",
    "\n",
    "The even more interesting thing is that there is somewhat of a symmetry around the energy transitions.\n",
    "For example, looking at the 3 cases in which we will always accept the transition, their initial energies are 0J, 2J, ad 4J.\n",
    "And these states end up with energies 0J, -2J, and -4J after a spin has been flipped.\n",
    "Then the ones that are accepted probabilitistically start with energy -4J and -2J and end up with energy 4J and 2J respectively.\n",
    "\n",
    "Right away a couple optimizations show up:\n",
    "1. We only need to pre-compute 2 Bolzmann factors, $e^{-4J\\beta}$ and $e^{-8J\\beta}$ to account for the probabilistic acceptances.\n",
    "2. We can tell if we can accept a transition right away based on the initial energy: if the initial energy is 0J, 2J, or 4J then we accept right away.\n",
    "    a. A note here, in the thesis, the sign of the energy is actually flipped so we are looking not at the initial energy but at the final one. This is done for purely cosmetic reasons.\n",
    "\n",
    "## Lattice Considerations\n",
    "\n",
    "There is another interesting bit to take a look at:\n",
    "\n",
    "```c++\n",
    "int Lattice::calcHalfenergy(unsigned int site) {\n",
    "    getHalfNeighbours(site);\n",
    "\n",
    "    return -lattice[site] * (lattice[nextX] + lattice[nextY]);\n",
    "}\n",
    "\n",
    "double Lattice::calcTotalEnergy() {\n",
    "    totalEnergy = 0;\n",
    "    for (unsigned int i = 0; i < latticeSize; i++)\n",
    "        totalEnergy += calcHalfenergy(i);\n",
    "    return totalEnergy / latticeSize;\n",
    "}\n",
    "```\n",
    "\n",
    "The interesting energy counting being done by the author is to avoid double counting interactions in the lattice.\n",
    "And this is something we should always be on the loop out for!"
   ]
  },
  {
   "cell_type": "code",
   "execution_count": 3,
   "id": "5ca729b1-b38d-45a6-aae7-4bfa97d842c9",
   "metadata": {},
   "outputs": [],
   "source": [
    "# Figure 5.1 is the measurement of E vs. T on a 32x32 lattice.\n",
    "# The range os Temperatures tested is from a little above 0 to 5.\n",
    "# Figure 5.2 is Magnetization vs. T. With the same ranges as above.\n",
    "# Figure 5.3 is the same but of specific heat vs. T.\n",
    "# Figure 5.4 is susceptibility vs. T.\n",
    "\n",
    "# Figure 5.5 is a 128x129 lattice.\n",
    "\n",
    "# Figure 5.8 and 5.9 visualize susceptibility for lattices of size 32^2, 64^2, 128^2, 256^2, 512^2, 1024^2."
   ]
  },
  {
   "cell_type": "code",
   "execution_count": 1,
   "id": "ca70b482-b199-472f-93dd-bc22c40a7ad1",
   "metadata": {},
   "outputs": [
    {
     "name": "stdout",
     "output_type": "stream",
     "text": [
      "g++  -c Metropolis.cpp -o Metropolis.o\n",
      "g++ -o Metropolis HashTable.o Lattice.o Metropolis.o -L/usr/local/lib -Wl,-rpath,/usr/local/lib -lgsl -lgslcblas -lm\n"
     ]
    }
   ],
   "source": [
    "!make Metropolis"
   ]
  },
  {
   "cell_type": "code",
   "execution_count": 38,
   "id": "c8663af0-f8be-44c7-a436-6dd9cf7a3b20",
   "metadata": {},
   "outputs": [],
   "source": [
    "import numpy as np\n",
    "import matplotlib.pyplot as plt\n",
    "import pandas as pd\n",
    "import subprocess"
   ]
  },
  {
   "cell_type": "markdown",
   "id": "0e75d930-f6af-4a61-83df-b006b1bd5129",
   "metadata": {},
   "source": [
    "# Replicating Figure 2.1\n",
    "\n",
    "This is found on page 6."
   ]
  },
  {
   "cell_type": "code",
   "execution_count": 13,
   "id": "7d50c335-bef2-494c-bee1-c755dc161a66",
   "metadata": {},
   "outputs": [
    {
     "name": "stdout",
     "output_type": "stream",
     "text": [
      "autocor-0-1000.txt  autocor-0-3000.txt\n",
      "autocor-0-2000.txt  correlation-time.csv\n"
     ]
    }
   ],
   "source": [
    "!ls *.csv autocor-*"
   ]
  },
  {
   "cell_type": "code",
   "execution_count": 14,
   "id": "4a0f55da-84eb-40d2-8dbb-8982f01eed95",
   "metadata": {},
   "outputs": [],
   "source": [
    "!rm correlation-time.csv\n",
    "!rm autocor-*"
   ]
  },
  {
   "cell_type": "code",
   "execution_count": 15,
   "id": "ffb7d8be-c468-49e3-a10d-17e3cec220ab",
   "metadata": {},
   "outputs": [],
   "source": [
    "with open(\"correlation-time.csv\", \"a\") as output:\n",
    "    output.write(\"xdim,ydim,equil,stat,seed,T,autocorrt,avgE,stdE,avgMAbs,stdM,c,m,avgM,scaleF\\n\")"
   ]
  },
  {
   "cell_type": "code",
   "execution_count": 16,
   "id": "a511ff77-cbf4-4d06-9f5b-a87a25e058d6",
   "metadata": {},
   "outputs": [
    {
     "name": "stdout",
     "output_type": "stream",
     "text": [
      "running with 1000 steps...\n",
      "stderr: None\n",
      "running with 1500 steps...\n",
      "stderr: None\n",
      "running with 2000 steps...\n",
      "stderr: None\n",
      "running with 2500 steps...\n",
      "stderr: None\n",
      "running with 3000 steps...\n",
      "stderr: None\n",
      "running with 4000 steps...\n",
      "stderr: None\n",
      "running with 5000 steps...\n",
      "stderr: None\n"
     ]
    }
   ],
   "source": [
    "for steps in [1_000, 1_500, 2_000, 2_500, 3_000, 4_000, 5_000]:\n",
    "    xdim     = str(32)\n",
    "    ydim     = str(32)\n",
    "    equil_n  = str(0)\n",
    "    stat_n   = str(steps)\n",
    "    T        = str(220)    # This is divided by 100 by Metropolis.\n",
    "    autocorF = f\"autocor-{equil_n}-{stat_n}.txt\"  # TXT file containing the autocorrelation time series.\n",
    "\n",
    "    result = subprocess.run(['./Metropolis', xdim, ydim, equil_n, stat_n, T, autocorF], stdout=subprocess.PIPE)\n",
    "\n",
    "    print(f'running with {steps} steps...')\n",
    "    #print(f'stdout: {result.stdout}')\n",
    "    print(f'stderr: {result.stderr}')\n",
    "\n",
    "    with open(\"correlation-time.csv\", \"a\") as output:\n",
    "        output.write(result.stdout.decode(\"utf-8\"))"
   ]
  },
  {
   "cell_type": "code",
   "execution_count": 17,
   "id": "c7fd3b2a-97fb-4176-b9eb-8185341fc78b",
   "metadata": {},
   "outputs": [
    {
     "name": "stdout",
     "output_type": "stream",
     "text": [
      "xdim,ydim,equil,stat,seed,T,autocorrt,avgE,stdE,avgMAbs,stdM,c,m,avgM,scaleF\n",
      "32,32,0,1000,220,2.200000,7.189535,-1.542176,0.145382,0.779881,0.010864,1.429520,3.820308,0.779881,0.008208\n",
      "32,32,0,1500,220,2.200000,8.214422,-1.540978,0.132306,0.776893,0.010095,1.386274,4.330888,0.776893,0.009305\n",
      "32,32,0,2000,220,2.200000,8.855812,-1.540169,0.124725,0.778339,0.008615,1.417633,3.900770,0.778339,0.008381\n",
      "32,32,0,2500,220,2.200000,10.640867,-1.537914,0.123950,0.774370,0.008889,1.449445,4.320162,0.774370,0.009282\n",
      "32,32,0,3000,220,2.200000,20.764761,-1.531749,0.145822,0.759527,0.014580,1.570055,7.147762,0.635348,0.015357\n",
      "32,32,0,4000,220,2.200000,21.878513,-1.536401,0.134116,0.768518,0.012033,1.491091,6.161002,0.277639,0.013237\n",
      "32,32,0,5000,220,2.200000,19.930826,-1.540354,0.121963,0.774344,0.009708,1.460402,5.502486,0.062581,0.011822\n"
     ]
    }
   ],
   "source": [
    "!cat correlation-time.csv"
   ]
  },
  {
   "cell_type": "code",
   "execution_count": 18,
   "id": "56e3358a-44e4-4557-90bb-16f9da61e957",
   "metadata": {},
   "outputs": [
    {
     "name": "stdout",
     "output_type": "stream",
     "text": [
      "autocor-0-1000.txt  autocor-0-2000.txt\tautocor-0-3000.txt  autocor-0-5000.txt\n",
      "autocor-0-1500.txt  autocor-0-2500.txt\tautocor-0-4000.txt\n"
     ]
    }
   ],
   "source": [
    "!ls autocor-*"
   ]
  },
  {
   "cell_type": "code",
   "execution_count": 20,
   "id": "6b7698e7-de5b-4d47-b169-7ef50ee289bf",
   "metadata": {},
   "outputs": [],
   "source": [
    "data1 = np.loadtxt('autocor-0-1000.txt')"
   ]
  },
  {
   "cell_type": "code",
   "execution_count": 21,
   "id": "c500892f-1ff0-473d-8c36-b99fed5d6878",
   "metadata": {},
   "outputs": [
    {
     "data": {
      "text/plain": [
       "(1000, -1.32489, 30.3627)"
      ]
     },
     "execution_count": 21,
     "metadata": {},
     "output_type": "execute_result"
    }
   ],
   "source": [
    "data1.size, data1.min(), data1.max()"
   ]
  },
  {
   "cell_type": "code",
   "execution_count": 22,
   "id": "05398505-2d25-40ee-a0c2-b94153f812a1",
   "metadata": {},
   "outputs": [
    {
     "data": {
      "image/png": "[encoded data removed]",
      "text/plain": [
       "<Figure size 640x480 with 1 Axes>"
      ]
     },
     "metadata": {},
     "output_type": "display_data"
    }
   ],
   "source": [
    "# We are multiplying by 5 because we only took measurements every 5 steps in the code.\n",
    "t = np.linspace(1, data1.size+1, data1.size) * 5\n",
    "plt.plot(t, data1)\n",
    "\n",
    "plt.title('$\\chi(t)/\\chi(0)$ vs. time $t$')\n",
    "plt.xlabel('time $t$')\n",
    "plt.ylabel('$\\chi(t)/\\chi(0)$')\n",
    "plt.grid(True) \n",
    "plt.show()"
   ]
  },
  {
   "cell_type": "code",
   "execution_count": 23,
   "id": "d040f1b0-dee8-418c-be9e-99331719f858",
   "metadata": {},
   "outputs": [],
   "source": [
    "def exp_decay_lim(array):\n",
    "    \"\"\" exp_decay_lim returns the index of where the autocorrelation data\n",
    "    measurements deviate from an actual exponential decay function:\n",
    "\n",
    "    1.) When a value becomes negative.\n",
    "    2.) When a value is suddenly greater than the previous one.\n",
    "    3.) If none of the above, the it returns the array size (the last element).\n",
    "    \"\"\"\n",
    "    lim = 0\n",
    "    for i in range(1, array.size):\n",
    "        if array[i] < 0 or array[i] > array[i-1]:\n",
    "            print(i)\n",
    "            return i\n",
    "    return array.size"
   ]
  },
  {
   "cell_type": "code",
   "execution_count": 32,
   "id": "cc089f02-b9ef-4339-bde2-d70393ddbd56",
   "metadata": {},
   "outputs": [
    {
     "name": "stdout",
     "output_type": "stream",
     "text": [
      "19\n",
      "25\n",
      "22\n",
      "34\n"
     ]
    }
   ],
   "source": [
    "data1 = np.loadtxt('autocor-0-1000.txt')\n",
    "lim1 = exp_decay_lim(data1)\n",
    "\n",
    "data2 = np.loadtxt('autocor-0-1500.txt')\n",
    "lim2 = exp_decay_lim(data2)\n",
    "\n",
    "data3 = np.loadtxt('autocor-0-2000.txt')\n",
    "lim3 = exp_decay_lim(data3)\n",
    "\n",
    "data4 = np.loadtxt('autocor-0-2500.txt')\n",
    "lim4 = exp_decay_lim(data4)"
   ]
  },
  {
   "cell_type": "code",
   "execution_count": 39,
   "id": "80a76d1d-a3c1-4845-abf1-767c50f3ac4d",
   "metadata": {},
   "outputs": [
    {
     "data": {
      "text/html": [
       "<div>\n",
       "<style scoped>\n",
       "    .dataframe tbody tr th:only-of-type {\n",
       "        vertical-align: middle;\n",
       "    }\n",
       "\n",
       "    .dataframe tbody tr th {\n",
       "        vertical-align: top;\n",
       "    }\n",
       "\n",
       "    .dataframe thead th {\n",
       "        text-align: right;\n",
       "    }\n",
       "</style>\n",
       "<table border=\"1\" class=\"dataframe\">\n",
       "  <thead>\n",
       "    <tr style=\"text-align: right;\">\n",
       "      <th></th>\n",
       "      <th>xdim</th>\n",
       "      <th>ydim</th>\n",
       "      <th>equil</th>\n",
       "      <th>stat</th>\n",
       "      <th>seed</th>\n",
       "      <th>T</th>\n",
       "      <th>autocorrt</th>\n",
       "      <th>avgE</th>\n",
       "      <th>stdE</th>\n",
       "      <th>avgMAbs</th>\n",
       "      <th>stdM</th>\n",
       "      <th>c</th>\n",
       "      <th>m</th>\n",
       "      <th>avgM</th>\n",
       "      <th>scaleF</th>\n",
       "    </tr>\n",
       "  </thead>\n",
       "  <tbody>\n",
       "    <tr>\n",
       "      <th>0</th>\n",
       "      <td>32</td>\n",
       "      <td>32</td>\n",
       "      <td>0</td>\n",
       "      <td>1000</td>\n",
       "      <td>220</td>\n",
       "      <td>2.2</td>\n",
       "      <td>7.189535</td>\n",
       "      <td>-1.542176</td>\n",
       "      <td>0.145382</td>\n",
       "      <td>0.779881</td>\n",
       "      <td>0.010864</td>\n",
       "      <td>1.429520</td>\n",
       "      <td>3.820308</td>\n",
       "      <td>0.779881</td>\n",
       "      <td>0.008208</td>\n",
       "    </tr>\n",
       "    <tr>\n",
       "      <th>1</th>\n",
       "      <td>32</td>\n",
       "      <td>32</td>\n",
       "      <td>0</td>\n",
       "      <td>1500</td>\n",
       "      <td>220</td>\n",
       "      <td>2.2</td>\n",
       "      <td>8.214422</td>\n",
       "      <td>-1.540978</td>\n",
       "      <td>0.132306</td>\n",
       "      <td>0.776893</td>\n",
       "      <td>0.010095</td>\n",
       "      <td>1.386274</td>\n",
       "      <td>4.330888</td>\n",
       "      <td>0.776893</td>\n",
       "      <td>0.009305</td>\n",
       "    </tr>\n",
       "    <tr>\n",
       "      <th>2</th>\n",
       "      <td>32</td>\n",
       "      <td>32</td>\n",
       "      <td>0</td>\n",
       "      <td>2000</td>\n",
       "      <td>220</td>\n",
       "      <td>2.2</td>\n",
       "      <td>8.855812</td>\n",
       "      <td>-1.540169</td>\n",
       "      <td>0.124725</td>\n",
       "      <td>0.778339</td>\n",
       "      <td>0.008615</td>\n",
       "      <td>1.417633</td>\n",
       "      <td>3.900770</td>\n",
       "      <td>0.778339</td>\n",
       "      <td>0.008381</td>\n",
       "    </tr>\n",
       "    <tr>\n",
       "      <th>3</th>\n",
       "      <td>32</td>\n",
       "      <td>32</td>\n",
       "      <td>0</td>\n",
       "      <td>2500</td>\n",
       "      <td>220</td>\n",
       "      <td>2.2</td>\n",
       "      <td>10.640867</td>\n",
       "      <td>-1.537914</td>\n",
       "      <td>0.123950</td>\n",
       "      <td>0.774370</td>\n",
       "      <td>0.008889</td>\n",
       "      <td>1.449445</td>\n",
       "      <td>4.320162</td>\n",
       "      <td>0.774370</td>\n",
       "      <td>0.009282</td>\n",
       "    </tr>\n",
       "    <tr>\n",
       "      <th>4</th>\n",
       "      <td>32</td>\n",
       "      <td>32</td>\n",
       "      <td>0</td>\n",
       "      <td>3000</td>\n",
       "      <td>220</td>\n",
       "      <td>2.2</td>\n",
       "      <td>20.764761</td>\n",
       "      <td>-1.531749</td>\n",
       "      <td>0.145822</td>\n",
       "      <td>0.759527</td>\n",
       "      <td>0.014580</td>\n",
       "      <td>1.570055</td>\n",
       "      <td>7.147762</td>\n",
       "      <td>0.635348</td>\n",
       "      <td>0.015357</td>\n",
       "    </tr>\n",
       "    <tr>\n",
       "      <th>5</th>\n",
       "      <td>32</td>\n",
       "      <td>32</td>\n",
       "      <td>0</td>\n",
       "      <td>4000</td>\n",
       "      <td>220</td>\n",
       "      <td>2.2</td>\n",
       "      <td>21.878513</td>\n",
       "      <td>-1.536401</td>\n",
       "      <td>0.134116</td>\n",
       "      <td>0.768518</td>\n",
       "      <td>0.012033</td>\n",
       "      <td>1.491091</td>\n",
       "      <td>6.161002</td>\n",
       "      <td>0.277639</td>\n",
       "      <td>0.013237</td>\n",
       "    </tr>\n",
       "    <tr>\n",
       "      <th>6</th>\n",
       "      <td>32</td>\n",
       "      <td>32</td>\n",
       "      <td>0</td>\n",
       "      <td>5000</td>\n",
       "      <td>220</td>\n",
       "      <td>2.2</td>\n",
       "      <td>19.930826</td>\n",
       "      <td>-1.540354</td>\n",
       "      <td>0.121963</td>\n",
       "      <td>0.774344</td>\n",
       "      <td>0.009708</td>\n",
       "      <td>1.460402</td>\n",
       "      <td>5.502486</td>\n",
       "      <td>0.062581</td>\n",
       "      <td>0.011822</td>\n",
       "    </tr>\n",
       "  </tbody>\n",
       "</table>\n",
       "</div>"
      ],
      "text/plain": [
       "   xdim  ydim  equil  stat  seed    T  autocorrt      avgE      stdE  \\\n",
       "0    32    32      0  1000   220  2.2   7.189535 -1.542176  0.145382   \n",
       "1    32    32      0  1500   220  2.2   8.214422 -1.540978  0.132306   \n",
       "2    32    32      0  2000   220  2.2   8.855812 -1.540169  0.124725   \n",
       "3    32    32      0  2500   220  2.2  10.640867 -1.537914  0.123950   \n",
       "4    32    32      0  3000   220  2.2  20.764761 -1.531749  0.145822   \n",
       "5    32    32      0  4000   220  2.2  21.878513 -1.536401  0.134116   \n",
       "6    32    32      0  5000   220  2.2  19.930826 -1.540354  0.121963   \n",
       "\n",
       "    avgMAbs      stdM         c         m      avgM    scaleF  \n",
       "0  0.779881  0.010864  1.429520  3.820308  0.779881  0.008208  \n",
       "1  0.776893  0.010095  1.386274  4.330888  0.776893  0.009305  \n",
       "2  0.778339  0.008615  1.417633  3.900770  0.778339  0.008381  \n",
       "3  0.774370  0.008889  1.449445  4.320162  0.774370  0.009282  \n",
       "4  0.759527  0.014580  1.570055  7.147762  0.635348  0.015357  \n",
       "5  0.768518  0.012033  1.491091  6.161002  0.277639  0.013237  \n",
       "6  0.774344  0.009708  1.460402  5.502486  0.062581  0.011822  "
      ]
     },
     "execution_count": 39,
     "metadata": {},
     "output_type": "execute_result"
    }
   ],
   "source": [
    "df = pd.read_csv('correlation-time.csv')\n",
    "df"
   ]
  },
  {
   "cell_type": "code",
   "execution_count": 41,
   "id": "f4736a96-3ed2-4835-bd28-b68e25d0a109",
   "metadata": {},
   "outputs": [
    {
     "data": {
      "text/plain": [
       "7.189535"
      ]
     },
     "execution_count": 41,
     "metadata": {},
     "output_type": "execute_result"
    }
   ],
   "source": [
    "df['autocorrt'][0]"
   ]
  },
  {
   "cell_type": "code",
   "execution_count": 54,
   "id": "787ca2ab-e919-4cfe-b22d-f4c8403c2877",
   "metadata": {},
   "outputs": [
    {
     "data": {
      "image/png": "[encoded data removed]",
      "text/plain": [
       "<Figure size 800x600 with 4 Axes>"
      ]
     },
     "metadata": {},
     "output_type": "display_data"
    }
   ],
   "source": [
    "upper_bound1 = lim1 + 100\n",
    "upper_bound2 = lim2 + 100\n",
    "upper_bound3 = lim3 + 100\n",
    "upper_bound4 = lim4 + 100\n",
    "\n",
    "t1 = np.linspace(1, upper_bound1, upper_bound1) * 5\n",
    "t2 = np.linspace(1, upper_bound2, upper_bound2) * 5\n",
    "t3 = np.linspace(1, upper_bound3, upper_bound3) * 5\n",
    "t4 = np.linspace(1, upper_bound4, upper_bound4) * 5\n",
    "\n",
    "fig, ((ax1, ax2), (ax3, ax4)) = plt.subplots(2, 2, figsize=(8, 6), sharex=True, sharey=True)\n",
    "\n",
    "ax1.plot(t1, data1[:upper_bound1], marker='.', label=f'n = {df[\"stat\"][0]}')\n",
    "ax2.plot(t2, data2[:upper_bound2], marker='.', label=f'n = {df[\"stat\"][1]}')\n",
    "ax3.plot(t3, data3[:upper_bound3], marker='.', label=f'n = {df[\"stat\"][2]}')\n",
    "ax4.plot(t4, data4[:upper_bound4], marker='.', label=f'n = {df[\"stat\"][3]}')\n",
    "\n",
    "ax1.axvline(x = lim1 * 5, color = 'grey', label = f'exp decay {lim1}', linewidth=3)\n",
    "ax2.axvline(x = lim2 * 5, color = 'grey', label = f'exp decay {lim2}', linewidth=3)\n",
    "ax3.axvline(x = lim3 * 5, color = 'grey', label = f'exp decay {lim3}', linewidth=3)\n",
    "ax4.axvline(x = lim4 * 5, color = 'grey', label = f'exp decay {lim4}', linewidth=3)\n",
    "\n",
    "ax1.set_title(f'$\\\\tau$ = {df[\"autocorrt\"][0]}')\n",
    "ax1.grid(True) \n",
    "ax1.legend()\n",
    "\n",
    "ax2.set_title(f'$\\\\tau$ = {df[\"autocorrt\"][1]}')\n",
    "ax2.grid(True) \n",
    "ax2.legend()\n",
    "\n",
    "ax3.set_title(f'$\\\\tau$ = {df[\"autocorrt\"][2]}')\n",
    "ax3.grid(True) \n",
    "ax3.legend()\n",
    "\n",
    "ax4.set_title(f'$\\\\tau$ = {df[\"autocorrt\"][3]}')\n",
    "ax4.grid(True) \n",
    "ax4.legend()\n",
    "\n",
    "fig.supxlabel('time $t$')\n",
    "fig.supylabel('$\\chi(t)/\\chi(0)$')\n",
    "\n",
    "fig.suptitle('$\\chi(t)/\\chi(0)$ vs. time $t$ ($kT = 2.2$)', fontsize=16)\n",
    "\n",
    "#plt.title('$\\chi(t)/\\chi(0)$ vs. time $t$')\n",
    "#plt.xlabel('time $t$')\n",
    "#plt.ylabel('$\\chi(t)/\\chi(0)$')\n",
    "#plt.grid(True) \n",
    "#plt.legend()\n",
    "plt.show()"
   ]
  },
  {
   "cell_type": "code",
   "execution_count": null,
   "id": "1362a2a1-d567-455a-bf8b-b4213620b8a1",
   "metadata": {},
   "outputs": [],
   "source": []
  }
 ],
 "metadata": {
  "kernelspec": {
   "display_name": "Python 3 (ipykernel)",
   "language": "python",
   "name": "python3"
  },
  "language_info": {
   "codemirror_mode": {
    "name": "ipython",
    "version": 3
   },
   "file_extension": ".py",
   "mimetype": "text/x-python",
   "name": "python",
   "nbconvert_exporter": "python",
   "pygments_lexer": "ipython3",
   "version": "3.11.8"
  }
 },
 "nbformat": 4,
 "nbformat_minor": 5
}
