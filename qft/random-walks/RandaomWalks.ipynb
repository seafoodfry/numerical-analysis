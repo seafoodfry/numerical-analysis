{
 "cells": [
  {
   "cell_type": "code",
   "execution_count": 1,
   "id": "8f15ec56-e2f5-4a6c-8608-e1c4ebf078bb",
   "metadata": {},
   "outputs": [],
   "source": [
    "%load_ext Cython"
   ]
  },
  {
   "cell_type": "code",
   "execution_count": 9,
   "id": "8ae0b1f6-7ad6-4861-b626-f3c3193f3386",
   "metadata": {},
   "outputs": [],
   "source": [
    "def f(x):\n",
    "    return x ** 2 - x\n",
    "\n",
    "def integrate_f(a, b, N):\n",
    "    s = 0\n",
    "    dx = (b - a) / N\n",
    "    for i in range(N):\n",
    "        s += f(a + i * dx)\n",
    "    return s * dx"
   ]
  },
  {
   "cell_type": "code",
   "execution_count": 13,
   "id": "78e4d122-75fa-49a7-9585-ce488c1708ea",
   "metadata": {},
   "outputs": [
    {
     "name": "stdout",
     "output_type": "stream",
     "text": [
      "1.66 ms ± 52.5 µs per loop (mean ± std. dev. of 7 runs, 1,000 loops each)\n"
     ]
    }
   ],
   "source": [
    "%%timeit\n",
    "\n",
    "integrate_f(0, 100, 10_000)"
   ]
  },
  {
   "cell_type": "code",
   "execution_count": 11,
   "id": "8da11685-a96c-42d2-a051-506c0b1480f6",
   "metadata": {},
   "outputs": [],
   "source": [
    "%%cython\n",
    "\n",
    "def f(x):\n",
    "    return x ** 2 - x\n",
    "\n",
    "def c_integrate_f(double a, double b, int N):\n",
    "    cdef int i\n",
    "    cdef double s\n",
    "    cdef double dx\n",
    "    s = 0\n",
    "    dx = (b - a) / N\n",
    "    for i in range(N):\n",
    "        s += f(a + i * dx)\n",
    "    return s * dx"
   ]
  },
  {
   "cell_type": "code",
   "execution_count": 14,
   "id": "a1f2ea29-569e-403e-806e-55358d98760a",
   "metadata": {},
   "outputs": [
    {
     "name": "stdout",
     "output_type": "stream",
     "text": [
      "1.28 ms ± 2.42 µs per loop (mean ± std. dev. of 7 runs, 1,000 loops each)\n"
     ]
    }
   ],
   "source": [
    "%%timeit\n",
    "\n",
    "c_integrate_f(0, 100, 10_000)"
   ]
  },
  {
   "cell_type": "code",
   "execution_count": 18,
   "id": "22108595-4bc9-49f1-8afd-ad4f0a2ffe1b",
   "metadata": {},
   "outputs": [
    {
     "data": {
      "text/plain": [
       "0.771"
      ]
     },
     "execution_count": 18,
     "metadata": {},
     "output_type": "execute_result"
    }
   ],
   "source": [
    "round(1.28 / 1.66, 3)"
   ]
  },
  {
   "cell_type": "code",
   "execution_count": 29,
   "id": "905f00f7-257c-4e33-ba86-734bc6696326",
   "metadata": {},
   "outputs": [
    {
     "name": "stdout",
     "output_type": "stream",
     "text": [
      "/opt/conda/include/python3.11\n"
     ]
    }
   ],
   "source": [
    "import sysconfig\n",
    "print(sysconfig.get_paths()[\"include\"])"
   ]
  },
  {
   "cell_type": "code",
   "execution_count": 42,
   "id": "f4e285e3-5b0c-42d2-ba6d-be781a919075",
   "metadata": {},
   "outputs": [
    {
     "name": "stdout",
     "output_type": "stream",
     "text": [
      "Compiling /home/jovyan/work/Basic2D.pyx because it changed.\n",
      "[1/1] Cythonizing /home/jovyan/work/Basic2D.pyx\n"
     ]
    }
   ],
   "source": [
    "!cythonize -i Basic2D.pyx"
   ]
  },
  {
   "cell_type": "code",
   "execution_count": 43,
   "id": "edc6bde2-f4bc-4387-80f2-9d10fdbff905",
   "metadata": {},
   "outputs": [
    {
     "name": "stdout",
     "output_type": "stream",
     "text": [
      "Basic2D.cpython-311-aarch64-linux-gnu.so\n"
     ]
    }
   ],
   "source": [
    "!ls *.so"
   ]
  },
  {
   "cell_type": "code",
   "execution_count": 44,
   "id": "6419eed0-c04b-4685-a0f6-603914c3ce22",
   "metadata": {},
   "outputs": [],
   "source": [
    "!g++ -shared -pthread -fPIC -fwrapv -O2 -Wall -fno-strict-aliasing \\\n",
    "-I/opt/conda/include/python3.11 -o Basic2D.cpython-311-aarch64-linux-gnu.so Basic2D.c \\\n",
    "-L/usr/local/lib -lgsl -lgslcblas -Wl,-rpath,/usr/local/lib"
   ]
  },
  {
   "cell_type": "markdown",
   "id": "4cc9e8a9-df12-4854-9dc5-abece09b36d4",
   "metadata": {},
   "source": [
    "We had to do some debugging while figuring out how to link the cython version of the\n",
    "random walk with gslcblas.so and we ended up checking the RPATH variable as follows:\n",
    "```\n",
    "$ readelf -d Basic2D.cpython-311-aarch64-linux-gnu.so | grep RPATH\n",
    " 0x000000000000000f (RPATH)              Library rpath: [/opt/conda/lib]\n",
    "```"
   ]
  },
  {
   "cell_type": "code",
   "execution_count": 45,
   "id": "e45f712c-1dd7-4ebe-87de-cc91c9f56627",
   "metadata": {},
   "outputs": [],
   "source": [
    "import Basic2D\n",
    "Basic2D.run_random_walks()"
   ]
  },
  {
   "cell_type": "code",
   "execution_count": 46,
   "id": "1a8e475a-fd01-42f4-bd0f-a3ba5c7a920a",
   "metadata": {},
   "outputs": [
    {
     "name": "stdout",
     "output_type": "stream",
     "text": [
      "1.44 s ± 12.2 ms per loop (mean ± std. dev. of 7 runs, 1 loop each)\n"
     ]
    }
   ],
   "source": [
    "%timeit Basic2D.run_random_walks()"
   ]
  },
  {
   "cell_type": "code",
   "execution_count": 49,
   "id": "b1923fce-d945-49fa-ad8b-3213a83726ee",
   "metadata": {},
   "outputs": [
    {
     "name": "stdout",
     "output_type": "stream",
     "text": [
      "/opt/conda/lib/python3.11/site-packages/numpy/core/include\n"
     ]
    }
   ],
   "source": [
    "import numpy\n",
    "print(numpy.get_include())"
   ]
  },
  {
   "cell_type": "code",
   "execution_count": 97,
   "id": "b351796e-8cf4-4f22-8a1f-11c84e85ce52",
   "metadata": {},
   "outputs": [
    {
     "name": "stdout",
     "output_type": "stream",
     "text": [
      "Compiling /home/jovyan/work/Basic2D_pythonic.pyx because it changed.\n",
      "[1/1] Cythonizing /home/jovyan/work/Basic2D_pythonic.pyx\n"
     ]
    }
   ],
   "source": [
    "!cythonize -i Basic2D_pythonic.pyx"
   ]
  },
  {
   "cell_type": "code",
   "execution_count": 98,
   "id": "4c383330-b07a-4220-846f-56a8c8c11568",
   "metadata": {},
   "outputs": [],
   "source": [
    "!g++ -shared -pthread -fPIC -fwrapv -O2 -Wall -fno-strict-aliasing \\\n",
    "-I/opt/conda/include/python3.11 -o Basic2D_pythonic.cpython-311-aarch64-linux-gnu.so Basic2D.c \\\n",
    "-L/usr/local/lib -lgsl -lgslcblas -Wl,-rpath,/usr/local/lib"
   ]
  },
  {
   "cell_type": "code",
   "execution_count": 99,
   "id": "9fe85e12-0559-4dc6-86f2-51cb8fb260b1",
   "metadata": {},
   "outputs": [
    {
     "ename": "ValueError",
     "evalue": "Buffer dtype mismatch, expected 'int_t' but got 'int'",
     "output_type": "error",
     "traceback": [
      "\u001b[0;31m---------------------------------------------------------------------------\u001b[0m",
      "\u001b[0;31mValueError\u001b[0m                                Traceback (most recent call last)",
      "Cell \u001b[0;32mIn[99], line 3\u001b[0m\n\u001b[1;32m      1\u001b[0m \u001b[38;5;28;01mimport\u001b[39;00m \u001b[38;5;21;01mBasic2D_pythonic\u001b[39;00m\n\u001b[0;32m----> 3\u001b[0m \u001b[43mget_ipython\u001b[49m\u001b[43m(\u001b[49m\u001b[43m)\u001b[49m\u001b[38;5;241;43m.\u001b[39;49m\u001b[43mrun_line_magic\u001b[49m\u001b[43m(\u001b[49m\u001b[38;5;124;43m'\u001b[39;49m\u001b[38;5;124;43mtimeit\u001b[39;49m\u001b[38;5;124;43m'\u001b[39;49m\u001b[43m,\u001b[49m\u001b[43m \u001b[49m\u001b[38;5;124;43m'\u001b[39;49m\u001b[38;5;124;43mBasic2D_pythonic.run_random_walks_pythonic()\u001b[39;49m\u001b[38;5;124;43m'\u001b[39;49m\u001b[43m)\u001b[49m\n",
      "File \u001b[0;32m/opt/conda/lib/python3.11/site-packages/IPython/core/interactiveshell.py:2480\u001b[0m, in \u001b[0;36mInteractiveShell.run_line_magic\u001b[0;34m(self, magic_name, line, _stack_depth)\u001b[0m\n\u001b[1;32m   2478\u001b[0m     kwargs[\u001b[38;5;124m'\u001b[39m\u001b[38;5;124mlocal_ns\u001b[39m\u001b[38;5;124m'\u001b[39m] \u001b[38;5;241m=\u001b[39m \u001b[38;5;28mself\u001b[39m\u001b[38;5;241m.\u001b[39mget_local_scope(stack_depth)\n\u001b[1;32m   2479\u001b[0m \u001b[38;5;28;01mwith\u001b[39;00m \u001b[38;5;28mself\u001b[39m\u001b[38;5;241m.\u001b[39mbuiltin_trap:\n\u001b[0;32m-> 2480\u001b[0m     result \u001b[38;5;241m=\u001b[39m \u001b[43mfn\u001b[49m\u001b[43m(\u001b[49m\u001b[38;5;241;43m*\u001b[39;49m\u001b[43margs\u001b[49m\u001b[43m,\u001b[49m\u001b[43m \u001b[49m\u001b[38;5;241;43m*\u001b[39;49m\u001b[38;5;241;43m*\u001b[39;49m\u001b[43mkwargs\u001b[49m\u001b[43m)\u001b[49m\n\u001b[1;32m   2482\u001b[0m \u001b[38;5;66;03m# The code below prevents the output from being displayed\u001b[39;00m\n\u001b[1;32m   2483\u001b[0m \u001b[38;5;66;03m# when using magics with decorator @output_can_be_silenced\u001b[39;00m\n\u001b[1;32m   2484\u001b[0m \u001b[38;5;66;03m# when the last Python token in the expression is a ';'.\u001b[39;00m\n\u001b[1;32m   2485\u001b[0m \u001b[38;5;28;01mif\u001b[39;00m \u001b[38;5;28mgetattr\u001b[39m(fn, magic\u001b[38;5;241m.\u001b[39mMAGIC_OUTPUT_CAN_BE_SILENCED, \u001b[38;5;28;01mFalse\u001b[39;00m):\n",
      "File \u001b[0;32m/opt/conda/lib/python3.11/site-packages/IPython/core/magics/execution.py:1185\u001b[0m, in \u001b[0;36mExecutionMagics.timeit\u001b[0;34m(self, line, cell, local_ns)\u001b[0m\n\u001b[1;32m   1183\u001b[0m \u001b[38;5;28;01mfor\u001b[39;00m index \u001b[38;5;129;01min\u001b[39;00m \u001b[38;5;28mrange\u001b[39m(\u001b[38;5;241m0\u001b[39m, \u001b[38;5;241m10\u001b[39m):\n\u001b[1;32m   1184\u001b[0m     number \u001b[38;5;241m=\u001b[39m \u001b[38;5;241m10\u001b[39m \u001b[38;5;241m*\u001b[39m\u001b[38;5;241m*\u001b[39m index\n\u001b[0;32m-> 1185\u001b[0m     time_number \u001b[38;5;241m=\u001b[39m \u001b[43mtimer\u001b[49m\u001b[38;5;241;43m.\u001b[39;49m\u001b[43mtimeit\u001b[49m\u001b[43m(\u001b[49m\u001b[43mnumber\u001b[49m\u001b[43m)\u001b[49m\n\u001b[1;32m   1186\u001b[0m     \u001b[38;5;28;01mif\u001b[39;00m time_number \u001b[38;5;241m>\u001b[39m\u001b[38;5;241m=\u001b[39m \u001b[38;5;241m0.2\u001b[39m:\n\u001b[1;32m   1187\u001b[0m         \u001b[38;5;28;01mbreak\u001b[39;00m\n",
      "File \u001b[0;32m/opt/conda/lib/python3.11/site-packages/IPython/core/magics/execution.py:173\u001b[0m, in \u001b[0;36mTimer.timeit\u001b[0;34m(self, number)\u001b[0m\n\u001b[1;32m    171\u001b[0m gc\u001b[38;5;241m.\u001b[39mdisable()\n\u001b[1;32m    172\u001b[0m \u001b[38;5;28;01mtry\u001b[39;00m:\n\u001b[0;32m--> 173\u001b[0m     timing \u001b[38;5;241m=\u001b[39m \u001b[38;5;28;43mself\u001b[39;49m\u001b[38;5;241;43m.\u001b[39;49m\u001b[43minner\u001b[49m\u001b[43m(\u001b[49m\u001b[43mit\u001b[49m\u001b[43m,\u001b[49m\u001b[43m \u001b[49m\u001b[38;5;28;43mself\u001b[39;49m\u001b[38;5;241;43m.\u001b[39;49m\u001b[43mtimer\u001b[49m\u001b[43m)\u001b[49m\n\u001b[1;32m    174\u001b[0m \u001b[38;5;28;01mfinally\u001b[39;00m:\n\u001b[1;32m    175\u001b[0m     \u001b[38;5;28;01mif\u001b[39;00m gcold:\n",
      "File \u001b[0;32m<magic-timeit>:1\u001b[0m, in \u001b[0;36minner\u001b[0;34m(_it, _timer)\u001b[0m\n",
      "File \u001b[0;32m~/work/Basic2D_pythonic.pyx:6\u001b[0m, in \u001b[0;36mBasic2D_pythonic.run_random_walks_pythonic\u001b[0;34m()\u001b[0m\n\u001b[1;32m      4\u001b[0m cimport numpy as cnp\n\u001b[1;32m      5\u001b[0m \n\u001b[0;32m----> 6\u001b[0m cpdef run_random_walks_pythonic():\n\u001b[1;32m      7\u001b[0m     cdef int sampleSize = 100000\n\u001b[1;32m      8\u001b[0m     cdef int minLength = 1\n",
      "File \u001b[0;32m~/work/Basic2D_pythonic.pyx:19\u001b[0m, in \u001b[0;36mBasic2D_pythonic.run_random_walks_pythonic\u001b[0;34m()\u001b[0m\n\u001b[1;32m     17\u001b[0m \n\u001b[1;32m     18\u001b[0m     # Open file with Python's built-in function\n\u001b[0;32m---> 19\u001b[0m     with open(\"Basic2D_pythonic.csv\", \"w\") as output:\n\u001b[1;32m     20\u001b[0m         for totalSteps in range(minLength, maxLength + 1):\n\u001b[1;32m     21\u001b[0m             distTotal = 0\n",
      "File \u001b[0;32m~/work/Basic2D_pythonic.pyx:25\u001b[0m, in \u001b[0;36mBasic2D_pythonic.run_random_walks_pythonic\u001b[0;34m()\u001b[0m\n\u001b[1;32m     23\u001b[0m x = y = 0\n\u001b[1;32m     24\u001b[0m # Generate all directions at once for each walk\n\u001b[0;32m---> 25\u001b[0m directions = np.random.randint(0, 4, size=totalSteps).astype(np.int32)\n\u001b[1;32m     26\u001b[0m for step in range(totalSteps):\n\u001b[1;32m     27\u001b[0m     if directions[step] == 0: x += stepLength\n",
      "\u001b[0;31mValueError\u001b[0m: Buffer dtype mismatch, expected 'int_t' but got 'int'"
     ]
    }
   ],
   "source": [
    "import Basic2D_pythonic\n",
    "\n",
    "%timeit Basic2D_pythonic.run_random_walks_pythonic()"
   ]
  },
  {
   "cell_type": "code",
   "execution_count": 53,
   "id": "98672ef0-2716-4b1e-b873-58557b134cf9",
   "metadata": {},
   "outputs": [
    {
     "name": "stdout",
     "output_type": "stream",
     "text": [
      "Overwriting compile_cython.py\n"
     ]
    }
   ],
   "source": [
    "%%writefile compile_cython.py\n",
    "from Cython.Build import cythonize\n",
    "from distutils.extension import Extension\n",
    "import numpy\n",
    "\n",
    "# Define your extension and include dirs\n",
    "extensions = [\n",
    "    Extension(\"Basic2D_pythonic\", [\"Basic2D_pythonic.pyx\"], include_dirs=[numpy.get_include()])\n",
    "]\n",
    "\n",
    "# Use cythonize on the extension object\n",
    "cythonize(extensions)"
   ]
  },
  {
   "cell_type": "code",
   "execution_count": 66,
   "id": "5d53effc-e433-427c-9c44-991517bd9b12",
   "metadata": {},
   "outputs": [],
   "source": [
    "!python compile_cython.py"
   ]
  },
  {
   "cell_type": "code",
   "execution_count": 67,
   "id": "fd9b4926-7dc4-4d30-94b1-243be1b86a33",
   "metadata": {},
   "outputs": [],
   "source": [
    "!gcc -shared -pthread -fPIC -fwrapv -O2 -Wall -fno-strict-aliasing \\\n",
    "-I/opt/conda/include/python3.11 -I/opt/conda/lib/python3.11/site-packages/numpy/core/include \\\n",
    "-o Basic2D_pythonic.so Basic2D_pythonic.c \\\n",
    "-L/usr/local/lib -lgsl -lgslcblas -Wl,-rpath,/usr/local/lib \\\n",
    "-DNPY_NO_DEPRECATED_API=NPY_1_7_API_VERSION"
   ]
  },
  {
   "cell_type": "code",
   "execution_count": 81,
   "id": "02d391f1-871b-4ce5-bc6e-95d405189972",
   "metadata": {},
   "outputs": [
    {
     "data": {
      "text/plain": [
       "array([0, 3, 2])"
      ]
     },
     "execution_count": 81,
     "metadata": {},
     "output_type": "execute_result"
    }
   ],
   "source": [
    "import numpy as np\n",
    "\n",
    "np.random.randint(0, 4, size=3)"
   ]
  },
  {
   "cell_type": "code",
   "execution_count": null,
   "id": "9142332d-2a3a-4d4e-931c-cd9abaa6327f",
   "metadata": {},
   "outputs": [],
   "source": []
  }
 ],
 "metadata": {
  "kernelspec": {
   "display_name": "Python 3 (ipykernel)",
   "language": "python",
   "name": "python3"
  },
  "language_info": {
   "codemirror_mode": {
    "name": "ipython",
    "version": 3
   },
   "file_extension": ".py",
   "mimetype": "text/x-python",
   "name": "python",
   "nbconvert_exporter": "python",
   "pygments_lexer": "ipython3",
   "version": "3.11.8"
  }
 },
 "nbformat": 4,
 "nbformat_minor": 5
}
