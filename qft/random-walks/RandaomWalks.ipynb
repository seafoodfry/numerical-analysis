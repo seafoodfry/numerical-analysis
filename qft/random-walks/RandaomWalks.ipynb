{
 "cells": [
  {
   "cell_type": "code",
   "execution_count": 1,
   "id": "8f15ec56-e2f5-4a6c-8608-e1c4ebf078bb",
   "metadata": {},
   "outputs": [],
   "source": [
    "%load_ext Cython"
   ]
  },
  {
   "cell_type": "markdown",
   "id": "757fa87b-e220-4818-84ca-d755fda7645a",
   "metadata": {},
   "source": [
    "# Testing Cython"
   ]
  },
  {
   "cell_type": "code",
   "execution_count": 43,
   "id": "8ae0b1f6-7ad6-4861-b626-f3c3193f3386",
   "metadata": {},
   "outputs": [],
   "source": [
    "def f(x):\n",
    "    return x ** 2 - x\n",
    "\n",
    "def integrate_f(a, b, N):\n",
    "    s = 0\n",
    "    dx = (b - a) / N\n",
    "    for i in range(N):\n",
    "        s += f(a + i * dx)\n",
    "    return s * dx"
   ]
  },
  {
   "cell_type": "code",
   "execution_count": 13,
   "id": "78e4d122-75fa-49a7-9585-ce488c1708ea",
   "metadata": {},
   "outputs": [
    {
     "name": "stdout",
     "output_type": "stream",
     "text": [
      "1.66 ms ± 52.5 µs per loop (mean ± std. dev. of 7 runs, 1,000 loops each)\n"
     ]
    }
   ],
   "source": [
    "%%timeit\n",
    "\n",
    "integrate_f(0, 100, 10_000)"
   ]
  },
  {
   "cell_type": "code",
   "execution_count": 47,
   "id": "53f35995-44f4-4303-a74f-8a7cf93ea327",
   "metadata": {},
   "outputs": [
    {
     "name": "stdout",
     "output_type": "stream",
     "text": [
      "2.08 ms ± 794 µs per loop (mean ± std. dev. of 7 runs, 10 loops each)\n"
     ]
    }
   ],
   "source": [
    "%timeit -n 10 integrate_f(0, 100, 10_000)"
   ]
  },
  {
   "cell_type": "code",
   "execution_count": 11,
   "id": "8da11685-a96c-42d2-a051-506c0b1480f6",
   "metadata": {},
   "outputs": [],
   "source": [
    "%%cython\n",
    "\n",
    "def f(x):\n",
    "    return x ** 2 - x\n",
    "\n",
    "def c_integrate_f(double a, double b, int N):\n",
    "    cdef int i\n",
    "    cdef double s\n",
    "    cdef double dx\n",
    "    s = 0\n",
    "    dx = (b - a) / N\n",
    "    for i in range(N):\n",
    "        s += f(a + i * dx)\n",
    "    return s * dx"
   ]
  },
  {
   "cell_type": "code",
   "execution_count": 14,
   "id": "a1f2ea29-569e-403e-806e-55358d98760a",
   "metadata": {},
   "outputs": [
    {
     "name": "stdout",
     "output_type": "stream",
     "text": [
      "1.28 ms ± 2.42 µs per loop (mean ± std. dev. of 7 runs, 1,000 loops each)\n"
     ]
    }
   ],
   "source": [
    "%%timeit\n",
    "\n",
    "c_integrate_f(0, 100, 10_000)"
   ]
  },
  {
   "cell_type": "code",
   "execution_count": 18,
   "id": "22108595-4bc9-49f1-8afd-ad4f0a2ffe1b",
   "metadata": {},
   "outputs": [
    {
     "data": {
      "text/plain": [
       "0.771"
      ]
     },
     "execution_count": 18,
     "metadata": {},
     "output_type": "execute_result"
    }
   ],
   "source": [
    "round(1.28 / 1.66, 3)"
   ]
  },
  {
   "cell_type": "markdown",
   "id": "37f25b8a-088f-4f7f-8e67-598fc92a1f74",
   "metadata": {},
   "source": [
    "# A super C Cython version of our random walk"
   ]
  },
  {
   "cell_type": "code",
   "execution_count": 29,
   "id": "905f00f7-257c-4e33-ba86-734bc6696326",
   "metadata": {},
   "outputs": [
    {
     "name": "stdout",
     "output_type": "stream",
     "text": [
      "/opt/conda/include/python3.11\n"
     ]
    }
   ],
   "source": [
    "import sysconfig\n",
    "print(sysconfig.get_paths()[\"include\"])"
   ]
  },
  {
   "cell_type": "code",
   "execution_count": 24,
   "id": "f4e285e3-5b0c-42d2-ba6d-be781a919075",
   "metadata": {},
   "outputs": [
    {
     "name": "stdout",
     "output_type": "stream",
     "text": [
      "Compiling /home/jovyan/work/Basic2D.pyx because it changed.\n",
      "[1/1] Cythonizing /home/jovyan/work/Basic2D.pyx\n"
     ]
    }
   ],
   "source": [
    "!cythonize -i Basic2D.pyx"
   ]
  },
  {
   "cell_type": "code",
   "execution_count": 25,
   "id": "edc6bde2-f4bc-4387-80f2-9d10fdbff905",
   "metadata": {},
   "outputs": [
    {
     "name": "stdout",
     "output_type": "stream",
     "text": [
      "Basic2D.cpython-311-aarch64-linux-gnu.so\n",
      "Basic2D_pythonic.cpython-311-aarch64-linux-gnu.so\n"
     ]
    }
   ],
   "source": [
    "!ls *.so"
   ]
  },
  {
   "cell_type": "code",
   "execution_count": 26,
   "id": "6419eed0-c04b-4685-a0f6-603914c3ce22",
   "metadata": {},
   "outputs": [],
   "source": [
    "!g++ -shared -pthread -fPIC -fwrapv -O2 -Wall -fno-strict-aliasing \\\n",
    "-I/opt/conda/include/python3.11 -o Basic2D.cpython-311-aarch64-linux-gnu.so Basic2D.c \\\n",
    "-L/usr/local/lib -lgsl -lgslcblas -Wl,-rpath,/usr/local/lib"
   ]
  },
  {
   "cell_type": "markdown",
   "id": "4cc9e8a9-df12-4854-9dc5-abece09b36d4",
   "metadata": {},
   "source": [
    "We had to do some debugging while figuring out how to link the cython version of the\n",
    "random walk with gslcblas.so and we ended up checking the RPATH variable as follows:\n",
    "```\n",
    "$ readelf -d Basic2D.cpython-311-aarch64-linux-gnu.so | grep RPATH\n",
    " 0x000000000000000f (RPATH)              Library rpath: [/opt/conda/lib]\n",
    "```"
   ]
  },
  {
   "cell_type": "code",
   "execution_count": 27,
   "id": "e45f712c-1dd7-4ebe-87de-cc91c9f56627",
   "metadata": {},
   "outputs": [],
   "source": [
    "import Basic2D\n",
    "Basic2D.run_random_walks()"
   ]
  },
  {
   "cell_type": "code",
   "execution_count": 28,
   "id": "1a8e475a-fd01-42f4-bd0f-a3ba5c7a920a",
   "metadata": {},
   "outputs": [
    {
     "name": "stdout",
     "output_type": "stream",
     "text": [
      "1.45 s ± 23.6 ms per loop (mean ± std. dev. of 7 runs, 1 loop each)\n"
     ]
    }
   ],
   "source": [
    "%timeit Basic2D.run_random_walks()"
   ]
  },
  {
   "cell_type": "markdown",
   "id": "f9413bf9-9231-474c-ac9c-20f04f88077e",
   "metadata": {},
   "source": [
    "# A more pythonic cython version"
   ]
  },
  {
   "cell_type": "code",
   "execution_count": 49,
   "id": "b1923fce-d945-49fa-ad8b-3213a83726ee",
   "metadata": {},
   "outputs": [
    {
     "name": "stdout",
     "output_type": "stream",
     "text": [
      "/opt/conda/lib/python3.11/site-packages/numpy/core/include\n"
     ]
    }
   ],
   "source": [
    "import numpy\n",
    "print(numpy.get_include())"
   ]
  },
  {
   "cell_type": "code",
   "execution_count": 30,
   "id": "b351796e-8cf4-4f22-8a1f-11c84e85ce52",
   "metadata": {},
   "outputs": [
    {
     "name": "stdout",
     "output_type": "stream",
     "text": [
      "Compiling /home/jovyan/work/Basic2D_pythonic.pyx because it changed.\n",
      "[1/1] Cythonizing /home/jovyan/work/Basic2D_pythonic.pyx\n"
     ]
    }
   ],
   "source": [
    "!cythonize -i Basic2D_pythonic.pyx"
   ]
  },
  {
   "cell_type": "code",
   "execution_count": 31,
   "id": "b0a31e07-3add-41c6-bd23-97dddbef6465",
   "metadata": {},
   "outputs": [
    {
     "name": "stdout",
     "output_type": "stream",
     "text": [
      "Basic2D.c\n",
      "Basic2D.cpython-311-aarch64-linux-gnu.so\n",
      "Basic2D_pythonic.c\n",
      "Basic2D_pythonic.cpython-311-aarch64-linux-gnu.so\n"
     ]
    }
   ],
   "source": [
    "!ls *.so *.c"
   ]
  },
  {
   "cell_type": "code",
   "execution_count": 32,
   "id": "2e2b0197-0b6d-4126-9341-90c12021d23f",
   "metadata": {},
   "outputs": [],
   "source": [
    "!g++ -shared -pthread -fPIC -fwrapv -O2 -Wall -fno-strict-aliasing \\\n",
    "-I/opt/conda/include/python3.11 -o Basic2D_pythonic.cpython-311-aarch64-linux-gnu.so Basic2D_pythonic.c"
   ]
  },
  {
   "cell_type": "code",
   "execution_count": 48,
   "id": "3c8640ec-4b30-413a-bc73-6e28dce2e080",
   "metadata": {},
   "outputs": [
    {
     "name": "stdout",
     "output_type": "stream",
     "text": [
      "58.9 s ± 120 ms per loop (mean ± std. dev. of 3 runs, 2 loops each)\n"
     ]
    }
   ],
   "source": [
    "import Basic2D_pythonic\n",
    "%timeit -n 2 -r 3 Basic2D_pythonic.run_random_walks_pythonic()"
   ]
  },
  {
   "cell_type": "code",
   "execution_count": 3,
   "id": "02d391f1-871b-4ce5-bc6e-95d405189972",
   "metadata": {},
   "outputs": [
    {
     "data": {
      "text/plain": [
       "array([2, 2, 2])"
      ]
     },
     "execution_count": 3,
     "metadata": {},
     "output_type": "execute_result"
    }
   ],
   "source": [
    "import numpy as np\n",
    "\n",
    "np.random.randint(0, 4, size=3)"
   ]
  },
  {
   "cell_type": "code",
   "execution_count": 7,
   "id": "9142332d-2a3a-4d4e-931c-cd9abaa6327f",
   "metadata": {},
   "outputs": [
    {
     "name": "stdout",
     "output_type": "stream",
     "text": [
      "[1 0 0 1 3 2 2 2 3 3]\n"
     ]
    }
   ],
   "source": [
    "%%cython\n",
    "\n",
    "import numpy as np\n",
    "\n",
    "directions = np.random.randint(0, 4, size=10)\n",
    "print(directions)"
   ]
  },
  {
   "cell_type": "code",
   "execution_count": 36,
   "id": "d54f0f5c-1a4d-4b84-9a16-3419a748883f",
   "metadata": {},
   "outputs": [],
   "source": [
    "%%cython\n",
    "\n",
    "import numpy as np\n",
    "\n",
    "cpdef run_random_walks_pythonic():\n",
    "    cdef int sampleSize = 100\n",
    "    cdef int minLength = 1\n",
    "    cdef int maxLength = 50\n",
    "    cdef int x, y\n",
    "    cdef int stepLength = 1\n",
    "    cdef int totalSteps, test, step\n",
    "    cdef double dist, distTotal, distAvg\n",
    "\n",
    "    for totalSteps in range(minLength, maxLength + 1):\n",
    "        distTotal = 0\n",
    "        for test in range(sampleSize):\n",
    "            x = y = 0        \n",
    "            directions = np.random.randint(0, 4, size=totalSteps)\n",
    "\n",
    "            # Do the entire random walk.\n",
    "            for step in range(totalSteps):\n",
    "                # Directly use directions with Pythonic indexing\n",
    "                direction = directions[step]\n",
    "                if direction == 0: x += stepLength\n",
    "                elif direction == 1: y += stepLength\n",
    "                elif direction == 2: x -= stepLength\n",
    "                else: y -= stepLength\n",
    "\n",
    "            # Now that the walk is over, let's see how far we got.\n",
    "            dist = x * x + y * y\n",
    "            distTotal += dist\n",
    "\n",
    "        print(totalSteps)\n",
    "        distAvg = distTotal / sampleSize\n",
    "        with open(\"Basic2D_pythonic.csv\", \"a\") as output:\n",
    "            output.write(f\"{totalSteps},\\t{distAvg:.3f}\\n\")\n",
    "\n",
    "run_random_walks_pythonic()"
   ]
  },
  {
   "cell_type": "code",
   "execution_count": 51,
   "id": "98672ef0-2716-4b1e-b873-58557b134cf9",
   "metadata": {},
   "outputs": [
    {
     "name": "stdout",
     "output_type": "stream",
     "text": [
      "Writing compile_cython.py\n"
     ]
    }
   ],
   "source": [
    "%%writefile compile_cython.py\n",
    "# We used this to cythonize a cython app and to tell it where to look for\n",
    "# header files.\n",
    "\n",
    "from Cython.Build import cythonize\n",
    "from distutils.extension import Extension\n",
    "import numpy\n",
    "\n",
    "# Define your extension and include dirs\n",
    "extensions = [\n",
    "    Extension(\"Basic2D_pythonic\", [\"Basic2D_pythonic.pyx\"], include_dirs=[numpy.get_include()])\n",
    "]\n",
    "\n",
    "# Use cythonize on the extension object\n",
    "cythonize(extensions)"
   ]
  },
  {
   "cell_type": "code",
   "execution_count": 66,
   "id": "5d53effc-e433-427c-9c44-991517bd9b12",
   "metadata": {},
   "outputs": [],
   "source": [
    "!python compile_cython.py"
   ]
  },
  {
   "cell_type": "code",
   "execution_count": 67,
   "id": "fd9b4926-7dc4-4d30-94b1-243be1b86a33",
   "metadata": {},
   "outputs": [],
   "source": [
    "!gcc -shared -pthread -fPIC -fwrapv -O2 -Wall -fno-strict-aliasing \\\n",
    "-I/opt/conda/include/python3.11 -I/opt/conda/lib/python3.11/site-packages/numpy/core/include \\\n",
    "-o Basic2D_pythonic.so Basic2D_pythonic.c \\\n",
    "-L/usr/local/lib -lgsl -lgslcblas -Wl,-rpath,/usr/local/lib \\\n",
    "-DNPY_NO_DEPRECATED_API=NPY_1_7_API_VERSION"
   ]
  },
  {
   "cell_type": "markdown",
   "id": "2c48d0ce-2d52-4a3f-844b-48c309bf8460",
   "metadata": {},
   "source": [
    "# Analysis"
   ]
  },
  {
   "cell_type": "code",
   "execution_count": 61,
   "id": "acd7f54b-9ced-4a64-9412-c768c01f8e14",
   "metadata": {},
   "outputs": [],
   "source": [
    "import pandas as pd\n",
    "import matplotlib.pyplot as plt"
   ]
  },
  {
   "cell_type": "code",
   "execution_count": 57,
   "id": "c8874573-df6f-4627-9cd9-879e0bab0f1a",
   "metadata": {},
   "outputs": [
    {
     "data": {
      "text/html": [
       "<div>\n",
       "<style scoped>\n",
       "    .dataframe tbody tr th:only-of-type {\n",
       "        vertical-align: middle;\n",
       "    }\n",
       "\n",
       "    .dataframe tbody tr th {\n",
       "        vertical-align: top;\n",
       "    }\n",
       "\n",
       "    .dataframe thead th {\n",
       "        text-align: right;\n",
       "    }\n",
       "</style>\n",
       "<table border=\"1\" class=\"dataframe\">\n",
       "  <thead>\n",
       "    <tr style=\"text-align: right;\">\n",
       "      <th></th>\n",
       "      <th>0</th>\n",
       "      <th>1</th>\n",
       "    </tr>\n",
       "  </thead>\n",
       "  <tbody>\n",
       "    <tr>\n",
       "      <th>0</th>\n",
       "      <td>1</td>\n",
       "      <td>1.000</td>\n",
       "    </tr>\n",
       "    <tr>\n",
       "      <th>1</th>\n",
       "      <td>2</td>\n",
       "      <td>1.994</td>\n",
       "    </tr>\n",
       "    <tr>\n",
       "      <th>2</th>\n",
       "      <td>3</td>\n",
       "      <td>2.987</td>\n",
       "    </tr>\n",
       "    <tr>\n",
       "      <th>3</th>\n",
       "      <td>4</td>\n",
       "      <td>3.997</td>\n",
       "    </tr>\n",
       "    <tr>\n",
       "      <th>4</th>\n",
       "      <td>5</td>\n",
       "      <td>4.991</td>\n",
       "    </tr>\n",
       "  </tbody>\n",
       "</table>\n",
       "</div>"
      ],
      "text/plain": [
       "   0      1\n",
       "0  1  1.000\n",
       "1  2  1.994\n",
       "2  3  2.987\n",
       "3  4  3.997\n",
       "4  5  4.991"
      ]
     },
     "execution_count": 57,
     "metadata": {},
     "output_type": "execute_result"
    }
   ],
   "source": [
    "df = pd.read_csv(\"Basic2D.csv\", header=None)\n",
    "df.head()"
   ]
  },
  {
   "cell_type": "code",
   "execution_count": 59,
   "id": "8726905a-78bf-4e61-aadb-c133756e8a87",
   "metadata": {},
   "outputs": [
    {
     "data": {
      "text/plain": [
       "array([ 1,  2,  3,  4,  5,  6,  7,  8,  9, 10, 11, 12, 13, 14, 15, 16, 17,\n",
       "       18, 19, 20, 21, 22, 23, 24, 25, 26, 27, 28, 29, 30, 31, 32, 33, 34,\n",
       "       35, 36, 37, 38, 39, 40, 41, 42, 43, 44, 45, 46, 47, 48, 49, 50])"
      ]
     },
     "execution_count": 59,
     "metadata": {},
     "output_type": "execute_result"
    }
   ],
   "source": [
    "df[0].values"
   ]
  },
  {
   "cell_type": "code",
   "execution_count": 60,
   "id": "00bda03b-75d8-4c48-a888-fc0caf77afb8",
   "metadata": {},
   "outputs": [
    {
     "data": {
      "text/plain": [
       "array([ 1.   ,  1.994,  2.987,  3.997,  4.991,  5.988,  7.001,  8.026,\n",
       "        9.067, 10.006, 11.012, 12.029, 12.993, 14.011, 14.932, 15.958,\n",
       "       17.035, 18.009, 19.008, 19.95 , 20.924, 22.074, 22.902, 23.987,\n",
       "       25.045, 26.019, 27.024, 28.011, 28.988, 29.863, 31.119, 31.96 ,\n",
       "       32.91 , 33.917, 34.914, 36.112, 37.18 , 37.899, 39.102, 39.948,\n",
       "       41.195, 42.143, 43.087, 43.923, 45.151, 46.075, 47.142, 48.106,\n",
       "       49.166, 49.794])"
      ]
     },
     "execution_count": 60,
     "metadata": {},
     "output_type": "execute_result"
    }
   ],
   "source": [
    "df[1].values"
   ]
  },
  {
   "cell_type": "code",
   "execution_count": 73,
   "id": "692adcd6-56a2-4589-b250-eb2703f9db7b",
   "metadata": {},
   "outputs": [
    {
     "data": {
      "image/png": "[encoded data removed]",
      "text/plain": [
       "<Figure size 640x480 with 1 Axes>"
      ]
     },
     "metadata": {},
     "output_type": "display_data"
    }
   ],
   "source": [
    "l = 1\n",
    "x = np.linspace(1, 50, num=40)\n",
    "predicted = x * l * l\n",
    "\n",
    "plt.plot(x, predicted, marker=\".\", color=\"red\", label=\"$<x^2> = N l^2$\")\n",
    "\n",
    "plt.plot(df[0].values, df[1].values, marker=\"^\", color=\"black\", alpha=0.5, label=\"Empirical values\")\n",
    "\n",
    "plt.legend()\n",
    "plt.show()"
   ]
  },
  {
   "cell_type": "code",
   "execution_count": null,
   "id": "617de87b-415e-4f7e-91e1-8e452c193e75",
   "metadata": {},
   "outputs": [],
   "source": []
  }
 ],
 "metadata": {
  "kernelspec": {
   "display_name": "Python 3 (ipykernel)",
   "language": "python",
   "name": "python3"
  },
  "language_info": {
   "codemirror_mode": {
    "name": "ipython",
    "version": 3
   },
   "file_extension": ".py",
   "mimetype": "text/x-python",
   "name": "python",
   "nbconvert_exporter": "python",
   "pygments_lexer": "ipython3",
   "version": "3.11.8"
  }
 },
 "nbformat": 4,
 "nbformat_minor": 5
}
