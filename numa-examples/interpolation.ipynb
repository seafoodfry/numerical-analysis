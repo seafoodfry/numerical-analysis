{
 "cells": [
  {
   "cell_type": "code",
   "execution_count": 1,
   "id": "2b4a595c-7b9a-42d7-86ea-0041d6d4e0d7",
   "metadata": {},
   "outputs": [],
   "source": [
    "import numpy as np"
   ]
  },
  {
   "cell_type": "code",
   "execution_count": 2,
   "id": "df2c4a9a-d041-4afe-9dc7-01053eff1c85",
   "metadata": {},
   "outputs": [],
   "source": [
    "x = [0, 2, 3]\n",
    "y = [1, 2, 4]"
   ]
  },
  {
   "cell_type": "code",
   "execution_count": 3,
   "id": "ad58d8ac-eb8b-40f4-8f2d-c21b574f9d47",
   "metadata": {},
   "outputs": [
    {
     "data": {
      "text/plain": [
       "3"
      ]
     },
     "execution_count": 3,
     "metadata": {},
     "output_type": "execute_result"
    }
   ],
   "source": [
    "n = len(x)\n",
    "n"
   ]
  },
  {
   "cell_type": "code",
   "execution_count": 4,
   "id": "742e789d-ff06-4b87-87e0-30475dc34b21",
   "metadata": {},
   "outputs": [
    {
     "data": {
      "text/plain": [
       "array([[0., 0., 0.],\n",
       "       [0., 0., 0.],\n",
       "       [0., 0., 0.]])"
      ]
     },
     "execution_count": 4,
     "metadata": {},
     "output_type": "execute_result"
    }
   ],
   "source": [
    "v = np.zeros([n, n])\n",
    "v"
   ]
  },
  {
   "cell_type": "code",
   "execution_count": 5,
   "id": "c620528f-80ba-49b8-afcc-efd844a3d855",
   "metadata": {},
   "outputs": [
    {
     "data": {
      "text/plain": [
       "array([[1., 0., 0.],\n",
       "       [2., 0., 0.],\n",
       "       [4., 0., 0.]])"
      ]
     },
     "execution_count": 5,
     "metadata": {},
     "output_type": "execute_result"
    }
   ],
   "source": [
    "v[:, 0] = y\n",
    "v"
   ]
  },
  {
   "cell_type": "code",
   "execution_count": 6,
   "id": "0824061e-1e35-4c6f-9745-cf8ba4f7567b",
   "metadata": {},
   "outputs": [
    {
     "name": "stdout",
     "output_type": "stream",
     "text": [
      "i = 1\n",
      "j = 0\n",
      "\tx_left = 2 and x_right = 0\n",
      "\tf_left = 2.0 and f_right = 1.0\n",
      "j = 1\n",
      "\tx_left = 3 and x_right = 2\n",
      "\tf_left = 4.0 and f_right = 2.0\n",
      "i = 2\n",
      "j = 0\n",
      "\tx_left = 3 and x_right = 0\n",
      "\tf_left = 2.0 and f_right = 0.5\n"
     ]
    }
   ],
   "source": [
    "for i in range(1,n):\n",
    "    print(f\"i = {i}\")\n",
    "    for j in range(0, n-i):\n",
    "        print(f\"j = {j}\")\n",
    "        \n",
    "        x_left  = x[j+i]\n",
    "        x_right = x[j]\n",
    "        print(f\"\\tx_left = {x_left} and x_right = {x_right}\")\n",
    "\n",
    "        f_left  = v[j+1,i-1]\n",
    "        f_right = v[j,  i-1]\n",
    "        print(f\"\\tf_left = {f_left} and f_right = {f_right}\")\n",
    "\n",
    "        v[j, i] = (f_left - f_right) / (x_left - x_right)"
   ]
  },
  {
   "cell_type": "code",
   "execution_count": 7,
   "id": "b8eeda08-e7fe-4f55-b00a-d54badc4348f",
   "metadata": {},
   "outputs": [
    {
     "data": {
      "text/plain": [
       "array([[1. , 0.5, 0.5],\n",
       "       [2. , 2. , 0. ],\n",
       "       [4. , 0. , 0. ]])"
      ]
     },
     "execution_count": 7,
     "metadata": {},
     "output_type": "execute_result"
    }
   ],
   "source": [
    "v"
   ]
  },
  {
   "cell_type": "code",
   "execution_count": 8,
   "id": "b321774b-1fb7-48c5-bd90-5702bbc29908",
   "metadata": {},
   "outputs": [
    {
     "data": {
      "text/plain": [
       "array([1. , 0.5, 0.5])"
      ]
     },
     "execution_count": 8,
     "metadata": {},
     "output_type": "execute_result"
    }
   ],
   "source": [
    "v[0,:]"
   ]
  },
  {
   "cell_type": "code",
   "execution_count": 9,
   "id": "b3cec4ce-211a-4ebf-99cf-a51ecb8283c6",
   "metadata": {},
   "outputs": [],
   "source": [
    "import sys\n",
    "sys.path.append(\"..\")\n",
    "from numa.horner import horner_simple_polynomial_evaluation"
   ]
  },
  {
   "cell_type": "code",
   "execution_count": 10,
   "id": "c271b4cc-f06a-42ec-b569-5701ee350859",
   "metadata": {},
   "outputs": [
    {
     "name": "stdout",
     "output_type": "stream",
     "text": [
      "[1.  0.5 0.5]\n",
      "first coefficient: 0.5\n",
      "0.5 + x*0.5\n",
      "1.0 + x*-0.5\n"
     ]
    },
    {
     "data": {
      "text/plain": [
       "1.0"
      ]
     },
     "execution_count": 10,
     "metadata": {},
     "output_type": "execute_result"
    }
   ],
   "source": [
    "print(v[0,:])\n",
    "horner_simple_polynomial_evaluation(v[0,:], 0, b=x) "
   ]
  },
  {
   "cell_type": "code",
   "execution_count": 11,
   "id": "308daea5-04fa-4921-b63b-61bb7fdf8c43",
   "metadata": {},
   "outputs": [
    {
     "name": "stdout",
     "output_type": "stream",
     "text": [
      "[1.  0.5 0.5]\n",
      "first coefficient: 0.5\n",
      "0.5 + x*0.5\n",
      "1.0 + x*0.5\n"
     ]
    },
    {
     "data": {
      "text/plain": [
       "1.0"
      ]
     },
     "execution_count": 11,
     "metadata": {},
     "output_type": "execute_result"
    }
   ],
   "source": [
    "print(v[0,:])\n",
    "horner_simple_polynomial_evaluation(v[0,:], 0)"
   ]
  },
  {
   "cell_type": "code",
   "execution_count": 12,
   "id": "c5a4d1f4-f4b2-4e7a-9b03-63a5073e7c01",
   "metadata": {},
   "outputs": [
    {
     "name": "stdout",
     "output_type": "stream",
     "text": [
      "first coefficient: 0.5\n",
      "0.5 + x*0.5\n",
      "1.0 + x*0.5\n"
     ]
    },
    {
     "data": {
      "text/plain": [
       "2.0"
      ]
     },
     "execution_count": 12,
     "metadata": {},
     "output_type": "execute_result"
    }
   ],
   "source": [
    "# P_2 (2) = 2.\n",
    "horner_simple_polynomial_evaluation(v[0,:], 2, b=x)"
   ]
  },
  {
   "cell_type": "code",
   "execution_count": 14,
   "id": "40dbe8c4-1ba9-4e5b-a891-18bef75db964",
   "metadata": {},
   "outputs": [
    {
     "name": "stdout",
     "output_type": "stream",
     "text": [
      "first coefficient: 0.5\n",
      "0.5 + x*0.5\n",
      "1.0 + x*1.0\n"
     ]
    },
    {
     "data": {
      "text/plain": [
       "4.0"
      ]
     },
     "execution_count": 14,
     "metadata": {},
     "output_type": "execute_result"
    }
   ],
   "source": [
    "# P_2 (3) = 4.\n",
    "horner_simple_polynomial_evaluation(v[0,:], 3, b=x)"
   ]
  },
  {
   "cell_type": "code",
   "execution_count": null,
   "id": "5073a799-a5b8-4ebd-88e5-2df4aada9818",
   "metadata": {},
   "outputs": [],
   "source": []
  }
 ],
 "metadata": {
  "kernelspec": {
   "display_name": "Python 3 (ipykernel)",
   "language": "python",
   "name": "python3"
  },
  "language_info": {
   "codemirror_mode": {
    "name": "ipython",
    "version": 3
   },
   "file_extension": ".py",
   "mimetype": "text/x-python",
   "name": "python",
   "nbconvert_exporter": "python",
   "pygments_lexer": "ipython3",
   "version": "3.11.8"
  }
 },
 "nbformat": 4,
 "nbformat_minor": 5
}
