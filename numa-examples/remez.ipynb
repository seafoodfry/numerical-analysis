{
 "cells": [
  {
   "cell_type": "markdown",
   "metadata": {},
   "source": [
    "# Remez Algorithm"
   ]
  },
  {
   "cell_type": "markdown",
   "metadata": {},
   "source": [
    "We are working backwards from\n",
    "[github.com/DKenefake/OptimalPoly](https://github.com/DKenefake/OptimalPoly/blob/main/remez_poly.py)."
   ]
  },
  {
   "cell_type": "code",
   "execution_count": 45,
   "metadata": {},
   "outputs": [],
   "source": [
    "\"\"\"\n",
    "Taken from https://github.com/DKenefake/OptimalPoly/blob/main/remez_poly.py\n",
    "\"\"\"\n",
    "from mpmath import mp\n",
    "import numpy\n",
    "\n",
    "\n",
    "def bisection_search(f, low:float, high:float):\n",
    "    \"\"\"\n",
    "    A root finding method that does not rely on derivatives\n",
    "\n",
    "    :param f: a function f: X -> R\n",
    "    :param low: the lower bracket\n",
    "    :param high: the upper limit bracket\n",
    "    :return: the location of the root, e.g. f(mid) ~ 0\n",
    "    \"\"\"\n",
    "    # flip high and low if out of order\n",
    "    if f(high) < f(low):\n",
    "        low, high = high, low\n",
    "\n",
    "    # find mid point\n",
    "    mid = .5 * (low + high)\n",
    "\n",
    "    while True:\n",
    "\n",
    "        # bracket up\n",
    "        if f(mid) < 0:\n",
    "            low = mid\n",
    "        # braket down\n",
    "        else:\n",
    "            high = mid\n",
    "\n",
    "        # update mid point\n",
    "        mid = .5 * (high + low)\n",
    "\n",
    "        # break if condition met\n",
    "        if abs(high - low) < 10 ** (-(mp.dps / 2)):\n",
    "            break\n",
    "\n",
    "    return mid\n",
    "\n",
    "\n",
    "def concave_max(f, low:float, high:float):\n",
    "    \"\"\"\n",
    "    Forms a lambda for the approximate derivative and finds the root\n",
    "\n",
    "    :param f: a function f: X -> R\n",
    "    :param low: the lower bracket\n",
    "    :param high: the upper limit bracket\n",
    "    :return: the location of the root f'(mid) ~ 0\n",
    "    \"\"\"\n",
    "    # create an approximate derivative expression\n",
    "    scale = high - low\n",
    "\n",
    "    h = mp.mpf('0.' + ''.join(['0' for i in range(int(mp.dps / 1.5))]) + '1') * scale\n",
    "    df = lambda x: (f(x + h) - f(x - h)) / (2.0 * h)\n",
    "\n",
    "    return bisection_search(df, low, high)\n",
    "\n",
    "def chev_points(n:int, lower:float = -1, upper:float = 1):\n",
    "    \"\"\"\n",
    "    Generates a set of chebychev points spaced in the range [lower, upper]\n",
    "    :param n: number of points\n",
    "    :param lower: lower limit\n",
    "    :param upper: upper limit\n",
    "    :return: a list of multipressison chebychev points that are in the range [lower, upper]\n",
    "    \"\"\"\n",
    "    #generate chebeshev points on a range [-1, 1]\n",
    "    index = numpy.arange(1, n+1)\n",
    "    range_ = abs(upper - lower)\n",
    "    return [(.5*(mp.cos((2*i-1)/(2*n)*mp.pi)+1))*range_ + lower for i in index]\n",
    "\n",
    "\n",
    "def remez(func, n_degree:int, lower:float=-1, upper:float=1, max_iter:int = 10):\n",
    "    \"\"\"\n",
    "    :param func: a function (or lambda) f: X -> R\n",
    "    :param n_degree: the degree of the polynomial to approximate the function f\n",
    "    :param lower: lower range of the approximation\n",
    "    :param upper: upper range of the approximation\n",
    "    :return: the polynomial coefficients, and an approximate maximum error associated with this approximation\n",
    "    \"\"\"\n",
    "    # initialize the node points\n",
    "\n",
    "    x_points = chev_points(n_degree + 2, lower, upper)\n",
    "\n",
    "    A = mp.matrix(n_degree + 2)\n",
    "    coeffs = numpy.zeros(n_degree + 2)\n",
    "\n",
    "    # place in the E column\n",
    "    mean_error = float('inf')\n",
    "\n",
    "    for i in range(n_degree + 2):\n",
    "        A[i, n_degree + 1] = (-1) ** (i + 1)\n",
    "\n",
    "    for i in range(max_iter):\n",
    "\n",
    "        # build the system\n",
    "        vander = numpy.polynomial.chebyshev.chebvander(x_points, n_degree)\n",
    "\n",
    "        for i in range(n_degree + 2):\n",
    "            for j in range(n_degree + 1):\n",
    "                A[i, j] = vander[i, j]\n",
    "\n",
    "        b = mp.matrix([func(x) for x in x_points])\n",
    "        l = mp.lu_solve(A, b)\n",
    "\n",
    "        coeffs = l[:-1]\n",
    "\n",
    "        # build the residual expression\n",
    "        r_i = lambda x: (func(x) - numpy.polynomial.chebyshev.chebval(x, coeffs))\n",
    "\n",
    "        interval_list = list(zip(x_points, x_points[1:]))\n",
    "        #         interval_list = [[x_points[i], x_points[i+1]] for i in range(len(x_points)-1)]\n",
    "\n",
    "        intervals = [upper]\n",
    "        intervals.extend([bisection_search(r_i, *i) for i in interval_list])\n",
    "        intervals.append(lower)\n",
    "\n",
    "        extermum_interval = [[intervals[i], intervals[i + 1]] for i in range(len(intervals) - 1)]\n",
    "\n",
    "        extremums = [concave_max(r_i, *i) for i in extermum_interval]\n",
    "\n",
    "        extremums[0] = mp.mpf(upper)\n",
    "        extremums[-1] = mp.mpf(lower)\n",
    "\n",
    "        errors = [abs(r_i(i)) for i in extremums]\n",
    "        mean_error = numpy.mean(errors)\n",
    "\n",
    "        if numpy.max([abs(error - mean_error) for error in errors]) < 0.000001 * mean_error:\n",
    "            break\n",
    "\n",
    "        x_points = extremums\n",
    "\n",
    "    return [float(i) for i in numpy.polynomial.chebyshev.cheb2poly(coeffs)], float(mean_error)\n",
    "\n",
    "def c_code_gen(data_type, name, poly_coeffs, comments = None):\n",
    "    method_string = f'{data_type} {name} ({data_type} x)' + '{\\n'\n",
    "    \n",
    "    if comments is not None:\n",
    "        method_string += '\\t// ' + str(comments) + ' \\n\\n'\n",
    "    \n",
    "    data_type_converter = '' if data_type == 'double' else 'f'\n",
    "    \n",
    "    method_string += '\\n'.join([f'\\tconst {data_type} a_{i} = {str(val) + data_type_converter};' for i, val in enumerate(poly_coeffs)])\n",
    "    \n",
    "    horner = 'return a_0+'\n",
    "    for i in range(len(poly_coeffs)-2):\n",
    "        horner += f'x*(a_{i+1} +' \n",
    "    horner += f'x*a_{len(poly_coeffs)-1}' + ')'*(len(poly_coeffs)-2) + ';\\n}'\n",
    "    \n",
    "    return method_string + '\\n \\t' + horner"
   ]
  },
  {
   "cell_type": "markdown",
   "metadata": {},
   "source": [
    "## Step by Step"
   ]
  },
  {
   "cell_type": "markdown",
   "metadata": {},
   "source": [
    "### Chebyshev Points"
   ]
  },
  {
   "cell_type": "code",
   "execution_count": 2,
   "metadata": {},
   "outputs": [],
   "source": [
    "from mpmath import mp\n",
    "import numpy as np"
   ]
  },
  {
   "cell_type": "code",
   "execution_count": 17,
   "metadata": {},
   "outputs": [
    {
     "data": {
      "text/plain": [
       "array([1, 2, 3, 4, 5])"
      ]
     },
     "execution_count": 17,
     "metadata": {},
     "output_type": "execute_result"
    }
   ],
   "source": [
    "n = 5\n",
    "lower = -1\n",
    "upper = 1\n",
    "\n",
    "index = np.arange(1, n+1)\n",
    "index"
   ]
  },
  {
   "cell_type": "code",
   "execution_count": 20,
   "metadata": {},
   "outputs": [
    {
     "data": {
      "text/plain": [
       "[mpf('0.95105651629515364'),\n",
       " mpf('0.58778525229247314'),\n",
       " mpf('0.0'),\n",
       " mpf('-0.58778525229247303'),\n",
       " mpf('-0.95105651629515353')]"
      ]
     },
     "execution_count": 20,
     "metadata": {},
     "output_type": "execute_result"
    }
   ],
   "source": [
    "range_ = abs(upper - lower)\n",
    "\n",
    "# Chebyshev polynomial of degree n = 5.\n",
    "T_5 = [(.5*(mp.cos((2*i-1)/(2*n)*mp.pi)+1))*range_ + lower for i in index]\n",
    "T_5"
   ]
  },
  {
   "cell_type": "code",
   "execution_count": 21,
   "metadata": {},
   "outputs": [
    {
     "data": {
      "text/plain": [
       "(mpf('0.95105651629515353'),\n",
       " np.float64(0.9510565162951535),\n",
       " mpf('0.95105651629515353'))"
      ]
     },
     "execution_count": 21,
     "metadata": {},
     "output_type": "execute_result"
    }
   ],
   "source": [
    "mp.cos(mp.pi / 10), np.cos(np.pi / 10), mp.cos(np.pi / 10)"
   ]
  },
  {
   "cell_type": "code",
   "execution_count": 22,
   "metadata": {},
   "outputs": [
    {
     "data": {
      "text/plain": [
       "mpf('1.1102230246251565e-16')"
      ]
     },
     "execution_count": 22,
     "metadata": {},
     "output_type": "execute_result"
    }
   ],
   "source": [
    "# 0.951056516295153 64\n",
    "# 0.951056516295153 53\n",
    "mp.mpf('0.95105651629515364') - mp.cos(mp.pi / 10)"
   ]
  },
  {
   "cell_type": "markdown",
   "metadata": {},
   "source": [
    "The Chebyshev roots for the Chebyshev polynomial of degree 5 are\n",
    "$$\n",
    "\\cos\\left( \\frac{  \\pi}{10} \\right),\n",
    "\\cos\\left( \\frac{3 \\pi}{10} \\right),\n",
    "\\cos\\left( \\frac{5 \\pi}{10} \\right),\n",
    "\\cos\\left( \\frac{7 \\pi}{10} \\right),\n",
    "\\cos\\left( \\frac{9 \\pi}{10} \\right)\n",
    "$$"
   ]
  },
  {
   "cell_type": "code",
   "execution_count": 39,
   "metadata": {},
   "outputs": [
    {
     "name": "stdout",
     "output_type": "stream",
     "text": [
      "0.0000000000000001\n",
      "0.0000000000000000\n",
      "-0.0000000000000001\n",
      "0.0000000000000000\n",
      "0.0000000000000000\n"
     ]
    }
   ],
   "source": [
    "for idx, coef in enumerate([1, 3, 5, 7, 9]):  # Coefficients of the Chebyshev roots.\n",
    "    cheb_root = mp.cos( (coef/10)*mp.pi )\n",
    "    diff = float( T_5[idx] - cheb_root )\n",
    "    print(f\"{diff:.16f}\")"
   ]
  },
  {
   "cell_type": "markdown",
   "metadata": {},
   "source": [
    "The general formula for the chebyshev roots, once you stretch them to cover the range $[a, b]$\n",
    "from their original domain of $[-1, 1]$\n",
    "and you translate their center of mass from $0$ to the midpoint of $[a, b]$, is\n",
    "$$\n",
    "\\frac{b-a}{2} \\cos \\left( \\frac{\\text{odd }\\pi}{2n} \\right)\n",
    "    + \\frac{b+a}{2}\n",
    "$$\n",
    "\n",
    "See \"Numerical Analysis\" 2nd Ed. by Timothy Sauer, Section 3.3.3, Page 162.\n",
    "\n",
    "Another way of expressing the above is to say that on the interval $[a, b]$,\n",
    "$$\n",
    "x_i = \\frac{b+a}{2}\n",
    "    + \\frac{b-a}{2} \n",
    "        \\cos \\left( \\frac{(2i - 1)\\pi}{2n} \\right)\n",
    "$$\n",
    "for $i = 1, \\dots, n$.\n",
    "\n",
    "Or\n",
    "$$\n",
    "x_i = \\frac{b-a}{2} \n",
    "        \\left[ \n",
    "            \\cos \\left( \\frac{(2i - 1)\\pi}{2n} \\right)\n",
    "            + 1\n",
    "        \\right]\n",
    "    + a\n",
    "$$\n",
    "\n",
    "We show this other expression because people use it and its good to not get confused by it.\n",
    "This is actually the formula we started using.\n",
    "It is easier to see it once we reorganize it a tad."
   ]
  },
  {
   "cell_type": "code",
   "execution_count": 42,
   "metadata": {},
   "outputs": [
    {
     "data": {
      "text/plain": [
       "[mpf('0.95105651629515364'),\n",
       " mpf('0.58778525229247314'),\n",
       " mpf('0.0'),\n",
       " mpf('-0.58778525229247303'),\n",
       " mpf('-0.95105651629515353')]"
      ]
     },
     "execution_count": 42,
     "metadata": {},
     "output_type": "execute_result"
    }
   ],
   "source": [
    "n = 5\n",
    "lower = -1\n",
    "upper = 1\n",
    "range_ = abs(upper - lower)\n",
    "\n",
    "[\n",
    "    (\n",
    "        .5*(\n",
    "            mp.cos((2*i-1)/(2*n)*mp.pi) + 1\n",
    "        )\n",
    "    )*range_ + lower for i in index\n",
    "]"
   ]
  },
  {
   "cell_type": "markdown",
   "metadata": {},
   "source": [
    "### Linear System"
   ]
  },
  {
   "cell_type": "code",
   "execution_count": 46,
   "metadata": {},
   "outputs": [
    {
     "data": {
      "text/plain": [
       "matrix(\n",
       "[['0.0', '0.0', '0.0', '0.0', '0.0'],\n",
       " ['0.0', '0.0', '0.0', '0.0', '0.0'],\n",
       " ['0.0', '0.0', '0.0', '0.0', '0.0'],\n",
       " ['0.0', '0.0', '0.0', '0.0', '0.0'],\n",
       " ['0.0', '0.0', '0.0', '0.0', '0.0']])"
      ]
     },
     "execution_count": 46,
     "metadata": {},
     "output_type": "execute_result"
    }
   ],
   "source": [
    "n_degree = 3\n",
    "mp.matrix(n_degree + 2)"
   ]
  },
  {
   "cell_type": "code",
   "execution_count": 47,
   "metadata": {},
   "outputs": [
    {
     "data": {
      "text/plain": [
       "array([0., 0., 0., 0., 0.])"
      ]
     },
     "execution_count": 47,
     "metadata": {},
     "output_type": "execute_result"
    }
   ],
   "source": [
    "numpy.zeros(n_degree + 2)"
   ]
  },
  {
   "cell_type": "code",
   "execution_count": 50,
   "metadata": {},
   "outputs": [
    {
     "data": {
      "text/plain": [
       "matrix(\n",
       "[['0.0', '0.0', '0.0', '0.0', '-1.0'],\n",
       " ['0.0', '0.0', '0.0', '0.0', '1.0'],\n",
       " ['0.0', '0.0', '0.0', '0.0', '-1.0'],\n",
       " ['0.0', '0.0', '0.0', '0.0', '1.0'],\n",
       " ['0.0', '0.0', '0.0', '0.0', '-1.0']])"
      ]
     },
     "execution_count": 50,
     "metadata": {},
     "output_type": "execute_result"
    }
   ],
   "source": [
    "# This operation iterates through all the rows, filling in an alternating\n",
    "# value for the last column `n_degree + 1` (remember we count from 0).\n",
    "A = mp.matrix(n_degree + 2)\n",
    "for i in range(n_degree + 2):\n",
    "    A[i, n_degree + 1] = (-1) ** (i + 1)\n",
    "A"
   ]
  },
  {
   "cell_type": "code",
   "execution_count": 65,
   "metadata": {},
   "outputs": [
    {
     "data": {
      "text/plain": [
       "(5, 4)"
      ]
     },
     "execution_count": 65,
     "metadata": {},
     "output_type": "execute_result"
    }
   ],
   "source": [
    "# See\n",
    "# https://numpy.org/doc/stable/reference/generated/numpy.polynomial.chebyshev.chebvander.html\n",
    "# and\n",
    "# https://en.wikipedia.org/wiki/Vandermonde_matrix\n",
    "# and\n",
    "# https://en.wikipedia.org/wiki/Chebyshev_polynomials\n",
    "\n",
    "n_degree = 3\n",
    "lower = -1\n",
    "upper = 1\n",
    "x_points = chev_points(n_degree + 2, lower, upper)\n",
    "vander = numpy.polynomial.chebyshev.chebvander(x_points, n_degree)\n",
    "vander.shape"
   ]
  },
  {
   "cell_type": "markdown",
   "metadata": {},
   "source": [
    "The numpy page calls the output of `chebvander` a pseudo-vandermonde matrix because the matrix is not generated via a geometric progression ($x^0, x^1, x^2, x^3, \\dots$), but its generated by using the Chebyshev polynomials of the first kind:\n",
    "\n",
    "$$\n",
    "T_0(x) = 1\n",
    "$$\n",
    "$$\n",
    "T_1(x) = x\n",
    "$$\n",
    "$$\n",
    "T_{n+1}(x) = 2x T_n(x) - T_{n-1}(x)\n",
    "$$\n",
    "\n",
    "If we keep this going, \n",
    "$$\n",
    "T_2(x) = 2T_1(x) T_1(x) - T_0(x) = 2(T_1)^2 - 1\n",
    "$$\n",
    "$$\n",
    "T_3(x) = 2T_1(x) T_2(x) - T_1(x) = 2 T_1 \\left( 2(T_1)^2 - 1 \\right) - T_1\n",
    "    = 2(T_1)^3 - 2T_1 - T_1 = 2(T_1)^3 - 3T_1\n",
    "$$\n",
    "\n",
    "In Python this would look a bit like\n",
    "```python\n",
    "ideg = pu._as_int(deg, \"deg\")\n",
    "\n",
    "x = np.array(x, copy=None, ndmin=1) + 0.0\n",
    "dims = (ideg + 1,) + x.shape\n",
    "dtyp = x.dtype\n",
    "v = np.empty(dims, dtype=dtyp)\n",
    "# Use forward recursion to generate the entries.\n",
    "v[0] = x*0 + 1\n",
    "if ideg > 0:\n",
    "    x2 = 2*x\n",
    "    v[1] = x\n",
    "    for i in range(2, ideg + 1):\n",
    "        v[i] = v[i-1]*x2 - v[i-2]\n",
    "```\n",
    "The above code comes from\n",
    "[github.com/numpy/polynomial/chebyshev.py#L1391-L1441](https://github.com/numpy/numpy/blob/2f7fe64b8b6d7591dd208942f1cc74473d5db4cb/numpy/polynomial/chebyshev.py#L1391-L1441)."
   ]
  },
  {
   "cell_type": "code",
   "execution_count": 56,
   "metadata": {},
   "outputs": [
    {
     "data": {
      "text/plain": [
       "([mpf('0.95105651629515364'),\n",
       "  mpf('0.58778525229247314'),\n",
       "  mpf('0.0'),\n",
       "  mpf('-0.58778525229247303'),\n",
       "  mpf('-0.95105651629515353')],\n",
       " array([[mpf('1.0'), mpf('0.95105651629515364'),\n",
       "         mpf('0.80901699437494767'), mpf('0.58778525229247358')],\n",
       "        [mpf('1.0'), mpf('0.58778525229247314'),\n",
       "         mpf('-0.30901699437494745'), mpf('-0.95105651629515364')],\n",
       "        [mpf('1.0'), mpf('0.0'), mpf('-1.0'), mpf('0.0')],\n",
       "        [mpf('1.0'), mpf('-0.58778525229247303'),\n",
       "         mpf('-0.30901699437494767'), mpf('0.95105651629515364')],\n",
       "        [mpf('1.0'), mpf('-0.95105651629515353'),\n",
       "         mpf('0.80901699437494723'), mpf('-0.5877852522924728')]],\n",
       "       dtype=object))"
      ]
     },
     "execution_count": 56,
     "metadata": {},
     "output_type": "execute_result"
    }
   ],
   "source": [
    "x_points, vander"
   ]
  },
  {
   "cell_type": "code",
   "execution_count": 67,
   "metadata": {},
   "outputs": [
    {
     "data": {
      "text/plain": [
       "[2, 3, 4]"
      ]
     },
     "execution_count": 67,
     "metadata": {},
     "output_type": "execute_result"
    }
   ],
   "source": [
    "[ i for i in range(2, n_degree+2) ]"
   ]
  },
  {
   "cell_type": "code",
   "execution_count": 68,
   "metadata": {},
   "outputs": [
    {
     "data": {
      "text/plain": [
       "array([1.        , 0.95105652, 0.80901699, 0.58778525, 0.30901699])"
      ]
     },
     "execution_count": 68,
     "metadata": {},
     "output_type": "execute_result"
    }
   ],
   "source": [
    "x = x_points[0]\n",
    "v_manual = np.zeros(n_degree+2)\n",
    "v_manual[0] = 1.0\n",
    "v_manual[1] = x\n",
    "for i in range(2, n_degree+2):\n",
    "    v_manual[i] = 2 * x * v_manual[i-1] - v_manual[i-2]\n",
    "\n",
    "v_manual"
   ]
  },
  {
   "cell_type": "code",
   "execution_count": 69,
   "metadata": {},
   "outputs": [
    {
     "data": {
      "text/plain": [
       "(mpf('1.0'), mpf('0.95105651629515364'), mpf('0.80901699437494767'))"
      ]
     },
     "execution_count": 69,
     "metadata": {},
     "output_type": "execute_result"
    }
   ],
   "source": [
    "# Manually computing the first 3 values of the Chebyshev polynomial.\n",
    "x_points[0]**0, x_points[0]**1, 2* x_points[0]**2 - 1.0"
   ]
  },
  {
   "cell_type": "code",
   "execution_count": 70,
   "metadata": {},
   "outputs": [
    {
     "data": {
      "text/plain": [
       "array([mpf('1.0'), mpf('0.95105651629515364'), mpf('0.80901699437494767'),\n",
       "       mpf('0.58778525229247358')], dtype=object)"
      ]
     },
     "execution_count": 70,
     "metadata": {},
     "output_type": "execute_result"
    }
   ],
   "source": [
    "# List the first row.\n",
    "# Should have all the values of the Chebyshev polynomial of degree 5.\n",
    "vander[0]"
   ]
  },
  {
   "cell_type": "code",
   "execution_count": 61,
   "metadata": {},
   "outputs": [
    {
     "data": {
      "text/plain": [
       "array([mpf('1.0'), mpf('1.0'), mpf('1.0'), mpf('1.0'), mpf('1.0')],\n",
       "      dtype=object)"
      ]
     },
     "execution_count": 61,
     "metadata": {},
     "output_type": "execute_result"
    }
   ],
   "source": [
    "# List the first column,\n",
    "vander[:,0]"
   ]
  },
  {
   "cell_type": "markdown",
   "metadata": {},
   "source": [
    "#### np.moveaxis\n",
    "\n",
    "Numpy's implementation of chebvander does this right as it returns."
   ]
  },
  {
   "cell_type": "code",
   "execution_count": 77,
   "metadata": {},
   "outputs": [
    {
     "data": {
      "text/plain": [
       "array([[ 1,  2,  3,  4,  5],\n",
       "       [ 6,  7,  8,  9, 10],\n",
       "       [11, 12, 13, 14, 15]])"
      ]
     },
     "execution_count": 77,
     "metadata": {},
     "output_type": "execute_result"
    }
   ],
   "source": [
    "x = np.array(\n",
    "    [\n",
    "        [1,  2,  3,  4,  5],\n",
    "        [6,  7,  8,  9,  10],\n",
    "        [11, 12, 13, 14, 15] ]\n",
    ")\n",
    "x"
   ]
  },
  {
   "cell_type": "code",
   "execution_count": 78,
   "metadata": {},
   "outputs": [
    {
     "data": {
      "text/plain": [
       "array([[ 1,  6, 11],\n",
       "       [ 2,  7, 12],\n",
       "       [ 3,  8, 13],\n",
       "       [ 4,  9, 14],\n",
       "       [ 5, 10, 15]])"
      ]
     },
     "execution_count": 78,
     "metadata": {},
     "output_type": "execute_result"
    }
   ],
   "source": [
    "np.moveaxis(x, 0, -1)"
   ]
  },
  {
   "cell_type": "code",
   "execution_count": null,
   "metadata": {},
   "outputs": [],
   "source": []
  }
 ],
 "metadata": {
  "kernelspec": {
   "display_name": "Python 3 (ipykernel)",
   "language": "python",
   "name": "python3"
  },
  "language_info": {
   "codemirror_mode": {
    "name": "ipython",
    "version": 3
   },
   "file_extension": ".py",
   "mimetype": "text/x-python",
   "name": "python",
   "nbconvert_exporter": "python",
   "pygments_lexer": "ipython3",
   "version": "3.12.5"
  }
 },
 "nbformat": 4,
 "nbformat_minor": 4
}
