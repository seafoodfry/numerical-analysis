{
 "cells": [
  {
   "cell_type": "code",
   "execution_count": 1,
   "id": "59d623bd-b16a-44d1-a39c-6a3a43668e06",
   "metadata": {},
   "outputs": [],
   "source": [
    "from pathlib import Path\n",
    "home = str(Path.home()/'work')\n",
    "import sys\n",
    "#sys.path.insert(1, home)\n",
    "sys.path.append(home)\n",
    "\n",
    "from numa.equation_systems import simple_gaussian_elimination, back_substitution, lu_factorization, pa_lu_factorization, jacobi\n",
    "\n",
    "import numpy as np"
   ]
  },
  {
   "cell_type": "markdown",
   "id": "ec358ac1-aa75-42c7-832e-120d0537f066",
   "metadata": {},
   "source": [
    "# Naive Gaussian Elimination\n",
    "\n",
    "Elementary row operations:\n",
    "1. Switch two rows.\n",
    "2. Multiply a row by a nonzero number.\n",
    "3. Replace a row by any multiple of another row added to it.\n",
    "\n",
    "xref [1.3 Gaussian Elimination ](https://math.libretexts.org/Bookshelves/Linear_Algebra/A_First_Course_in_Linear_Algebra_(Kuttler)/01%3A_Systems_of_Equations/1.03%3A_Gaussian_Elimination).\n"
   ]
  },
  {
   "cell_type": "markdown",
   "id": "db7fab72-c02d-49fe-8081-a6c019b0ebae",
   "metadata": {},
   "source": [
    "Let's start with an example,\n",
    "$$\n",
    "\\begin{bmatrix}\n",
    "1 & 1  \\\\\n",
    "3 & -4 \\\\\n",
    "\\end{bmatrix}\n",
    "\\begin{bmatrix}\n",
    "x_1  \\\\\n",
    "x_2 \\\\\n",
    "\\end{bmatrix}\n",
    "=\n",
    "\\begin{bmatrix}\n",
    "3  \\\\\n",
    "2 \\\\\n",
    "\\end{bmatrix}\n",
    "$$\n",
    "\n",
    "or using a different notation,\n",
    "\n",
    "$$\n",
    "\\begin{bmatrix}\n",
    "1 & 1  \\\\\n",
    "3 & -4 \\\\\n",
    "\\end{bmatrix}\n",
    "\\begin{bmatrix}\n",
    "x  \\\\\n",
    "y \\\\\n",
    "\\end{bmatrix}\n",
    "=\n",
    "\\begin{bmatrix}\n",
    "3  \\\\\n",
    "2 \\\\\n",
    "\\end{bmatrix}\n",
    "$$\n",
    "\n",
    "The augmented matrix form of this system of equations looks as follows\n",
    "(we included the Gaussian elimination step to get the solution):\n",
    "$$\n",
    "\\left[\\begin{array}{@{}cc|c@{}}\n",
    "1 & 1  & 3 \\\\\n",
    "3 & -4 & 2\n",
    "\\end{array}\\right]\n",
    "\\rightarrow\n",
    "\\left[\\begin{array}{@{}cc|c@{}}\n",
    "1 & 1  & 3 \\\\\n",
    "0 & -7 & 7\n",
    "\\end{array}\\right]\n",
    "$$\n",
    "\n",
    "The solution is then $(x, y) = (2, 1)$.\n",
    "\n",
    "The implementation of the naive gaussian elimination follows the same mechanics:\n",
    "\n",
    "1. Iterate through all columns (since we want to eliminate each element from below the diagonal going column by column.\n",
    "2. If $a_{jj} = 0$, then raise an execption because we will always subtract a ratio of the pivot from the next equation.<br>\n",
    "3. In our example above, 1 was our first pivot, and we subtracted the ratio of the item right below the pivot, 3, and the pivot, 1, - $3/1$ - from the item right below for each entry in a row.\n",
    "4. In the code, we did not bother to zero out the element before the pivot because why waste an operation since Gaussian elimination results in all elements below the diagonal being zeros. "
   ]
  },
  {
   "cell_type": "code",
   "execution_count": 35,
   "id": "72f0860d-ca0c-48eb-b517-379549510159",
   "metadata": {},
   "outputs": [],
   "source": [
    "# Let's now solve our system with our home-made numa implementation.\n",
    "a = np.array([[1., 1.], [3., -4.]])\n",
    "b = np.array([[3], [2]]).flatten()  # We use flatten() because we decided to represent a column vector litarally."
   ]
  },
  {
   "cell_type": "code",
   "execution_count": 36,
   "id": "31e3d8cd-27b0-441c-a9d4-7098e67fc393",
   "metadata": {},
   "outputs": [
    {
     "data": {
      "text/plain": [
       "array([[ 1.,  1.],\n",
       "       [ 3., -4.]])"
      ]
     },
     "execution_count": 36,
     "metadata": {},
     "output_type": "execute_result"
    }
   ],
   "source": [
    "a"
   ]
  },
  {
   "cell_type": "code",
   "execution_count": 37,
   "id": "4b2ad872-bb6a-4e0d-8bdb-da2353371584",
   "metadata": {},
   "outputs": [
    {
     "data": {
      "text/plain": [
       "array([3, 2])"
      ]
     },
     "execution_count": 37,
     "metadata": {},
     "output_type": "execute_result"
    }
   ],
   "source": [
    "b"
   ]
  },
  {
   "cell_type": "code",
   "execution_count": 38,
   "id": "7cfc5b5e-e41c-4881-9fff-24a3451d26ab",
   "metadata": {},
   "outputs": [],
   "source": [
    "# sol_a and sol_b are the a matrix and the b column vector corresponding to the last step in the augmented matrix.\n",
    "sol_a, sol_b = simple_gaussian_elimination(a, b)"
   ]
  },
  {
   "cell_type": "code",
   "execution_count": 39,
   "id": "dc4468c2-c301-4cb1-8e9c-f6a06294962a",
   "metadata": {},
   "outputs": [
    {
     "data": {
      "text/plain": [
       "array([[ 1.,  1.],\n",
       "       [ 3., -7.]])"
      ]
     },
     "execution_count": 39,
     "metadata": {},
     "output_type": "execute_result"
    }
   ],
   "source": [
    "# Remember that we avoided zeroing out the elements below the diagonal just to save on a couple operations.\n",
    "sol_a"
   ]
  },
  {
   "cell_type": "code",
   "execution_count": 40,
   "id": "ec7270d0-1f6f-42bf-aae2-3462bbc3963a",
   "metadata": {},
   "outputs": [
    {
     "data": {
      "text/plain": [
       "array([ 3., -7.])"
      ]
     },
     "execution_count": 40,
     "metadata": {},
     "output_type": "execute_result"
    }
   ],
   "source": [
    "sol_b"
   ]
  },
  {
   "cell_type": "code",
   "execution_count": 41,
   "id": "b7a850b5-44a0-433e-b1b6-1edcc6516ddd",
   "metadata": {},
   "outputs": [
    {
     "data": {
      "text/plain": [
       "array([2., 1.])"
      ]
     },
     "execution_count": 41,
     "metadata": {},
     "output_type": "execute_result"
    }
   ],
   "source": [
    "# Obtain the solution.\n",
    "c = back_substitution(sol_a, sol_b)\n",
    "c"
   ]
  },
  {
   "cell_type": "markdown",
   "id": "c715060f-d55d-4d5d-ae29-85ca6a1caeb0",
   "metadata": {},
   "source": [
    "# LU Factorization\n",
    "\n",
    "Here we brack the **coefficient matrix** $A$ into a product of a lower triangular matrix $L$ and an upper triangular\n",
    "matrix $U$.\n",
    "\n",
    "1. An $m \\times n$ matrix $L$ is lower triangular if the entries satisfy $l_{ij} = 0$ for $i < j$.\n",
    "2. An $m \\times n$ matrix $U$ is upper triangular if the entries satisfy $u_{ij} = 0$ for $i > j$.\n",
    "\n",
    "The trick is to\n",
    "1. Keep 1's in the diagonal.\n",
    "2. Store the result of the Gaussian elimination in $U$ and we store the multipliers (the ratio of the element right below the pivot and the pivot) we use for elimination in $L$.\n",
    "\n",
    "$$\n",
    "LU =\n",
    "\\begin{bmatrix}\n",
    "1 & 0  \\\\\n",
    "3 & 1 \\\\\n",
    "\\end{bmatrix}\n",
    "\\begin{bmatrix}\n",
    "1 & 1  \\\\\n",
    "0 & -7 \\\\\n",
    "\\end{bmatrix}\n",
    "=\n",
    "\\begin{bmatrix}\n",
    "1 & 1  \\\\\n",
    "3 & -4 \\\\\n",
    "\\end{bmatrix}\n",
    "=\n",
    "A\n",
    "$$"
   ]
  },
  {
   "cell_type": "markdown",
   "id": "9c30045d-3e58-47ea-b297-78d8a41c713d",
   "metadata": {},
   "source": [
    "Another example:\n",
    "$$\n",
    "\\begin{bmatrix}\n",
    "1  & 2 & -1 \\\\\n",
    "2  & 1 & -2 \\\\\n",
    "-3 & 1 & 1\n",
    "\\end{bmatrix}\n",
    "$$\n",
    "\n",
    "This can be LU factorized into\n",
    "\n",
    "$$\n",
    "LU =\n",
    "\\begin{bmatrix}\n",
    "1  & 0    & 0 \\\\\n",
    "2  & 1    & 0 \\\\\n",
    "-3 & -7/3 & 1\n",
    "\\end{bmatrix}\n",
    "\\begin{bmatrix}\n",
    "1 & 2  & -1 \\\\\n",
    "0 & -3 & 0 \\\\\n",
    "0 & 0  & -2\n",
    "\\end{bmatrix}\n",
    "=\n",
    "\\begin{bmatrix}\n",
    "1  & 2 & -1 \\\\\n",
    "2  & 1 & -2 \\\\\n",
    "-3 & 1 & 1\n",
    "\\end{bmatrix}\n",
    "= A\n",
    "$$\n",
    "\n",
    "Again, $U$ is the result of the Gaussian elimination and $L$ contains the multipliers we used throughout the elimination process.\n",
    "So you can see that\n",
    "1. to get rid of $a_{21} = 2$, we subtracted 2 times row 1 from row 2;\n",
    "2. to eliminate $a_{31} = -3$, we subtracted -3 times row 1 from row 3;\n",
    "3. to eliminate $a_{32}$, we subtracted -7/3 times row 2 from row 3.\n",
    "\n",
    "And all those multiplers are stored as they were used.\n",
    "\n",
    "Right away we can see the use of the LU factorization: we can resuse $L$ and $U$ to solve the system of equations for any $b$!\n",
    "\n",
    "To get a solution, recall that we now have $Ax = LUx = b$.\n",
    "If just so happens that if we define an \"auxiliary\" vector $c = Ux$.\n",
    "Then,\n",
    "\n",
    "1. Solve $Lc = b$ for $c$.\n",
    "2. Solve $Ux = b$ for $x$."
   ]
  },
  {
   "cell_type": "code",
   "execution_count": 43,
   "id": "4577c2d2-e1da-4cd4-9ddd-87cde9399bab",
   "metadata": {},
   "outputs": [
    {
     "data": {
      "text/plain": [
       "array([[ 1,  2, -1],\n",
       "       [ 2,  1, -2],\n",
       "       [-3,  1,  1]])"
      ]
     },
     "execution_count": 43,
     "metadata": {},
     "output_type": "execute_result"
    }
   ],
   "source": [
    "a = np.array([[1, 2, -1], [2, 1, -2], [-3, 1, 1]])\n",
    "a"
   ]
  },
  {
   "cell_type": "code",
   "execution_count": 44,
   "id": "543de945-8372-4fd6-bb3f-ffcddca01681",
   "metadata": {},
   "outputs": [],
   "source": [
    "L, U = lu_factorization(a)"
   ]
  },
  {
   "cell_type": "code",
   "execution_count": 45,
   "id": "e06dffbf-b6c7-41de-ba6d-8e8e740e293b",
   "metadata": {},
   "outputs": [
    {
     "data": {
      "text/plain": [
       "array([[ 1.        ,  0.        ,  0.        ],\n",
       "       [ 2.        ,  1.        ,  0.        ],\n",
       "       [-3.        , -2.33333333,  1.        ]])"
      ]
     },
     "execution_count": 45,
     "metadata": {},
     "output_type": "execute_result"
    }
   ],
   "source": [
    "L"
   ]
  },
  {
   "cell_type": "code",
   "execution_count": 46,
   "id": "5fd91834-cdd6-4721-aadd-96233f5bb66d",
   "metadata": {},
   "outputs": [
    {
     "data": {
      "text/plain": [
       "array([[ 1.,  2., -1.],\n",
       "       [ 0., -3.,  0.],\n",
       "       [ 0.,  0., -2.]])"
      ]
     },
     "execution_count": 46,
     "metadata": {},
     "output_type": "execute_result"
    }
   ],
   "source": [
    "U"
   ]
  },
  {
   "cell_type": "markdown",
   "id": "f06a9695-d47a-4d66-9507-ecf77fdcf2a0",
   "metadata": {},
   "source": [
    "Let $L_{ij}(-c)$ denote a lower triangular matrixwhose only nonzero entries are 1s in the diagonal and $-c$ in the $(i, j)$\n",
    "position.\n",
    "Then $A \\rightarrow L_{ij}(-c)$ represents the operation \"subtracting $c$ times row $j$ from row $i$\".\n",
    "\n",
    "For example, if we multiply a generic $3\\times 3$ matrix A by $L_{21}(-c)$ (subtracting $c$ times row 1 from row 2)\n",
    "$$\n",
    "\\begin{bmatrix}\n",
    "1  & 0 & 0 \\\\\n",
    "-c & 1 & 0 \\\\\n",
    "0  & 0 & 1\n",
    "\\end{bmatrix}\n",
    "\\begin{bmatrix}\n",
    "a_{11} & a_{12} & a_{13} \\\\\n",
    "a_{21} & a_{22} & a_{23} \\\\\n",
    "a_{31} & a_{32} & a_{33} \\\\\n",
    "\\end{bmatrix}\n",
    "=\n",
    "\\begin{bmatrix}\n",
    "a_{11} & a_{12} & a_{13} \\\\\n",
    "a_{21} - ca_{11} & a_{22} - ca_{12} & a_{23} - ca_{13} \\\\\n",
    "a_{31} & a_{32} & a_{33} \\\\\n",
    "\\end{bmatrix}\n",
    "$$"
   ]
  },
  {
   "cell_type": "markdown",
   "id": "b0db7e77-fe3d-42dc-9847-2aad15fa9d53",
   "metadata": {},
   "source": [
    "$L_{ij}(-c)^{-1} = L_{ij}(c)$, for example\n",
    "\n",
    "$$\n",
    "\\begin{bmatrix}\n",
    "1  & 0 & 0 \\\\\n",
    "-c & 1 & 0 \\\\\n",
    "0  & 0 & 1\n",
    "\\end{bmatrix}^{-1}\n",
    "=\n",
    "\\begin{bmatrix}\n",
    "1  & 0 & 0 \\\\\n",
    "c & 1 & 0 \\\\\n",
    "0  & 0 & 1\n",
    "\\end{bmatrix}\n",
    "$$"
   ]
  },
  {
   "cell_type": "markdown",
   "id": "17304db1-8e66-4254-b4e1-483b831c874a",
   "metadata": {},
   "source": [
    "LU factorization also holds because this matrix product equation holds:\n",
    "$$\n",
    "\\begin{bmatrix}\n",
    "1   & 0 & 0 \\\\\n",
    "c_1 & 1 & 0 \\\\\n",
    "0   & 0 & 1\n",
    "\\end{bmatrix}\n",
    "\\begin{bmatrix}\n",
    "1   & 0 & 0 \\\\\n",
    "0   & 1 & 0 \\\\\n",
    "c_2 & 0 & 1\n",
    "\\end{bmatrix}\n",
    "\\begin{bmatrix}\n",
    "1 & 0   & 0 \\\\\n",
    "0 & 1   & 0 \\\\\n",
    "0 & c_3 & 1\n",
    "\\end{bmatrix}\n",
    "=\n",
    "\\begin{bmatrix}\n",
    "1   & 0   & 0 \\\\\n",
    "c_1 & 1   & 0 \\\\\n",
    "c_2 & c_3 & 1\n",
    "\\end{bmatrix}\n",
    "$$"
   ]
  },
  {
   "cell_type": "markdown",
   "id": "3ae83c9a-00be-4ada-8ff0-c24298575a84",
   "metadata": {},
   "source": [
    "# References\n",
    "\n",
    "1. [A First Course in Linear Algebra (Kuttler)](https://math.libretexts.org/Bookshelves/Linear_Algebra/A_First_Course_in_Linear_Algebra_(Kuttler)/01%3A_Systems_of_Equations/1.03%3A_Gaussian_Elimination)\n",
    "2. Numerical Analysis by Timothy Sauer, chapter 2."
   ]
  },
  {
   "cell_type": "markdown",
   "id": "bd45b30e-85db-4596-8a27-247ae03f295b",
   "metadata": {},
   "source": [
    "## Span and Rank\n",
    "\n",
    "\n",
    "The **span** of a set $S$ of vectors (from a vector space), is defined as the set of all linear combinations of the vectors in $S$.\n",
    "For example, two linearly independent vectors span a plane.\n",
    "The span can be characterized either as the intersection of all linear subspaces that contain S, or as the smallest subspace containing S.\n",
    "\n",
    "Given a vector space $V$ over a field $F$ (i.e., $\\mathbb{R}$ or $\\mathbb{C}$), the span of a set $S$ of vectors (not necessarily finite) is defined to be the intersection $W$ of all subspaces of $V$ that contain $S$.\n",
    "$W$ is referred to as the subspace spanned by $S$, or by the vectors in $S$.\n",
    "Conversely, $S$ is called a spanning set of $W$, and we say that $S$ spans $W$.\n",
    "\n",
    "$$\n",
    "span(S) = \\Big\\{\n",
    "    \\sum_{i\\in\\mathbb{N}} \\lambda_i \\vec{v}_i   \\quad \\Big| \\quad  \\lambda \\in F, \\vec{v}\\in S\n",
    "\\Big\\}\n",
    "$$\n",
    "\n",
    "xref: [wikipedia: linear span](https://en.wikipedia.org/wiki/Linear_span).\n",
    "\n",
    "\n",
    "A good way to help make better sense of the span of a matrix is to use it to understand the rank of a mtrix.\n",
    "\n",
    "The **rank** of a matrix $A$ is the dimension of the vector space generated (or spanned) by its columns.\n",
    "This corresponds to the maximal number of linearly independent **columns** of $A$.\n",
    "This, in turn, is identical to the dimension of the vector space spanned by its rows.\n",
    "\n",
    "\n",
    "xref: [wikipedia: rank](https://en.wikipedia.org/wiki/Rank_(linear_algebra))\n",
    "\n",
    "### Other properties\n",
    "\n",
    "1. Recall that the determinant of a matrix is zero if any of its rows or columns are not linearly independent. Conversely, if the determinant is non-zero, that implies that a square matrix is invertible and that its columns or rows span $\\mathbb{R}^m$."
   ]
  },
  {
   "cell_type": "markdown",
   "id": "16bfe780-ac65-4f02-bacf-69e936a1e08d",
   "metadata": {},
   "source": [
    "## Basis\n",
    "\n",
    "Building on top of the idea of a spaning set, a set $B$ of vectors in a vector space $V$ is called a basis if every element of $V$ may be written in a unique way as a finite linear combination of elements of $B$.\n",
    "\n",
    "Equivalently, a set $B$ is a basis if its elements are linearly independent and every element of $V$ is a linear combination of elements of $B$. In other words, **a basis is a linearly independent spanning set**.\n",
    "\n",
    "A basis $B$ of a vector space $V$ over a field $F$ (such as the real numbers $\\mathbb{R}$ or the complex numbers $\\mathbb{C}$) is a linearly independent subset of $V$ that spans $V$.\n",
    "This means that a subset $B$ of $V$ is a basis if it satisfies the two following conditions:\n",
    "\n",
    "1. Linear independence\n",
    "\n",
    "for every finite subset $\\{\\mathbf{v}_{1}, \\dotsc ,\\mathbf{v}_{m} \\}$ of $B$, if\n",
    "$c_{1}\\mathbf{v}_{1} + \\cdots + c_{m}\\mathbf{v} _{m} = \\mathbf{0}$\n",
    "for some $c_{1}, \\dotsc ,c_{m}$ in $F$, then $c_{1} = \\cdots = c_{m} = 0$.\n",
    "\n",
    "2. Spanning property\n",
    "\n",
    "for every vector $\\mathbf{v}$ in $V$, one can choose $a_{1}, \\dotsc ,a_{n}$ in $F$ and\n",
    "$\\mathbf{v}_{1}, \\dotsc , \\mathbf{v}_{n}$ in $B$ such that\n",
    "$\\mathbf{v} = a_{1} \\mathbf {v}_{1} + \\cdots + a_{n}\\mathbf{v}_{n}$.\n",
    "\n",
    "xref: [wikipedia: basis](https://en.wikipedia.org/wiki/Basis_(linear_algebra))\n",
    "\n",
    "Example: this is a non-trivial interesting example. The standard basis for $2x2$ matrices is formed by\n",
    "$$\n",
    "\\mathbf{e}_{11}\n",
    "=\n",
    "\\begin{pmatrix}\n",
    "1 & 0 \\\\\n",
    "0 & 0\n",
    "\\end{pmatrix}\n",
    "$$\n",
    "\n",
    "$$\n",
    "\\mathbf{e}_{12}\n",
    "=\n",
    "\\begin{pmatrix}\n",
    "0 & 1 \\\\\n",
    "0 & 0\n",
    "\\end{pmatrix}\n",
    "$$\n",
    "\n",
    "$$\n",
    "\\mathbf{e}_{21}\n",
    "=\n",
    "\\begin{pmatrix}\n",
    "0 & 0 \\\\\n",
    "1 & 0\n",
    "\\end{pmatrix}\n",
    "$$\n",
    "\n",
    "$$\n",
    "\\mathbf{e}_{22}\n",
    "=\n",
    "\\begin{pmatrix}\n",
    "0 & 0 \\\\\n",
    "0 & 1\n",
    "\\end{pmatrix}\n",
    "$$\n",
    "\n",
    "### Other Properties\n",
    "\n",
    "1. If $A$ is an $m\\times m$ matrix and it has eigenvectors that form a basis for $\\mathbb{R}^m$, then $A$ is **similar** to a **diagonal** matrix, and $A$ is called **diagonalizable**. xref: Numerical Analysis by Sauer, A.3.\n",
    "\n",
    "One additional property that builds upon this is that if we have $Ax_i = \\lambda x_i$ for $i = 1, \\dots, m$, and we define a matrix out of the eigenvectors as\n",
    "\n",
    "$$\n",
    "S = \\left[ \\quad x_1 \\quad | \\quad \\dots \\quad | \\quad x_m \\quad \\right]\n",
    "$$\n",
    "\n",
    "Making an $m\\times m$ matrix, then\n",
    "\n",
    "$$\n",
    "AS = S\n",
    "\\begin{pmatrix}\n",
    "\\lambda_1 &        &           \\\\\n",
    "          & \\ddots &           \\\\\n",
    "          &        & \\lambda_m\n",
    "\\end{pmatrix}\n",
    "$$\n",
    "\n",
    "From here we can also see that\n",
    "* $S$ is invertible since its columns span $\\mathbb{R}^m$.\n",
    "* $A$ is similar to the diagonal column containing its eigenvalues."
   ]
  },
  {
   "cell_type": "markdown",
   "id": "7f8b83e3-b872-4321-bc7c-290c0af09eb9",
   "metadata": {},
   "source": [
    "## Similar Matrices\n",
    "\n",
    "\n",
    "The matrices $m \\times m$ $A_1$ and $A_2$ are **similar**, denoted $A_1 \\sim A_2$, if there exists an invertible matrix $S$ such that\n",
    "\n",
    "$$\n",
    "A_1 = S A_2 S^{-1}\n",
    "$$\n",
    "\n",
    "1. Similar matrices have identical eigenvalues, because their characteristic polynomials are the same.\n",
    "\n",
    "$$\n",
    "A_1 - \\lambda I = S A S^{-1} - \\lambda I = S \\left( A_2 - \\lambda I \\right) S^{-1}\n",
    "$$\n",
    "\n",
    "implies\n",
    "$$\n",
    "\\det(A_1 - \\lambda I) = \\det(S) \\det(A_2 - \\lambda I) \\det(S^{-1}) = \\det(A_2 - \\lambda I)\n",
    "$$\n",
    "\n",
    "xref:\n",
    "1. Numerical Anlysis by Sauer A.3\n",
    "2. Lemma 7.1.1 in A First Course in Linear Algebra (Kuttler)"
   ]
  },
  {
   "cell_type": "markdown",
   "id": "7342e2dd-1e61-47d2-bda5-0516d1782728",
   "metadata": {},
   "source": [
    "## Symmetric and Herminitan Matrices\n",
    "\n",
    "Symmetric and Hermitian matrices have\n",
    "1. All real eigenvalues\n",
    "2. All eigenvectors are orthogonal to one another\n",
    "3. Their eigenvectors span the underlying space\n",
    "4. The set of unit eigenvectors of these matrices are an orthonormal set for the underlying space"
   ]
  },
  {
   "cell_type": "markdown",
   "id": "314e28f9-b3a7-4c2d-b032-8fa747892bb5",
   "metadata": {},
   "source": [
    "## Spectral Radius\n",
    "\n",
    "The **spectral radisu** of a square matrix is the maximum magnitude of its eigenvalues."
   ]
  },
  {
   "cell_type": "code",
   "execution_count": null,
   "id": "b03f6337-898e-4b39-b252-a9243629b957",
   "metadata": {},
   "outputs": [],
   "source": []
  }
 ],
 "metadata": {
  "kernelspec": {
   "display_name": "Python 3 (ipykernel)",
   "language": "python",
   "name": "python3"
  },
  "language_info": {
   "codemirror_mode": {
    "name": "ipython",
    "version": 3
   },
   "file_extension": ".py",
   "mimetype": "text/x-python",
   "name": "python",
   "nbconvert_exporter": "python",
   "pygments_lexer": "ipython3",
   "version": "3.11.9"
  }
 },
 "nbformat": 4,
 "nbformat_minor": 5
}
