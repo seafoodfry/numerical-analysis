{
 "cells": [
  {
   "cell_type": "markdown",
   "id": "e66b23e0-9266-4835-b9c6-3309727ce302",
   "metadata": {},
   "source": [
    "The following comes from Casella's Monte Carlo Statistical Methods book, section 3.2.\n",
    "\n",
    "$$\n",
    "\\mathbb{E}_f [h(X)]\n",
    "=\n",
    "\\int_{\\chi} h(x) f(x) dx\n",
    "$$\n",
    "\n",
    "$\\mathbb{E}_f [h(X)]$ stands for the expected value of $h(X)$, where $X$ is a random vairbale with pdf $f$.\n",
    "\n",
    "$\\chi$ denotes the sample space of of $X$. For the univariate case, $\\chi \\subset \\mathbb{R}$.\n",
    "For the multivariate case, $\\chi \\subset \\mathbb{R}^m$, and it is said to have some volume $\\int_\\chi dx$.\n",
    "\n",
    "And, last but not least, $h(x)$ is some generic function.\n",
    "\n",
    "\n",
    "An estimate to this expected value can be made by drawin $m$ samples, $(X_1, \\ldots , X_m)$, from the density $f$, and use the empirical average:\n",
    "\n",
    "$$\n",
    "\\overline{h}_m = \n",
    "\\sum^{m}_{j=1} h(x_j)\n",
    "$$\n",
    "\n",
    "Then the law of large numbers says that\n",
    "$$\n",
    "\\lim_{m \\rightarrow \\infty} \\overline{h}_m = \\mathbb{E}_f [h(X)]\n",
    "$$\n",
    "\n",
    "And to measure the speed of convergence, we can compute the variance, if $h^2$ has a finite expectation value under $f$.\n",
    "Thus, the speed fo convergence of $\\overline{h}_m$ can be assessed with\n",
    "\n",
    "$$\n",
    "var(\\overline{h}_m) =\n",
    "\\frac{1}{m} \\int_\\chi \\left( h(x) - \\mathbb{E}_f[h(X)] \\right)^2\n",
    "$$\n",
    "\n",
    "Which can also be estimated with our sample $(X_1, \\ldots, X_m)$ from the density $f$\n",
    "\n",
    "$$\n",
    "v_m = \n",
    "\\frac{1}{m^2} \\sum^{m}_{j=1} \\left( h(x_j) - \\overline{h}_m \\right)^2\n",
    "$$\n",
    "\n",
    "Note that this estimate of the variance, $v_m$, has a factor $1/m^2$.\n",
    "Typically, when estimating the variance of individual observations, we divide by $m-1$\n",
    "(for an unbiased estimate of the population variance) or $m$ (for the mean of the squared deviations).\n",
    "However, $v_m$ is not estimating the variance of $h(x)$ but of $\\overline{h}_m$.\n",
    "\n",
    "\n",
    "Another interesting thing to keep in mind is that for large $m$,\n",
    "$$\n",
    "\\frac{ \\overline{h}_m - \\mathbb{E}_f [h(X)] }{ \\sqrt{v_m} }\n",
    "$$\n",
    "is approximately distributed as $N(0,1)$.\n",
    "Which leads to the construction of a convergence test and of confidence bounds on the approximation of $\\mathbb{E}_f [h(X)]$."
   ]
  },
  {
   "cell_type": "code",
   "execution_count": null,
   "id": "3be96ef6-32ee-47be-8872-a50dfa4c8960",
   "metadata": {},
   "outputs": [],
   "source": []
  }
 ],
 "metadata": {
  "kernelspec": {
   "display_name": "Python 3 (ipykernel)",
   "language": "python",
   "name": "python3"
  },
  "language_info": {
   "codemirror_mode": {
    "name": "ipython",
    "version": 3
   },
   "file_extension": ".py",
   "mimetype": "text/x-python",
   "name": "python",
   "nbconvert_exporter": "python",
   "pygments_lexer": "ipython3",
   "version": "3.11.8"
  }
 },
 "nbformat": 4,
 "nbformat_minor": 5
}
