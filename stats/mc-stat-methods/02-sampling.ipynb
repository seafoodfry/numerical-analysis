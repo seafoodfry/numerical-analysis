{
 "cells": [
  {
   "cell_type": "markdown",
   "id": "63def38f-5144-4b7d-9912-a5a0f681c23d",
   "metadata": {},
   "source": [
    "# Rejection Sampling\n",
    "\n",
    "Is a type of exact simulation method. The method works for any distribution in $\\mathbf{R}^n$ with a PDF.\n",
    "\n",
    "Rejection sampling is based on the observation that to sample a random variable in one dimension, one can perform a uniformly random sampling of the two-dimensional Cartesian graph, and keep the samples in the region under the graph of its density function.\n",
    "\n",
    "First we need a source of random numbers uniformly distributed between 0 and 1.\n",
    "Given a source of random numbers with such a uniform distribution, we can easily produce a random sequence\n",
    "with an arbitrary distribution.\n",
    "Suppose we have a positive function $f(x)$ on the unit interval and we wish to generate points with a weighting proportional to\n",
    "$f$.\n",
    "For simplicity assume $f$ is bounded; if not, make a change of variables to make it so.\n",
    "Without loss of generality, we assume $f(x)$ us bounded by unity.\n",
    "Using the given random number generator, we obtains a trial number for the first element of our weighted sequence.\n",
    "Calling this number $x$, we obtain a second random number and accept $x$ if the new random variable is less than $f(x)$.\n",
    "This is repeated many times to form a sequence of accepted values of $x$.\n",
    "As the probability of accepting any $x$ is proportional to $f(x)$, the sequence has the desired weighting.\n",
    "\n",
    "From \"Quarks, Gluons, and Lattice\", page 132.\n",
    "\n",
    "Later on below, we will visit the more formal definiton by Casella."
   ]
  },
  {
   "cell_type": "code",
   "execution_count": 1,
   "id": "45f071c8-b92b-47da-a29f-25a6905520c2",
   "metadata": {},
   "outputs": [],
   "source": [
    "import numpy as np\n",
    "import matplotlib.pyplot as plt\n",
    "import scipy"
   ]
  },
  {
   "cell_type": "code",
   "execution_count": 3,
   "id": "ef7eea20-3ac8-4012-b8bd-142325aab1b3",
   "metadata": {},
   "outputs": [],
   "source": [
    "%load_ext memory_profiler"
   ]
  },
  {
   "cell_type": "code",
   "execution_count": 4,
   "id": "e78944d3-584f-4571-bb5f-0dbcab5d13b4",
   "metadata": {},
   "outputs": [
    {
     "name": "stdout",
     "output_type": "stream",
     "text": [
      "420 µs ± 15.8 µs per loop (mean ± std. dev. of 7 runs, 1,000 loops each)\n"
     ]
    }
   ],
   "source": [
    "%%timeit # -r 7 -n 1_000\n",
    "s = np.random.uniform(0, 1, 100_000)"
   ]
  },
  {
   "cell_type": "code",
   "execution_count": 5,
   "id": "63a883d5-835d-4edd-828f-10bd920e0b15",
   "metadata": {},
   "outputs": [
    {
     "name": "stdout",
     "output_type": "stream",
     "text": [
      "peak memory: 105.44 MiB, increment: 0.12 MiB\n"
     ]
    }
   ],
   "source": [
    "%%memit\n",
    "# see\n",
    "# https://github.com/pythonprofilers/memory_profiler/blob/a99a3c3b3c2eb01c90f6e14ddfcb85b3e97f9885/memory_profiler.py#L1029\n",
    "s = np.random.uniform(0, 1, 100_000)"
   ]
  },
  {
   "cell_type": "code",
   "execution_count": 6,
   "id": "1e1937e6-431c-4651-bc4d-f9dbba1606b1",
   "metadata": {},
   "outputs": [
    {
     "name": "stdout",
     "output_type": "stream",
     "text": [
      "peak memory: 105.44 MiB, increment: 0.00 MiB\n"
     ]
    }
   ],
   "source": [
    "%memit np.random.uniform(0, 1, 100)"
   ]
  },
  {
   "cell_type": "code",
   "execution_count": 2,
   "id": "185b64db-4d81-4d09-94da-83511cb966f6",
   "metadata": {},
   "outputs": [
    {
     "data": {
      "image/png": "[encoded data removed]",
      "text/plain": [
       "<Figure size 640x480 with 1 Axes>"
      ]
     },
     "metadata": {},
     "output_type": "display_data"
    }
   ],
   "source": [
    "# Plot a uniform distribution.\n",
    "s = np.random.uniform(0, 1, 10_000)\n",
    "\n",
    "count, bins, ignored = plt.hist(s, 50, density=True)\n",
    "\n",
    "plt.plot(bins, np.ones_like(bins), linewidth=3, color='r')\n",
    "plt.xlim(0, 1)\n",
    "plt.show()"
   ]
  },
  {
   "cell_type": "code",
   "execution_count": 4,
   "id": "0ea968d3-af4c-4d84-bef1-04fd7817ff00",
   "metadata": {},
   "outputs": [
    {
     "name": "stdout",
     "output_type": "stream",
     "text": [
      "approximations accepted: 1441\n",
      "0.1% percentile: -3.090, 99.9% percentile: 3.090\n"
     ]
    },
    {
     "data": {
      "image/png": "[encoded data removed]",
      "text/plain": [
       "<Figure size 600x300 with 1 Axes>"
      ]
     },
     "metadata": {},
     "output_type": "display_data"
    }
   ],
   "source": [
    "# Simple implementation of the rejection sampling algorithm.\n",
    "n = 10_000\n",
    "samples = np.random.uniform(-3.5, 3.5, n)\n",
    "acceptances = np.random.uniform(0, 1, n)\n",
    "normalize = 3.5 - -3.5\n",
    "\n",
    "approximations = []\n",
    "for i in range(len(samples)):\n",
    "    x = samples[i]\n",
    "    f_u = scipy.stats.norm.pdf(x)\n",
    "        \n",
    "    if acceptances[i] < f_u:\n",
    "        approximations.append(x)\n",
    "\n",
    "\n",
    "print(f\"approximations accepted: {len(approximations)}\")\n",
    "print(f\"0.1% percentile: {scipy.stats.norm.ppf(0.001):0.3f}, 99.9% percentile: {scipy.stats.norm.ppf(0.999):0.3f}\")\n",
    "\n",
    "fig, ax = plt.subplots(1, 1, figsize=(6, 3))\n",
    "\n",
    "x = np.linspace(scipy.stats.norm.ppf(0.001), scipy.stats.norm.ppf(0.999), 200)\n",
    "ax.plot(x, scipy.stats.norm.pdf(x), 'r-', lw=5, alpha=0.9, label=\"norm pdf\")\n",
    "\n",
    "ax.hist(approximations, bins=10, density=True)\n",
    "\n",
    "#ax.legend(loc='best', frameon=False)\n",
    "fig.show()"
   ]
  },
  {
   "cell_type": "code",
   "execution_count": 5,
   "id": "87943eaa-ceeb-4e40-a460-b1b569ea21be",
   "metadata": {},
   "outputs": [
    {
     "name": "stdout",
     "output_type": "stream",
     "text": [
      "Generated 10000 samples.\n"
     ]
    }
   ],
   "source": [
    "# Now try generating random variates for some generic function f().\n",
    "import random\n",
    "\n",
    "def f(x):\n",
    "    \"\"\"Target distribution (proportional to): f(x) = x^2.\"\"\"\n",
    "    return x ** 2\n",
    "\n",
    "def rejection_sampling(num_samples, func):\n",
    "    \"\"\"Generates samples from a distribution proportional to f(x) on [0, 1] using rejection sampling.\"\"\"\n",
    "    samples = []\n",
    "    \n",
    "    while len(samples) < num_samples:\n",
    "        # Generate a trial sample x from a uniform distribution\n",
    "        x = random.uniform(0, 1)\n",
    "        # Generate a second random number for acceptance\n",
    "        accept_prob = random.uniform(0, 1)\n",
    "        \n",
    "        # Accept x if the second random number is less than f(x)\n",
    "        if accept_prob < func(x):\n",
    "            samples.append(x)\n",
    "    \n",
    "    return samples\n",
    "\n",
    "# Example usage:\n",
    "num_samples = 10000\n",
    "samples = rejection_sampling(num_samples, f)\n",
    "print(f\"Generated {len(samples)} samples.\")"
   ]
  },
  {
   "cell_type": "code",
   "execution_count": 6,
   "id": "fc9ed6a7-2340-40ab-a749-6736ad4487e4",
   "metadata": {},
   "outputs": [
    {
     "data": {
      "image/png": "[encoded data removed]",
      "text/plain": [
       "<Figure size 600x300 with 1 Axes>"
      ]
     },
     "metadata": {},
     "output_type": "display_data"
    }
   ],
   "source": [
    "fig, ax = plt.subplots(1, 1, figsize=(6, 3))\n",
    "\n",
    "ax.hist(samples, bins=10, density=True)\n",
    "\n",
    "fig.show()"
   ]
  },
  {
   "cell_type": "code",
   "execution_count": 7,
   "id": "28221924-6c28-4fa0-ba6c-b55874e8857c",
   "metadata": {
    "scrolled": true
   },
   "outputs": [
    {
     "name": "stdout",
     "output_type": "stream",
     "text": [
      "Generated 100000 samples.\n"
     ]
    },
    {
     "data": {
      "image/png": "[encoded data removed]",
      "text/plain": [
       "<Figure size 600x300 with 1 Axes>"
      ]
     },
     "metadata": {},
     "output_type": "display_data"
    }
   ],
   "source": [
    "# Example usage: using a cosine distribution.\n",
    "num_samples = 100000\n",
    "samples = rejection_sampling(num_samples, np.cos)\n",
    "print(f\"Generated {len(samples)} samples.\")\n",
    "\n",
    "fig, ax = plt.subplots(1, 1, figsize=(6, 3))\n",
    "\n",
    "ax.hist(samples, bins=10, density=True)\n",
    "\n",
    "fig.show()"
   ]
  },
  {
   "cell_type": "markdown",
   "id": "d9a1c86e-6523-4665-aadc-9ffdaf1c5add",
   "metadata": {},
   "source": [
    "Casella gives more rigour to our topic.\n",
    "It all starts out by thinking of $f$ as our density of interest.\n",
    "On an arbitrary state, we can say that\n",
    "\n",
    "$$\n",
    "f(x) = \\int_{0}^{f(x)} du\n",
    "$$\n",
    "\n",
    "This way of writing it makes $f$ be the **marginal density** in $X$ of of the joint distribution\n",
    "\n",
    "$$\n",
    "(X, U) \\sim \\mathbf{U} \\{ 0 < u < f(x) \\}\n",
    "$$\n",
    "\n",
    "This in practice means that to simulate $X \\sim f$, when\n",
    "$$\n",
    "\\int_{a}^{b} f(x) = 1\n",
    "$$\n",
    "we can $Y \\sim \\mathbf{U}(a,b)$ and $U|Y = y \\sim \\mathbf{U}(0,m)$, where $m$ is the bound of $f$.\n",
    "Note that $U|Y = y \\sim \\mathbf{U}(0,m)$ should be read as \"generate $U$ given that $Y=y$\" - like $U|(Y = y) \\sim \\mathbf{U}(0,m)$.\n",
    "\n",
    "So the whole process is just to figure out the domain of $f$ and and its range ($m$), and use those\n",
    "bits of info to generate two sets of uniform random variates.\n",
    "Then we take $X = Y$ when $0 < u \\leq f(y)$.\n",
    "Think of this last statement of as follows: we accept $u$ to be a point within our target distribution only if it is below where the curve $f$ would be ($u \\leq f(y)$)."
   ]
  },
  {
   "cell_type": "code",
   "execution_count": 2,
   "id": "764a6510-7bcb-460e-85cf-594bd9822d01",
   "metadata": {},
   "outputs": [],
   "source": [
    "import numpy as np\n",
    "import scipy.stats\n",
    "import functools\n",
    "import matplotlib.pyplot as plt\n",
    "import matplotlib.animation as animation\n",
    "from IPython.display import HTML"
   ]
  },
  {
   "cell_type": "code",
   "execution_count": 5,
   "id": "e3b77c57-f630-4ffa-a010-40b530123057",
   "metadata": {},
   "outputs": [],
   "source": [
    "def target_beta_dist(x):\n",
    "    # Parameters for the beta distribution\n",
    "    alpha = 2.7\n",
    "    beta = 6.3\n",
    "\n",
    "    # https://en.wikipedia.org/wiki/Beta_distribution\n",
    "    # The mode is the point where the density will be the highest (m).\n",
    "    #mode = (alpha - 1) / (alpha + beta - 2)\n",
    "    \n",
    "    # Calculate the maximum density value at the mode.\n",
    "    return scipy.stats.beta.pdf(x, alpha, beta)"
   ]
  },
  {
   "cell_type": "code",
   "execution_count": 97,
   "id": "0aaa6cb9-bd04-4de8-b27c-566efa165fdd",
   "metadata": {},
   "outputs": [],
   "source": [
    "# We generate the data points ahead of time because we cannot animate a scatterplot by adding one point\n",
    "# per frame. The matplotlib-way to go about it is to instead create a scatterplot, and within that scatterplot\n",
    "# we can change the size of all points, their locations, or the color. Note that we cannot change the markers being used.\n",
    "# we will show how to do that below by creating two scatterplots, one using 'o's and the other '^'s.\n",
    "iterations = 50 * 30\n",
    "\n",
    "y = np.random.uniform(0, 1, iterations)\n",
    "u = np.random.uniform(0, 2.67, iterations)\n",
    "f_y = np.array([target_beta_dist(xi) for xi in y])\n",
    "\n",
    "# This array is for keeping track of all the u points we did accept.\n",
    "#points = [u_val if u_val <= f_y_val else f_y_val for u_val, f_y_val in zip(u, f_y) ]\n",
    "\n",
    "# The 'red' or 'black' values here match the indices of the accepted and rejected points.\n",
    "colors = [\"red\" if u_val <= f_y_val else \"black\" for u_val, f_y_val in zip(u, f_y) ]\n",
    "\n",
    "# Because we need to use the scatterplot method set_offsets() to update the scatterplot,\n",
    "# it turns out to be simples to use np.vstack().T to merge the (x,y) arrays\n",
    "# (the y random variates and the u random variates), and then transpose them into an n x 2 array.\n",
    "vstack = np.vstack((y, u)).T"
   ]
  },
  {
   "cell_type": "code",
   "execution_count": 99,
   "id": "26c7ce74-1929-44b2-b657-8ffa75d5b9b0",
   "metadata": {},
   "outputs": [],
   "source": [
    "fig = plt.figure()\n",
    "plt.xlim(0, 1)\n",
    "plt.ylim(0, 2.7)\n",
    "#graph, = plt.plot([], [], 'o') # another way of creating an empty plot.\n",
    "graph = plt.scatter([], [])\n",
    "\n",
    "def animate(i, graph):\n",
    "    # Note the way we are \"skipping frames\" here, we will improve upon this on the next animation.\n",
    "    i = i*30\n",
    "    \n",
    "    graph.set_offsets( vstack[:i+1] )\n",
    "    graph.set_facecolors(colors[:i+1])\n",
    "    return graph\n",
    "\n",
    "\n",
    "anim = functools.partial(animate, graph=graph)\n",
    "ani = animation.FuncAnimation(fig, anim, frames=50)\n",
    "\n",
    "# Output generated via `matplotlib.animation.Animation.to_jshtml`.\n",
    "plt.close(fig) # Used to prevent the PNG from showing.\n",
    "# TODO: delete the next line. we are commenting out because otherwise\n",
    "# the notebook will be too large and github won't render it.\n",
    "#HTML(ani.to_jshtml())"
   ]
  },
  {
   "cell_type": "code",
   "execution_count": 29,
   "id": "fd05b61c-929a-41d5-9090-f894d9f91f8f",
   "metadata": {},
   "outputs": [
    {
     "name": "stdout",
     "output_type": "stream",
     "text": [
      "[2.38145174 0.15632661 0.72902444 0.52879026 1.77322837]\n",
      "[1.28184264 1.16960212 0.79794234 0.63064744 2.44689877]\n",
      "(array([1, 2, 3, 4]),)\n"
     ]
    },
    {
     "data": {
      "text/plain": [
       "(4,)"
      ]
     },
     "execution_count": 29,
     "metadata": {},
     "output_type": "execute_result"
    }
   ],
   "source": [
    "# Some chatgpt suggested improvements...\n",
    "y = np.random.uniform(0, 1, 5)\n",
    "u = np.random.uniform(0, 2.67, 5)\n",
    "\n",
    "alpha = 2.7\n",
    "beta = 6.3\n",
    "def target_beta_dist(x, a, b):\n",
    "    return scipy.stats.beta.pdf(x, a, b)\n",
    "\n",
    "target_dist = functools.partial(target_beta_dist, a=alpha, b=beta)\n",
    "\n",
    "f_y = np.array([target_dist(xi) for xi in y])\n",
    "\n",
    "print(u)\n",
    "print(f_y)\n",
    "test_accepted = np.where(u <= f_y)\n",
    "print(test_accepted)\n",
    "test_accepted[0].shape"
   ]
  },
  {
   "cell_type": "code",
   "execution_count": 30,
   "id": "f557dd04-290a-4bcb-9375-4ca68f8e1440",
   "metadata": {},
   "outputs": [
    {
     "data": {
      "text/plain": [
       "array([1, 2])"
      ]
     },
     "execution_count": 30,
     "metadata": {},
     "output_type": "execute_result"
    }
   ],
   "source": [
    "# Select specific values from the indices of accepted values only if the index meets\n",
    "# the condition that it is less than 3.\n",
    "test_accepted[0][test_accepted[0] < 3]"
   ]
  },
  {
   "cell_type": "code",
   "execution_count": 31,
   "id": "93be38ca-19f2-4de3-8ba2-25f5af2face6",
   "metadata": {},
   "outputs": [],
   "source": [
    "iterations = 5_000\n",
    "nth = 100\n",
    "\n",
    "\n",
    "# https://en.wikipedia.org/wiki/Beta_distribution\n",
    "# The mode is the point where the density will be the highest (m).\n",
    "mode = (alpha - 1) / (alpha + beta - 2)\n",
    "max_density = target_dist(mode)\n",
    "\n",
    "y = np.random.uniform(0, 1, iterations)\n",
    "u = np.random.uniform(0, max_density, iterations)\n",
    "f_y = np.array([target_dist(xi) for xi in y])\n",
    "\n",
    "accepted_indices = np.where(u <= f_y)[0]\n",
    "rejected_indices = np.where(u > f_y)[0]\n",
    "\n",
    "fig, ax = plt.subplots()\n",
    "ax.set_xlim(0, 1)\n",
    "ax.set_ylim(0, round(max_density, 1))\n",
    "\n",
    "accepted_scatter = ax.scatter([], [], marker='^', color='green', s=10)\n",
    "rejected_scatter = ax.scatter([], [], marker='o', color='red', s=10)\n",
    "\n",
    "def init():\n",
    "    accepted_scatter.set_offsets(np.empty((0, 2)))  # Corrected here\n",
    "    rejected_scatter.set_offsets(np.empty((0, 2)))  # Corrected here\n",
    "    return accepted_scatter, rejected_scatter,\n",
    "\n",
    "def animate(i):\n",
    "    end_idx = min((i + 1) * nth, iterations)\n",
    "    \n",
    "    acc_idx = accepted_indices[accepted_indices < end_idx]\n",
    "    rej_idx = rejected_indices[rejected_indices < end_idx]\n",
    "    \n",
    "    accepted_scatter.set_offsets(np.vstack((y[acc_idx], u[acc_idx])).T)\n",
    "    rejected_scatter.set_offsets(np.vstack((y[rej_idx], u[rej_idx])).T)\n",
    "    \n",
    "    return accepted_scatter, rejected_scatter,\n",
    "\n",
    "ani = animation.FuncAnimation(fig, animate, init_func=init, frames=iterations // nth, blit=True, interval=50)\n",
    "\n",
    "plt.close(fig)  # Prevents duplicate output\n",
    "# TODO: delete the next line. we are commenting out because otherwise\n",
    "# the notebook will be too large and github won't render it.\n",
    "#HTML(ani.to_jshtml())"
   ]
  },
  {
   "cell_type": "code",
   "execution_count": 8,
   "id": "669297f1-6fcb-4318-939a-2a6235265e84",
   "metadata": {},
   "outputs": [
    {
     "data": {
      "text/plain": [
       "0.3696"
      ]
     },
     "execution_count": 8,
     "metadata": {},
     "output_type": "execute_result"
    }
   ],
   "source": [
    "# Acceptance rate.\n",
    "accepted_indices.size / iterations"
   ]
  },
  {
   "cell_type": "code",
   "execution_count": 9,
   "id": "83f8912b-9c36-464f-8665-b70161270f79",
   "metadata": {},
   "outputs": [
    {
     "data": {
      "text/plain": [
       "0.24285714285714288"
      ]
     },
     "execution_count": 9,
     "metadata": {},
     "output_type": "execute_result"
    }
   ],
   "source": [
    "mode"
   ]
  },
  {
   "cell_type": "markdown",
   "id": "ac35d9a5-6628-45e2-8e0e-81d104d6517d",
   "metadata": {},
   "source": [
    "Now the generalization of the rejection sampling algorithm!\n",
    "\n",
    "In this case, we sample $Y$ not as $\\mathbf{U}$ but following our proposed distribution $g$, $Y \\sim g$.\n",
    "And $U | Y=y \\sim \\mathbf{U}(0, Mg(y))$.\n",
    "And if $0 < u \\leq f(y) \\leq Mg(y)$, then we accept $u$.\n",
    "\n",
    "Note that $\\mathbf{U}(0, Mg(y))$ is $\\mathbf{U}(0,1)$ scaled by $Mg(y)$.\n",
    "\n",
    "The last point, in particular, is why the acceptance rule for this algorithm is often written as\n",
    "$$\n",
    "U \\leq f(X) / M g(X)\n",
    "$$\n",
    "when $X \\sim g$ and $U \\sim \\mathbf{U}(0,1)$.\n",
    "\n",
    "---\n",
    "\n",
    "Note that $1/M$ can be seen as a geometric waiting time because the [Geometric distribution](https://en.wikipedia.org/wiki/Geometric_distribution) is the number of trials we have to wait for a success, which is defined as\n",
    "$$\n",
    "P(X = k) = \\left( 1 - \\frac{1}{M} \\right)^{k-1} \\frac{1}{M}\n",
    "$$\n",
    "\n",
    "If we want a success right away, then the chance of it is simply $p = 1/M$.\n",
    "COincidentally, the mean of the geometric distribution is $1/p$, hence the expected number of trials until a variable is accepted is $M$."
   ]
  },
  {
   "cell_type": "code",
   "execution_count": 4,
   "id": "8e49deda-3c5f-4d2b-9e2e-10927917188d",
   "metadata": {},
   "outputs": [
    {
     "data": {
      "image/png": "[encoded data removed]",
      "text/plain": [
       "<Figure size 800x300 with 1 Axes>"
      ]
     },
     "metadata": {},
     "output_type": "display_data"
    }
   ],
   "source": [
    "def example_f(x):\n",
    "    return np.exp(-np.square(x)/2) * (\n",
    "            np.square(np.sin(6*x))\n",
    "            + 3 * np.square(np.cos(x)) * np.square(np.sin(4*x))\n",
    "            + 1\n",
    "        )\n",
    "\n",
    "def example_g(x):\n",
    "    return 5 * np.exp( -np.square(x)/2 )\n",
    "\n",
    "fig, ax = plt.subplots(figsize=(8, 3))\n",
    "\n",
    "section = np.arange(-5, 5, 1/20.)\n",
    "\n",
    "ax.fill_between(section, example_f(section), color='blue', alpha=0.6, label='$f(x)$')\n",
    "ax.fill_between(section, example_g(section), color='green', alpha=0.3, label='$g(x)$')\n",
    "\n",
    "ax.legend()\n",
    "plt.show()"
   ]
  },
  {
   "cell_type": "code",
   "execution_count": 39,
   "id": "0b8ded12-0bfd-4bd7-a749-8479ec56d9dc",
   "metadata": {},
   "outputs": [],
   "source": [
    "iterations = 1000\n",
    "nth = 100\n",
    "\n",
    "# Multiplying by 5 only increases the height, not the width of the gaussian curve.\n",
    "# So generating with a standard normal is ok.\n",
    "Y = np.random.normal(loc=0, scale=1, size=iterations)\n",
    "\n",
    "# Compute g(Y) for all generated Y.\n",
    "gY = example_g(Y)\n",
    "\n",
    "# Generate U uniformly from [0, g(Y)] for each Y.\n",
    "U = np.random.uniform(low=0, high=gY, size=iterations)\n",
    "\n",
    "# Apply the acceptance criterion (U <= f(Y)).\n",
    "accepted_indices = U <= example_f(Y)\n",
    "X = Y[accepted_indices]  # Filter Y values that meet the criterion."
   ]
  },
  {
   "cell_type": "code",
   "execution_count": 40,
   "id": "5a4d8360-77b4-45c2-95b6-b7f944cd0e85",
   "metadata": {},
   "outputs": [
    {
     "data": {
      "image/png": "[encoded data removed]",
      "text/plain": [
       "<Figure size 800x300 with 1 Axes>"
      ]
     },
     "metadata": {},
     "output_type": "display_data"
    }
   ],
   "source": [
    "plt.figure(figsize=(8, 3))\n",
    "\n",
    "plt.hist(X, bins=100, density=True, alpha=0.7, label='Accepted Samples')\n",
    "\n",
    "x_values = np.linspace(min(X), max(X), 1000)\n",
    "plt.plot(x_values, example_f(x_values)/np.trapz(example_f(x_values), x_values), label='Target Density f(x)', color='red')\n",
    "\n",
    "plt.legend()\n",
    "plt.title('Samples from Target Distribution via Acceptance-Rejection Method')\n",
    "plt.xlabel('x')\n",
    "plt.ylabel('Density')\n",
    "plt.show()"
   ]
  },
  {
   "cell_type": "code",
   "execution_count": 12,
   "id": "dbf505c4-074e-4dc5-a042-77955ba74411",
   "metadata": {},
   "outputs": [],
   "source": [
    "# Generate samples and apply the acceptance criterion as before\n",
    "n_samples = 100\n",
    "bins = 100\n",
    "\n",
    "Y = np.random.normal(loc=0, scale=1, size=n_samples)\n",
    "U = np.random.uniform(low=0, high=example_g(Y), size=n_samples)\n",
    "accepted = U <= example_f(Y)\n",
    "X_accepted = Y[accepted]\n",
    "\n",
    "# Prepare the figure and axis for the animation, including initial histogram\n",
    "fig, ax = plt.subplots(figsize=(8, 4))\n",
    "_, _, _ = ax.hist(X_accepted, bins=bins, density=True, alpha=0.7, label='Accepted Samples')\n",
    "ax.set_xlim(-5, 5)\n",
    "ax.set_ylim(0, 1)\n",
    "ax.set_title('Sampling from Target Distribution via Acceptance-Rejection')\n",
    "ax.set_xlabel('x')\n",
    "ax.set_ylabel('Density')\n",
    "line, = ax.plot([], [], label='Target Density f(x)', color='red')  # Placeholder for the target density line\n",
    "ax.legend()\n",
    "\n",
    "# Normalizing factor for target density f(x) for plotting\n",
    "x_values = np.linspace(-5, 5, 400)\n",
    "f_norm = example_f(x_values) / np.trapz(example_f(x_values), x_values)\n",
    "\n",
    "def animate(i):\n",
    "    local_n_samples = n_samples + i*50\n",
    "\n",
    "    Y = np.random.normal(loc=0, scale=1, size=local_n_samples)\n",
    "    U = np.random.uniform(low=0, high=example_g(Y), size=local_n_samples)\n",
    "    accepted = U <= example_f(Y)\n",
    "    X_accepted = Y[accepted]\n",
    "    \n",
    "    # Update histogram with more samples\n",
    "    ax.clear()\n",
    "    ax.hist(X_accepted, bins=bins, density=True, alpha=0.7, label='Accepted Samples')\n",
    "    ax.plot(x_values, f_norm, label='Target Density f(x)', color='red')\n",
    "    ax.set_xlim(-5, 5)\n",
    "    ax.set_ylim(0, 1)\n",
    "    \n",
    "    ax.set_title(f'Sampling from Target Distribution via Acceptance-Rejection\\nSamples: {local_n_samples}')\n",
    "    ax.set_xlabel('x')\n",
    "    ax.set_ylabel('Density')\n",
    "    ax.legend()\n",
    "\n",
    "ani = animation.FuncAnimation(fig, animate, frames=100, repeat=False)\n",
    "\n",
    "plt.close()  # Prevents duplicate static plot under the animation\n",
    "\n",
    "# Display the animation in the notebook\n",
    "# TODO: delete the next line. we are commenting out because otherwise\n",
    "# the notebook will be too large and github won't render it.\n",
    "#HTML(ani.to_jshtml())"
   ]
  },
  {
   "cell_type": "code",
   "execution_count": 62,
   "id": "7de520e6-5734-4b32-9814-139b8206ba0a",
   "metadata": {},
   "outputs": [],
   "source": [
    "n_samples = 10_000\n",
    "\n",
    "Y = np.random.normal(loc=0, scale=1, size=n_samples)\n",
    "U = np.random.uniform(low=0, high=example_g(Y), size=n_samples)\n",
    "accepted = U <= example_f(Y)\n",
    "accepted_indices = np.where(accepted)[0]\n",
    "rejected_indices = np.where(~accepted)[0]\n",
    "\n",
    "\n",
    "fig, ax = plt.subplots()\n",
    "ax.set_xlim(-5, 5)  # Adjust based on your data range\n",
    "ax.set_ylim(0, 5)  # Adjust based on the maximum of U\n",
    "\n",
    "accepted_scatter = ax.scatter([], [], marker='.', color='green', s=10)\n",
    "rejected_scatter = ax.scatter([], [], marker='o', color='red', s=10)\n",
    "# Placeholder for the text annotation.\n",
    "sample_text = ax.text(0.02, 0.95, '', transform=ax.transAxes, verticalalignment='top')\n",
    "\n",
    "def init():\n",
    "    accepted_scatter.set_offsets(np.empty((0, 2)))\n",
    "    rejected_scatter.set_offsets(np.empty((0, 2)))\n",
    "    sample_text.set_text('')\n",
    "    return accepted_scatter, rejected_scatter, sample_text\n",
    "\n",
    "def animate(i):\n",
    "    end_idx = min((i + 1) * nth, iterations)\n",
    "    \n",
    "    acc_idx = accepted_indices[accepted_indices < end_idx]\n",
    "    rej_idx = rejected_indices[rejected_indices < end_idx]\n",
    "    \n",
    "    accepted_scatter.set_offsets(np.vstack((Y[acc_idx], U[acc_idx])).T)\n",
    "    rejected_scatter.set_offsets(np.vstack((Y[rej_idx], U[rej_idx])).T)\n",
    "    \n",
    "    # Update the text annotation with the current number of samples\n",
    "    sample_text.set_text(f'Samples: {end_idx}')\n",
    "    \n",
    "    return accepted_scatter, rejected_scatter, sample_text\n",
    "\n",
    "# Define `nth` and `iterations` based on your specific setup\n",
    "nth = 50\n",
    "iterations = 10_000\n",
    "\n",
    "ani = FuncAnimation(fig, animate, init_func=init, frames=iterations // nth, blit=True, interval=50)\n",
    "\n",
    "plt.close(fig)  # Prevents duplicate output\n",
    "\n",
    "# Display the animation in the notebook\n",
    "# TODO: delete the next line. we are commenting out because otherwise\n",
    "# the notebook will be too large and github won't render it.\n",
    "#HTML(ani.to_jshtml())"
   ]
  },
  {
   "cell_type": "code",
   "execution_count": null,
   "id": "d29765f2-8897-4526-8868-a82bd31b796a",
   "metadata": {},
   "outputs": [],
   "source": []
  }
 ],
 "metadata": {
  "kernelspec": {
   "display_name": "Python 3 (ipykernel)",
   "language": "python",
   "name": "python3"
  },
  "language_info": {
   "codemirror_mode": {
    "name": "ipython",
    "version": 3
   },
   "file_extension": ".py",
   "mimetype": "text/x-python",
   "name": "python",
   "nbconvert_exporter": "python",
   "pygments_lexer": "ipython3",
   "version": "3.11.8"
  }
 },
 "nbformat": 4,
 "nbformat_minor": 5
}
