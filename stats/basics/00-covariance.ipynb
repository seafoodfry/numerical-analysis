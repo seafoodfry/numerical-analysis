{
 "cells": [
  {
   "cell_type": "code",
   "execution_count": 1,
   "id": "fcb6b044-b1ba-458f-a6fa-6ac4ac27de21",
   "metadata": {},
   "outputs": [],
   "source": [
    "import numpy as np\n",
    "import pandas as pd"
   ]
  },
  {
   "cell_type": "markdown",
   "id": "c98a915f-f7ec-47cb-85a9-1ca145e1b637",
   "metadata": {},
   "source": [
    "# Exploring Covariance"
   ]
  },
  {
   "cell_type": "code",
   "execution_count": 2,
   "id": "3dbe6c86-d9a7-4d2c-a8eb-04dda240cc08",
   "metadata": {},
   "outputs": [
    {
     "data": {
      "text/plain": [
       "(array([[1, 2, 3],\n",
       "        [4, 5, 6]]),\n",
       " array([[1, 4],\n",
       "        [2, 5],\n",
       "        [3, 6]]))"
      ]
     },
     "execution_count": 2,
     "metadata": {},
     "output_type": "execute_result"
    }
   ],
   "source": [
    "X_train = np.array(\n",
    "    [\n",
    "        [1, 2, 3],\n",
    "        [4, 5, 6],\n",
    "    ]\n",
    ")\n",
    "\n",
    "X_train, X_train.T"
   ]
  },
  {
   "cell_type": "code",
   "execution_count": 3,
   "id": "3e2922a0-88d7-4d31-9d9a-e3a0e95eecf8",
   "metadata": {},
   "outputs": [
    {
     "data": {
      "text/plain": [
       "array([[1., 1.],\n",
       "       [1., 1.]])"
      ]
     },
     "execution_count": 3,
     "metadata": {},
     "output_type": "execute_result"
    }
   ],
   "source": [
    "\"\"\"\n",
    "In this case, NumPy interprets:\n",
    "\n",
    "* Each row as a variable (so 2 variables)\n",
    "* Each column as an observation (so 3 observations)\n",
    "\n",
    "The diagonal elements (both 1.0) are the variances of each variable, and the off-diagonal elements\n",
    "(also both 1.0) are the covariances between variables 1 and 2.\n",
    "\"\"\"\n",
    "np.cov(X_train)"
   ]
  },
  {
   "cell_type": "markdown",
   "id": "e1185a64-ead5-456d-b590-88b8e329e4b5",
   "metadata": {},
   "source": [
    "The fact that the covariance matrix has all identical values (1.0)\n",
    "indicates perfect correlation between the two variables, which suggests linear dependence."
   ]
  },
  {
   "cell_type": "code",
   "execution_count": 5,
   "id": "7c938f11-97d4-4ad6-8533-45b7a56de6b5",
   "metadata": {},
   "outputs": [
    {
     "data": {
      "text/plain": [
       "array([[4.5, 4.5, 4.5],\n",
       "       [4.5, 4.5, 4.5],\n",
       "       [4.5, 4.5, 4.5]])"
      ]
     },
     "execution_count": 5,
     "metadata": {},
     "output_type": "execute_result"
    }
   ],
   "source": [
    "\"\"\"\n",
    "When you transpose, you're telling NumPy:\n",
    "\n",
    "* Each row is a variable (now 3 variables)\n",
    "* Each column is an observation (now 2 observations)\n",
    "\"\"\"\n",
    "\n",
    "# The numpy.cov docs say:\n",
    "# Each row of m represents a variable, and each column a single observation of all those variables.\n",
    "np.cov(X_train.T)"
   ]
  },
  {
   "cell_type": "markdown",
   "id": "ba4436e3-0d65-43ab-a83a-3ed5fa095499",
   "metadata": {},
   "source": [
    "## Real world example"
   ]
  },
  {
   "cell_type": "code",
   "execution_count": 6,
   "id": "a92999f2-34b3-432e-9bb8-279e258450e0",
   "metadata": {},
   "outputs": [
    {
     "data": {
      "text/html": [
       "<div>\n",
       "<style scoped>\n",
       "    .dataframe tbody tr th:only-of-type {\n",
       "        vertical-align: middle;\n",
       "    }\n",
       "\n",
       "    .dataframe tbody tr th {\n",
       "        vertical-align: top;\n",
       "    }\n",
       "\n",
       "    .dataframe thead th {\n",
       "        text-align: right;\n",
       "    }\n",
       "</style>\n",
       "<table border=\"1\" class=\"dataframe\">\n",
       "  <thead>\n",
       "    <tr style=\"text-align: right;\">\n",
       "      <th></th>\n",
       "      <th>0</th>\n",
       "      <th>1</th>\n",
       "      <th>2</th>\n",
       "      <th>3</th>\n",
       "      <th>4</th>\n",
       "    </tr>\n",
       "  </thead>\n",
       "  <tbody>\n",
       "    <tr>\n",
       "      <th>0</th>\n",
       "      <td>5.1</td>\n",
       "      <td>3.5</td>\n",
       "      <td>1.4</td>\n",
       "      <td>0.2</td>\n",
       "      <td>Iris-setosa</td>\n",
       "    </tr>\n",
       "    <tr>\n",
       "      <th>1</th>\n",
       "      <td>4.9</td>\n",
       "      <td>3.0</td>\n",
       "      <td>1.4</td>\n",
       "      <td>0.2</td>\n",
       "      <td>Iris-setosa</td>\n",
       "    </tr>\n",
       "    <tr>\n",
       "      <th>2</th>\n",
       "      <td>4.7</td>\n",
       "      <td>3.2</td>\n",
       "      <td>1.3</td>\n",
       "      <td>0.2</td>\n",
       "      <td>Iris-setosa</td>\n",
       "    </tr>\n",
       "    <tr>\n",
       "      <th>3</th>\n",
       "      <td>4.6</td>\n",
       "      <td>3.1</td>\n",
       "      <td>1.5</td>\n",
       "      <td>0.2</td>\n",
       "      <td>Iris-setosa</td>\n",
       "    </tr>\n",
       "    <tr>\n",
       "      <th>4</th>\n",
       "      <td>5.0</td>\n",
       "      <td>3.6</td>\n",
       "      <td>1.4</td>\n",
       "      <td>0.2</td>\n",
       "      <td>Iris-setosa</td>\n",
       "    </tr>\n",
       "  </tbody>\n",
       "</table>\n",
       "</div>"
      ],
      "text/plain": [
       "     0    1    2    3            4\n",
       "0  5.1  3.5  1.4  0.2  Iris-setosa\n",
       "1  4.9  3.0  1.4  0.2  Iris-setosa\n",
       "2  4.7  3.2  1.3  0.2  Iris-setosa\n",
       "3  4.6  3.1  1.5  0.2  Iris-setosa\n",
       "4  5.0  3.6  1.4  0.2  Iris-setosa"
      ]
     },
     "execution_count": 6,
     "metadata": {},
     "output_type": "execute_result"
    }
   ],
   "source": [
    "\"\"\"\n",
    "The columns are:\n",
    "\n",
    "1. sepal length\n",
    "2. sepal width\n",
    "3. petal length\n",
    "4. petal width\n",
    "5. class\n",
    "\"\"\"\n",
    "s = 'https://archive.ics.uci.edu/ml/machine-learning-databases/iris/iris.data'\n",
    "\n",
    "df = pd.read_csv(s, header=None, encoding='utf-8')\n",
    "df.head()"
   ]
  },
  {
   "cell_type": "code",
   "execution_count": 9,
   "id": "e920b0ee-b799-4097-bb63-f5fa81846db2",
   "metadata": {},
   "outputs": [],
   "source": [
    "# select setosa and versicolor.\n",
    "y = df.iloc[0:10, 4].values\n",
    "y = np.where(y == 'Iris-setosa', 0, 1)\n",
    "\n",
    "# extract sepal length and petal length (columns 0 and 2).\n",
    "X = df.iloc[0:10, [0, 2]].values"
   ]
  },
  {
   "cell_type": "code",
   "execution_count": 10,
   "id": "351c8ce5-768e-4b48-b646-f97b403b1323",
   "metadata": {},
   "outputs": [
    {
     "data": {
      "text/plain": [
       "(array([[5.1, 1.4],\n",
       "        [4.9, 1.4],\n",
       "        [4.7, 1.3],\n",
       "        [4.6, 1.5],\n",
       "        [5. , 1.4],\n",
       "        [5.4, 1.7],\n",
       "        [4.6, 1.4],\n",
       "        [5. , 1.5],\n",
       "        [4.4, 1.4],\n",
       "        [4.9, 1.5]]),\n",
       " array([0, 0, 0, 0, 0, 0, 0, 0, 0, 0]))"
      ]
     },
     "execution_count": 10,
     "metadata": {},
     "output_type": "execute_result"
    }
   ],
   "source": [
    "X, y"
   ]
  },
  {
   "cell_type": "code",
   "execution_count": 13,
   "id": "cb57d98f-d857-4876-aff7-48c43c9a59c7",
   "metadata": {},
   "outputs": [
    {
     "data": {
      "text/plain": [
       "array([[0.08488889, 0.01888889],\n",
       "       [0.01888889, 0.01166667]])"
      ]
     },
     "execution_count": 13,
     "metadata": {},
     "output_type": "execute_result"
    }
   ],
   "source": [
    "# We use the transpose because in np.cov, rows represent variables.\n",
    "np.cov(X.T)"
   ]
  },
  {
   "cell_type": "markdown",
   "id": "95605a1b-3b36-4519-beb7-bc9e8f64a768",
   "metadata": {},
   "source": [
    "Variances (diagonal elements):\n",
    "\n",
    "- Variable 1 has a variance of 0.08488889\n",
    "- Variable 2 has a variance of 0.01166667\n",
    "- Variable 1 has significantly higher variance than Variable 2 (about 7.3 times higher)\n",
    "\n",
    "\n",
    "Covariance (off-diagonal elements):\n",
    "\n",
    "- The covariance between Variables 1 and 2 is 0.01888889\n",
    "- This positive value indicates the variables tend to move in the same direction"
   ]
  },
  {
   "cell_type": "code",
   "execution_count": 19,
   "id": "c60cea05-3bf2-4576-89a0-f573d55e300d",
   "metadata": {},
   "outputs": [
    {
     "data": {
      "text/plain": [
       "(array([0.29135698, 0.10801234]), array([0.08488889, 0.01166667]))"
      ]
     },
     "execution_count": 19,
     "metadata": {},
     "output_type": "execute_result"
    }
   ],
   "source": [
    "_cov_matrix = np.cov(X.T)\n",
    "\n",
    "# Extract standard deviations (square root of variances).\n",
    "std_devs = np.sqrt(np.diag(_cov_matrix))\n",
    "std_devs, np.square(std_devs)"
   ]
  },
  {
   "cell_type": "code",
   "execution_count": 20,
   "id": "cf81ee2d-1d51-46f6-86bb-3ae7e4fad53c",
   "metadata": {},
   "outputs": [
    {
     "data": {
      "text/plain": [
       "array([[0.08488889, 0.03147015],\n",
       "       [0.03147015, 0.01166667]])"
      ]
     },
     "execution_count": 20,
     "metadata": {},
     "output_type": "execute_result"
    }
   ],
   "source": [
    "\"\"\"\n",
    "The outer product of vectors a and b is a matrix C where:\n",
    "    C[i,j] = a[i] * b[j] for all i, j\n",
    "\"\"\"\n",
    "# Create outer product of standard deviations.\n",
    "outer_std = np.outer(std_devs, std_devs)\n",
    "outer_std"
   ]
  },
  {
   "cell_type": "code",
   "execution_count": 22,
   "id": "a6e3cee3-4c1f-407e-beca-295c75b4f984",
   "metadata": {},
   "outputs": [
    {
     "data": {
      "text/plain": [
       "array([[1.        , 0.60021603],\n",
       "       [0.60021603, 1.        ]])"
      ]
     },
     "execution_count": 22,
     "metadata": {},
     "output_type": "execute_result"
    }
   ],
   "source": [
    "# Divide covariance matrix by outer product to get correlation matrix.\n",
    "corr_matrix = _cov_matrix / outer_std\n",
    "corr_matrix"
   ]
  },
  {
   "cell_type": "code",
   "execution_count": 23,
   "id": "340753c0-35ad-435a-bfaa-6ca0f201c8f5",
   "metadata": {},
   "outputs": [
    {
     "data": {
      "text/plain": [
       "array([[1.        , 0.60021603],\n",
       "       [0.60021603, 1.        ]])"
      ]
     },
     "execution_count": 23,
     "metadata": {},
     "output_type": "execute_result"
    }
   ],
   "source": [
    "np.corrcoef(X.T)"
   ]
  },
  {
   "cell_type": "code",
   "execution_count": 25,
   "id": "4d61ffee-ca81-491f-a0d1-a46fede4c589",
   "metadata": {},
   "outputs": [
    {
     "data": {
      "text/plain": [
       "array([[1.        , 0.36025929],\n",
       "       [0.36025929, 1.        ]])"
      ]
     },
     "execution_count": 25,
     "metadata": {},
     "output_type": "execute_result"
    }
   ],
   "source": [
    "np.square( np.corrcoef(X.T) )"
   ]
  },
  {
   "cell_type": "markdown",
   "id": "e4b6ad02-bb4b-43b9-9ed1-6965c28e7db1",
   "metadata": {},
   "source": [
    "**Diagonal elements (1.0):** These represent the correlation of each variable with itself, which is always exactly 1. This is expected and doesn't provide additional information.\n",
    "\n",
    "**Off-diagonal elements (0.60021603):** This is the **Pearson correlation coefficient** between the two variables. The value 0.60021603 indicates:\n",
    "\n",
    "1. **Direction:** The positive value indicates a positive correlation - when one variable increases, the other tends to increase as well.\n",
    "2. **Strength:** A value of 0.60 is typically considered a moderate to strong positive correlation:\n",
    "\n",
    "- 0.0-0.19: Very weak\n",
    "- 0.2-0.39: Weak\n",
    "- 0.4-0.59: Moderate\n",
    "- 0.6-0.79: Strong\n",
    "- 0.8-1.0: Very strong\n",
    "\n",
    "3. **Shared variance:** The square of the correlation coefficient ($r^2$) is approximately 0.36, meaning about 36% of the variance in one variable can be explained by changes in the other variable.\n",
    "\n",
    "\n",
    "---\n",
    "\n",
    "The variables move together about 60% of the time.\n",
    "They're definitely related, but not perfectly linear (which would be 1.0).\n",
    "There are other factors influencing each variable beyond their relationship with each other."
   ]
  },
  {
   "cell_type": "code",
   "execution_count": 26,
   "id": "9c11cb77-dae1-4201-9c36-550a22eb518f",
   "metadata": {},
   "outputs": [],
   "source": [
    "from scipy import stats"
   ]
  },
  {
   "cell_type": "code",
   "execution_count": 28,
   "id": "755f78f7-1eaa-4083-8b75-0852b01f148a",
   "metadata": {},
   "outputs": [
    {
     "data": {
      "text/plain": [
       "((10, 2), (2, 10))"
      ]
     },
     "execution_count": 28,
     "metadata": {},
     "output_type": "execute_result"
    }
   ],
   "source": [
    "X.shape, X.T.shape"
   ]
  },
  {
   "cell_type": "code",
   "execution_count": 33,
   "id": "902c0e5b-71ff-40e9-87f5-c8f4f083798e",
   "metadata": {},
   "outputs": [
    {
     "name": "stdout",
     "output_type": "stream",
     "text": [
      "Correlation coefficient: 0.600\n",
      "p-value: 0.067\n",
      "is p low? False\n"
     ]
    }
   ],
   "source": [
    "# Extract the two variables\n",
    "var1 = X.T[0, :]  # First row/variable.\n",
    "var2 = X.T[1, :]  # Second row/variable.\n",
    "\n",
    "# Calculate correlation coefficient and p-value.\n",
    "r, p = stats.pearsonr(var1, var2)\n",
    "\n",
    "print(f\"Correlation coefficient: {r:.3f}\")\n",
    "print(f\"p-value: {p:.3f}\") # Two-tailed p-value\n",
    "print(f\"is p low? {p <= 0.05}\")"
   ]
  },
  {
   "cell_type": "markdown",
   "id": "9ac439f1-79a8-4963-9ae8-94f1010e0618",
   "metadata": {},
   "source": [
    "The p-value interpretation:\n",
    "\n",
    "- If $p \\leq 0.05$ (common threshold): The correlation is statistically significant, meaning there's strong evidence against the null hypothesis that the true correlation is zero.\n",
    "- If $p > 0.05$: The correlation is not statistically significant, suggesting we cannot rule out the possibility that the observed correlation occurred by chance.\n",
    "\n",
    "So there's a 6.7% probability that we could observe a correlation this strong (or stronger) purely by chance, even if the true correlation in the population is zero.\n",
    "\n",
    "A correlation of 0.60 represents a moderate to strong relationship.\n",
    "It might still be practically meaningful even if not statistically significant.\n",
    "The lack of statistical significance is more about confidence in the result than the size of the effect."
   ]
  },
  {
   "cell_type": "markdown",
   "id": "fb7ef889-7324-4076-a219-05c056afffc6",
   "metadata": {},
   "source": [
    "## Why a Two-Tailed Test for Correlation?\n",
    "\n",
    "**No Assumed Direction of Association:**\n",
    "\n",
    "- In most research scenarios, we don't have an a priori reason to assume the correlation will be specifically positive or negative\n",
    "- The null hypothesis is that there is no correlation ($r = 0$)\n",
    "- The alternative hypothesis is that there is a correlation ($r \\neq 0$), without specifying the direction\n",
    "\n",
    "\n",
    "**Detecting Both Positive and Negative Relationships:**\n",
    "\n",
    "- A two-tailed test allows us to detect significant correlations in either direction\n",
    "- This is important because either a positive or negative correlation could be theoretically meaningful\n",
    "\n",
    "\n",
    "**Statistical Conservatism:**\n",
    "\n",
    "- Two-tailed tests are more conservative than one-tailed tests (require stronger evidence)\n",
    "- Using a two-tailed test reduces the risk of Type I errors (false positives)\n",
    "- One would generally prefer two-tailed tests unless there is strong justification for a directional hypothesis"
   ]
  },
  {
   "cell_type": "code",
   "execution_count": null,
   "id": "a0ae24af-0862-49c7-855b-d1e7b7c96bd7",
   "metadata": {},
   "outputs": [],
   "source": []
  }
 ],
 "metadata": {
  "kernelspec": {
   "display_name": "Python 3 (ipykernel)",
   "language": "python",
   "name": "python3"
  },
  "language_info": {
   "codemirror_mode": {
    "name": "ipython",
    "version": 3
   },
   "file_extension": ".py",
   "mimetype": "text/x-python",
   "name": "python",
   "nbconvert_exporter": "python",
   "pygments_lexer": "ipython3",
   "version": "3.13.3"
  }
 },
 "nbformat": 4,
 "nbformat_minor": 5
}
