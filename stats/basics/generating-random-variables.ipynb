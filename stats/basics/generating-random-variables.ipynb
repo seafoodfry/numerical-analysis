{
 "cells": [
  {
   "cell_type": "markdown",
   "id": "7927f24f-02ea-4df8-977b-12f07817490f",
   "metadata": {},
   "source": [
    "# Generating Random Variables"
   ]
  },
  {
   "cell_type": "markdown",
   "id": "3c2928cf-f0d8-4772-9856-c5cf44b1aa92",
   "metadata": {},
   "source": [
    "A **random variates** is an outcome or the realization of a random variable.\n",
    "\n",
    "Random variables can also be seen as functions of uniform variates transformed by a **generalized inverse function**.\n",
    "\n",
    "Thus, if $F$ is a CDF, which is a non-decreasing function on $\\mathbf{R}$,\n",
    "then the generalized inverse function of $F$, $F^{-}$, is defined as\n",
    "$$\n",
    "F^- (u) = \\inf \\{ x : F(x) \\geq u \\}\n",
    "$$\n",
    "\n",
    "So out of all the $x$s which would result in $F(x) \\geq u$, the generalized inverse function of the CDF $F$ is the\n",
    "greatest lower bound of such set.\n",
    "Or said even in another way, the generalized inverse function of $u$ corresponds to the smallest $x$ for which $F(x) \\geq u$."
   ]
  },
  {
   "cell_type": "markdown",
   "id": "6723c287-83bd-4acc-8b32-e4875eaf8c62",
   "metadata": {},
   "source": [
    "Since the generalized inverse function of $F$ is $\\inf\\{x : F(x) \\geq u \\}$, then it satisfies\n",
    "$F \\left( F^- (u) \\right) \\geq u$. If $F^-$ gives us an $x$ such that $F(x) \\geq u$, then applying $F$ on such $x$ just gets us back to $F(x) \\geq u$.\n",
    "\n",
    "Similarly, because $F^-$ is the infinumum of a set of $x$s, any $x$ should be greater than or equal to $F^- \\left( F(x) \\right)$, and thus $F^- \\left( F(x) \\right) \\leq x$.\n",
    "\n",
    "These two explanations can also be expressed as\n",
    "$$\n",
    "\\{ (u, x) : F(x) \\geq u \\} =\n",
    "\\{ (u, x) : F^- (u) \\leq x \\}\n",
    "$$\n",
    "\n",
    "And since these two are subsets of the sample space, we can express them as probabilities:\n",
    "$$\n",
    "P(F(x) \\geq U) = P( F^-(U) \\leq x)\n",
    "$$\n",
    "\n",
    "If we look specifically at $P(U \\leq F(x))$ and if we recall the definition of the CDF,\n",
    "namely $F(x) = P(X \\leq x)$, then\n",
    "$$\n",
    "P(U \\leq F(x)) = F(x)\n",
    "$$\n",
    "\n",
    "The notariety of the last result is that since\n",
    "$$\n",
    "\\{ (u, x) : F(x) \\geq u \\} =\n",
    "\\{ (u, x) : F^- (u) \\leq x \\}\n",
    "$$\n",
    "and\n",
    "$$\n",
    "P(U \\leq F(x)) = F(x) = F_U (x)\n",
    "$$\n",
    "\n",
    "Then $F^- (u)$ when $U \\sim U[0,1]$ has the same distribution as $F$.\n",
    "This is the **probability integral transform**.\n",
    "The above proof came from casella's Monte Carlo Statistical Methods, Lemma 2.4 on page 39."
   ]
  },
  {
   "cell_type": "markdown",
   "id": "8814c64b-6efd-4d2f-b8f1-b38ec7313dbd",
   "metadata": {},
   "source": [
    "Another proof is presented by Casella in Statistical Inference. It is theorem 2.1.10 on page 54.\n",
    "\n",
    "For $Y = F_X (X)$, we have for $y \\in [0,1]$ (Casella erroneously, we think, has $y \\in (0,1)$)\n",
    "$$\n",
    "F_Y (y) = P(Y \\leq y) = P(F_X (X) \\leq y)\n",
    "$$\n",
    "\n",
    "The next step is to make use of the **quantile function**, which is another name for the generalized inverse function we defined above.\n",
    "The quantile function is increasing so we can do the following\n",
    "$$\n",
    "P(F_X (X) \\leq y)\n",
    "= P(F^- \\left( F_X (X) \\right) \\leq F^- (y) )\n",
    "= P(X \\leq F^- (y) )\n",
    "$$\n",
    "\n",
    "Here again we can invoke the definition of the CDF,\n",
    "\n",
    "$$\n",
    "P(X \\leq F^- (y) )\n",
    "= F_X \\left( F^- (y) \\right)\n",
    "= y\n",
    "$$\n",
    "\n",
    "Which is another way of saying that $Y$ has a uniform distribution on the interval $[0,1]$.\n",
    "Which in turn says that $F_Y (y)$ is the CDF of a random variable following the uniform distribution.\n",
    "\n",
    "The [wikipedia page](https://en.wikipedia.org/wiki/Probability_integral_transform) has some interesting blurbs about applications."
   ]
  },
  {
   "cell_type": "markdown",
   "id": "2c1de90f-77ed-4639-9486-a2f4295c4a34",
   "metadata": {},
   "source": [
    "## Changing Variables"
   ]
  },
  {
   "cell_type": "markdown",
   "id": "aa3875ad-4bda-49ae-8ef7-b9c39054ffe6",
   "metadata": {},
   "source": [
    "There is a result from calculus that is presented a bit like this (the following presentation comes from\n",
    "[Paul's Online Notes: Section 15.8 : Change of Variables](https://tutorial.math.lamar.edu/classes/calciii/changeofvariables.aspx)):\n",
    "\n",
    "If we define the Jacobian of a transformation $x = g(u,v)$, $y = h(u,v)$ as\n",
    "$$\n",
    "\\frac{ \\partial (x,y) }{ \\partial (u,v) } = \n",
    "\\begin{vmatrix}\n",
    "\\frac{ \\partial x }{ \\partial u } \\frac{ \\partial x }{ \\partial v } \\\\\n",
    "\\frac{ \\partial y }{ \\partial u } \\frac{ \\partial y }{ \\partial v }\n",
    "\\end{vmatrix}\n",
    "$$\n",
    "\n",
    "Then if we want to integrate $f(x)$ over some surface $R$, this region will become some other surface $S$ following our transformation and he integral can be computed as follows:\n",
    "$$\n",
    "\\int \\int_{R} f(x,y) dA\n",
    "= \\int \\int_{S} f\\left( g(u,v), h(u,v) \\right) \\Biggl| \\frac{ \\partial (x,y) }{ \\partial (u,v) } \\Biggl| d\\overline{A}\n",
    "$$\n",
    "\n",
    "For example, when we go from Euclidean to polar coordinates, the transofrmation we use is $x = r\\cos\\theta$\n",
    "and $y = r\\sin\\theta$ and the Jacobian is $r$ so $dA = dx dy = r dr d\\theta$.\n",
    "\n",
    "In 3-dimensions this extends to\n",
    "$$\n",
    "\\int \\int \\int_{V} f(x,y,z) dV\n",
    "= \\int \\int \\int_{B} f\\left( g(u,v,w), h(u,v,w), k(u,v,w) \\right) \\Biggl| \\frac{ \\partial (x,y,z) }{ \\partial (u,v,w) } \\Biggl| d\\overline{V}\n",
    "$$\n",
    "\n",
    "For the case of the transformation of Euclidean coordinates to spherical coordinates, the transformation of variables is\n",
    "$x = r \\sin\\phi \\cos\\theta $, $y = r \\sin\\phi \\sin\\theta$, and $z = r\\cos\\phi$.\n",
    "In that case the Jacobian is $r^2 \\sin\\phi$ and thus $dV = dx dy dz = r^2 \\sin\\phi dr d\\phi d\\theta$.\n",
    "\n",
    "## References\n",
    "\n",
    "1. [Paul's Online Notes: Section 15.8 : Change of Variables](https://tutorial.math.lamar.edu/classes/calciii/changeofvariables.aspx)\n",
    "1. [Home Campus Bookshelves Monroe Community College MTH 212 Calculus III Chapter 14: Multiple Integration 14.7: Change of Variables in Multiple Integrals (Jacobians) ](https://math.libretexts.org/Courses/Monroe_Community_College/MTH_212_Calculus_III/Chapter_14%3A_Multiple_Integration/14.7%3A_Change_of_Variables_in_Multiple_Integrals_(Jacobians))"
   ]
  },
  {
   "cell_type": "code",
   "execution_count": null,
   "id": "ae9012b8-6e44-4888-9080-d61be27ba334",
   "metadata": {},
   "outputs": [],
   "source": []
  }
 ],
 "metadata": {
  "kernelspec": {
   "display_name": "Python 3 (ipykernel)",
   "language": "python",
   "name": "python3"
  },
  "language_info": {
   "codemirror_mode": {
    "name": "ipython",
    "version": 3
   },
   "file_extension": ".py",
   "mimetype": "text/x-python",
   "name": "python",
   "nbconvert_exporter": "python",
   "pygments_lexer": "ipython3",
   "version": "3.11.7"
  }
 },
 "nbformat": 4,
 "nbformat_minor": 5
}
