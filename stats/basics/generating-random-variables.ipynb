{
 "cells": [
  {
   "cell_type": "markdown",
   "id": "7927f24f-02ea-4df8-977b-12f07817490f",
   "metadata": {},
   "source": [
    "# Generating Random Variables"
   ]
  },
  {
   "cell_type": "markdown",
   "id": "3c2928cf-f0d8-4772-9856-c5cf44b1aa92",
   "metadata": {},
   "source": [
    "A **random variates** is an outcome or the realization of a random variable.\n",
    "\n",
    "Random variables can also be seen as functions of uniform variates transformed by a **generalized inverse function**.\n",
    "\n",
    "Thus, if $F$ is a CDF, which is a non-decreasing function on $\\mathbf{R}$,\n",
    "then the generalized inverse function of $F$, $F^{-}$, is defined as\n",
    "$$\n",
    "F^- (u) = \\inf \\{ x : F(x) \\geq u \\}\n",
    "$$\n",
    "\n",
    "So out of all the $x$s which would result in $F(x) \\geq u$, the generalized inverse function of the CDF $F$ is the\n",
    "greatest lower bound of such set.\n",
    "Or said even in another way, the generalized inverse function of $u$ corresponds to the smallest $x$ for which $F(x) \\geq u$."
   ]
  },
  {
   "cell_type": "markdown",
   "id": "6723c287-83bd-4acc-8b32-e4875eaf8c62",
   "metadata": {},
   "source": [
    "Since the generalized inverse function of $F$ is $\\inf\\{x : F(x) \\geq u \\}$, then it satisfies\n",
    "$F \\left( F^- (u) \\right) \\geq u$. If $F^-$ gives us an $x$ such that $F(x) \\geq u$, then applying $F$ on such $x$ just gets us back to $F(x) \\geq u$.\n",
    "\n",
    "Similarly, because $F^-$ is the infinumum of a set of $x$s, any $x$ should be greater than or equal to $F^- \\left( F(x) \\right)$, and thus $F^- \\left( F(x) \\right) \\leq x$.\n",
    "\n",
    "These two explanations can also be expressed as\n",
    "$$\n",
    "\\{ (u, x) : F(x) \\geq u \\} =\n",
    "\\{ (u, x) : F^- (u) \\leq x \\}\n",
    "$$\n",
    "\n",
    "And since these two are subsets of the sample space, we can express them as probabilities:\n",
    "$$\n",
    "P(F(x) \\geq U) = P( F^-(U) \\leq x)\n",
    "$$\n",
    "\n",
    "If we look specifically at $P(U \\leq F(x))$ and if we recall the definition of the CDF,\n",
    "namely $F(x) = P(X \\leq x)$, then\n",
    "$$\n",
    "P(U \\leq F(x)) = F(x)\n",
    "$$\n",
    "\n",
    "The notariety of the last result is that since\n",
    "$$\n",
    "\\{ (u, x) : F(x) \\geq u \\} =\n",
    "\\{ (u, x) : F^- (u) \\leq x \\}\n",
    "$$\n",
    "and\n",
    "$$\n",
    "P(U \\leq F(x)) = F(x) = F_U (x)\n",
    "$$\n",
    "\n",
    "Then $F^- (u)$ when $U \\sim U[0,1]$ has the same distribution as $F$.\n",
    "This is the **probability integral transform**.\n",
    "The above proof came from casella's Monte Carlo Statistical Methods, Lemma 2.4 on page 39."
   ]
  },
  {
   "cell_type": "markdown",
   "id": "8814c64b-6efd-4d2f-b8f1-b38ec7313dbd",
   "metadata": {},
   "source": [
    "Another proof is presented by Casella in Statistical Inference. It is theorem 2.1.10 on page 54.\n",
    "\n",
    "For $Y = F_X (X)$, we have for $y \\in [0,1]$ (Casella erroneously, we think, has $y \\in (0,1)$)\n",
    "$$\n",
    "F_Y (y) = P(Y \\leq y) = P(F_X (X) \\leq y)\n",
    "$$\n",
    "\n",
    "The next step is to make use of the **quantile function**, which is another name for the generalized inverse function we defined above.\n",
    "The quantile function is increasing so we can do the following\n",
    "$$\n",
    "P(F_X (X) \\leq y)\n",
    "= P(F^- \\left( F_X (X) \\right) \\leq F^- (y) )\n",
    "= P(X \\leq F^- (y) )\n",
    "$$\n",
    "\n",
    "Here again we can invoke the definition of the CDF,\n",
    "\n",
    "$$\n",
    "P(X \\leq F^- (y) )\n",
    "= F_X \\left( F^- (y) \\right)\n",
    "= y\n",
    "$$\n",
    "\n",
    "Which is another way of saying that $Y$ has a uniform distribution on the interval $[0,1]$.\n",
    "Which in turn says that $F_Y (y)$ is the CDF of a random variable following the uniform distribution.\n",
    "\n",
    "The [wikipedia page](https://en.wikipedia.org/wiki/Probability_integral_transform) has some interesting blurbs about applications."
   ]
  },
  {
   "cell_type": "code",
   "execution_count": null,
   "id": "7e27859e-fc9d-450d-a5f7-0c33c9ee0607",
   "metadata": {},
   "outputs": [],
   "source": []
  }
 ],
 "metadata": {
  "kernelspec": {
   "display_name": "Python 3 (ipykernel)",
   "language": "python",
   "name": "python3"
  },
  "language_info": {
   "codemirror_mode": {
    "name": "ipython",
    "version": 3
   },
   "file_extension": ".py",
   "mimetype": "text/x-python",
   "name": "python",
   "nbconvert_exporter": "python",
   "pygments_lexer": "ipython3",
   "version": "3.11.7"
  }
 },
 "nbformat": 4,
 "nbformat_minor": 5
}
