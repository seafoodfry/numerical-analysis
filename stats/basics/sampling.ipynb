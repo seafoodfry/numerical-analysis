{
 "cells": [
  {
   "cell_type": "markdown",
   "id": "63def38f-5144-4b7d-9912-a5a0f681c23d",
   "metadata": {},
   "source": [
    "# Rejection Sampling\n",
    "\n",
    "Is a type of exact simulation method. The method works for any distribution in $\\mathbf{R}^n$ with a PDF.\n",
    "\n",
    "Rejection sampling is based on the observation that to sample a random variable in one dimension, one can perform a uniformly random sampling of the two-dimensional Cartesian graph, and keep the samples in the region under the graph of its density function.\n",
    "\n",
    "First we need a source of random numbers uniformly distributed between 0 and 1.\n",
    "Given a source of random numbers with such a uniform distribution, we can easily produce a random sequence\n",
    "with an arbitrary distribution.\n",
    "Suppose we have a positive function $f(x)$ on the unit interval and we wish to generate points with a weighting proportional to\n",
    "$f$.\n",
    "For simplicity assume $f$ is bounded; if not, make a change of variables to make it so.\n",
    "Without loss of generality, we assume $f(x)$ us bounded by unity.\n",
    "Using the given random number generator, we obtains a trial number for the first element of our weighted sequence.\n",
    "Calling this number $x$, we obtain a second random number and accept $x$ if the new random variable is less than $f(x)$.\n",
    "This is repeated many times to form a sequence of accepted values of $x$.\n",
    "As the probability of accepting any $x$ is proportional to $f(x)$, the sequence has the desired weighting.\n",
    "\n",
    "From \"Quarks, Gluons, and Lattice\", page 132.\n",
    "\n",
    "Later on below, we will visit the more formal definiton by Casella."
   ]
  },
  {
   "cell_type": "code",
   "execution_count": 1,
   "id": "45f071c8-b92b-47da-a29f-25a6905520c2",
   "metadata": {},
   "outputs": [],
   "source": [
    "import numpy as np\n",
    "import matplotlib.pyplot as plt\n",
    "import scipy"
   ]
  },
  {
   "cell_type": "code",
   "execution_count": 3,
   "id": "ef7eea20-3ac8-4012-b8bd-142325aab1b3",
   "metadata": {},
   "outputs": [],
   "source": [
    "%load_ext memory_profiler"
   ]
  },
  {
   "cell_type": "code",
   "execution_count": 4,
   "id": "e78944d3-584f-4571-bb5f-0dbcab5d13b4",
   "metadata": {},
   "outputs": [
    {
     "name": "stdout",
     "output_type": "stream",
     "text": [
      "420 µs ± 15.8 µs per loop (mean ± std. dev. of 7 runs, 1,000 loops each)\n"
     ]
    }
   ],
   "source": [
    "%%timeit # -r 7 -n 1_000\n",
    "s = np.random.uniform(0, 1, 100_000)"
   ]
  },
  {
   "cell_type": "code",
   "execution_count": 5,
   "id": "63a883d5-835d-4edd-828f-10bd920e0b15",
   "metadata": {},
   "outputs": [
    {
     "name": "stdout",
     "output_type": "stream",
     "text": [
      "peak memory: 105.44 MiB, increment: 0.12 MiB\n"
     ]
    }
   ],
   "source": [
    "%%memit\n",
    "# see\n",
    "# https://github.com/pythonprofilers/memory_profiler/blob/a99a3c3b3c2eb01c90f6e14ddfcb85b3e97f9885/memory_profiler.py#L1029\n",
    "s = np.random.uniform(0, 1, 100_000)"
   ]
  },
  {
   "cell_type": "code",
   "execution_count": 6,
   "id": "1e1937e6-431c-4651-bc4d-f9dbba1606b1",
   "metadata": {},
   "outputs": [
    {
     "name": "stdout",
     "output_type": "stream",
     "text": [
      "peak memory: 105.44 MiB, increment: 0.00 MiB\n"
     ]
    }
   ],
   "source": [
    "%memit np.random.uniform(0, 1, 100)"
   ]
  },
  {
   "cell_type": "code",
   "execution_count": 2,
   "id": "185b64db-4d81-4d09-94da-83511cb966f6",
   "metadata": {
    "scrolled": true
   },
   "outputs": [
    {
     "data": {
      "image/png": "[encoded data removed]",
      "text/plain": [
       "<Figure size 640x480 with 1 Axes>"
      ]
     },
     "metadata": {},
     "output_type": "display_data"
    }
   ],
   "source": [
    "# Plot a uniform distribution.\n",
    "s = np.random.uniform(0, 1, 10_000)\n",
    "\n",
    "count, bins, ignored = plt.hist(s, 50, density=True)\n",
    "\n",
    "plt.plot(bins, np.ones_like(bins), linewidth=3, color='r')\n",
    "plt.xlim(0, 1)\n",
    "plt.show()"
   ]
  },
  {
   "cell_type": "code",
   "execution_count": 4,
   "id": "0ea968d3-af4c-4d84-bef1-04fd7817ff00",
   "metadata": {},
   "outputs": [
    {
     "name": "stdout",
     "output_type": "stream",
     "text": [
      "approximations accepted: 1441\n",
      "0.1% percentile: -3.090, 99.9% percentile: 3.090\n"
     ]
    },
    {
     "data": {
      "image/png": "[encoded data removed]",
      "text/plain": [
       "<Figure size 600x300 with 1 Axes>"
      ]
     },
     "metadata": {},
     "output_type": "display_data"
    }
   ],
   "source": [
    "# Simple implementation of the rejection sampling algorithm.\n",
    "n = 10_000\n",
    "samples = np.random.uniform(-3.5, 3.5, n)\n",
    "acceptances = np.random.uniform(0, 1, n)\n",
    "normalize = 3.5 - -3.5\n",
    "\n",
    "approximations = []\n",
    "for i in range(len(samples)):\n",
    "    x = samples[i]\n",
    "    f_u = scipy.stats.norm.pdf(x)\n",
    "        \n",
    "    if acceptances[i] < f_u:\n",
    "        approximations.append(x)\n",
    "\n",
    "\n",
    "print(f\"approximations accepted: {len(approximations)}\")\n",
    "print(f\"0.1% percentile: {scipy.stats.norm.ppf(0.001):0.3f}, 99.9% percentile: {scipy.stats.norm.ppf(0.999):0.3f}\")\n",
    "\n",
    "fig, ax = plt.subplots(1, 1, figsize=(6, 3))\n",
    "\n",
    "x = np.linspace(scipy.stats.norm.ppf(0.001), scipy.stats.norm.ppf(0.999), 200)\n",
    "ax.plot(x, scipy.stats.norm.pdf(x), 'r-', lw=5, alpha=0.9, label=\"norm pdf\")\n",
    "\n",
    "ax.hist(approximations, bins=10, density=True)\n",
    "\n",
    "#ax.legend(loc='best', frameon=False)\n",
    "fig.show()"
   ]
  },
  {
   "cell_type": "code",
   "execution_count": 5,
   "id": "87943eaa-ceeb-4e40-a460-b1b569ea21be",
   "metadata": {},
   "outputs": [
    {
     "name": "stdout",
     "output_type": "stream",
     "text": [
      "Generated 10000 samples.\n"
     ]
    }
   ],
   "source": [
    "# Now try generating random variates for some generic function f().\n",
    "import random\n",
    "\n",
    "def f(x):\n",
    "    \"\"\"Target distribution (proportional to): f(x) = x^2.\"\"\"\n",
    "    return x ** 2\n",
    "\n",
    "def rejection_sampling(num_samples, func):\n",
    "    \"\"\"Generates samples from a distribution proportional to f(x) on [0, 1] using rejection sampling.\"\"\"\n",
    "    samples = []\n",
    "    \n",
    "    while len(samples) < num_samples:\n",
    "        # Generate a trial sample x from a uniform distribution\n",
    "        x = random.uniform(0, 1)\n",
    "        # Generate a second random number for acceptance\n",
    "        accept_prob = random.uniform(0, 1)\n",
    "        \n",
    "        # Accept x if the second random number is less than f(x)\n",
    "        if accept_prob < func(x):\n",
    "            samples.append(x)\n",
    "    \n",
    "    return samples\n",
    "\n",
    "# Example usage:\n",
    "num_samples = 10000\n",
    "samples = rejection_sampling(num_samples, f)\n",
    "print(f\"Generated {len(samples)} samples.\")"
   ]
  },
  {
   "cell_type": "code",
   "execution_count": 6,
   "id": "fc9ed6a7-2340-40ab-a749-6736ad4487e4",
   "metadata": {},
   "outputs": [
    {
     "data": {
      "image/png": "[encoded data removed]",
      "text/plain": [
       "<Figure size 600x300 with 1 Axes>"
      ]
     },
     "metadata": {},
     "output_type": "display_data"
    }
   ],
   "source": [
    "fig, ax = plt.subplots(1, 1, figsize=(6, 3))\n",
    "\n",
    "ax.hist(samples, bins=10, density=True)\n",
    "\n",
    "fig.show()"
   ]
  },
  {
   "cell_type": "code",
   "execution_count": 7,
   "id": "28221924-6c28-4fa0-ba6c-b55874e8857c",
   "metadata": {
    "scrolled": true
   },
   "outputs": [
    {
     "name": "stdout",
     "output_type": "stream",
     "text": [
      "Generated 100000 samples.\n"
     ]
    },
    {
     "data": {
      "image/png": "[encoded data removed]",
      "text/plain": [
       "<Figure size 600x300 with 1 Axes>"
      ]
     },
     "metadata": {},
     "output_type": "display_data"
    }
   ],
   "source": [
    "# Example usage: using a cosine distribution.\n",
    "num_samples = 100000\n",
    "samples = rejection_sampling(num_samples, np.cos)\n",
    "print(f\"Generated {len(samples)} samples.\")\n",
    "\n",
    "fig, ax = plt.subplots(1, 1, figsize=(6, 3))\n",
    "\n",
    "ax.hist(samples, bins=10, density=True)\n",
    "\n",
    "fig.show()"
   ]
  },
  {
   "cell_type": "code",
   "execution_count": 93,
   "id": "764a6510-7bcb-460e-85cf-594bd9822d01",
   "metadata": {},
   "outputs": [],
   "source": [
    "import scipy\n",
    "import functools\n",
    "import matplotlib.animation as animation\n",
    "from IPython.display import HTML"
   ]
  },
  {
   "cell_type": "code",
   "execution_count": 94,
   "id": "e3b77c57-f630-4ffa-a010-40b530123057",
   "metadata": {},
   "outputs": [],
   "source": [
    "def target_beta_dist(x):\n",
    "    # Parameters for the beta distribution\n",
    "    alpha = 2.7\n",
    "    beta = 6.3\n",
    "\n",
    "    # https://en.wikipedia.org/wiki/Beta_distribution\n",
    "    # The mode is the point where the density will be the highest (m).\n",
    "    #mode = (alpha - 1) / (alpha + beta - 2)\n",
    "    \n",
    "    # Calculate the maximum density value at the mode.\n",
    "    return scipy.stats.beta.pdf(x, alpha, beta)"
   ]
  },
  {
   "cell_type": "code",
   "execution_count": 97,
   "id": "0aaa6cb9-bd04-4de8-b27c-566efa165fdd",
   "metadata": {},
   "outputs": [],
   "source": [
    "# We generate the data points ahead of time because we cannot animate a scatterplot by adding one point\n",
    "# per frame. The matplotlib-way to go about it is to instead create a scatterplot, and within that scatterplot\n",
    "# we can change the size of all points, their locations, or the color. Note that we cannot change the markers being used.\n",
    "# we will show how to do that below by creating two scatterplots, one using 'o's and the other '^'s.\n",
    "iterations = 50 * 30\n",
    "\n",
    "y = np.random.uniform(0, 1, iterations)\n",
    "u = np.random.uniform(0, 2.67, iterations)\n",
    "f_y = np.array([target_beta_dist(xi) for xi in y])\n",
    "\n",
    "# This array is for keeping track of all the u points we did accept.\n",
    "#points = [u_val if u_val <= f_y_val else f_y_val for u_val, f_y_val in zip(u, f_y) ]\n",
    "\n",
    "# The 'red' or 'black' values here match the indices of the accepted and rejected points.\n",
    "colors = [\"red\" if u_val <= f_y_val else \"black\" for u_val, f_y_val in zip(u, f_y) ]\n",
    "\n",
    "# Because we need to use the scatterplot method set_offsets() to update the scatterplot,\n",
    "# it turns out to be simples to use np.vstack().T to merge the (x,y) arrays\n",
    "# (the y random variates and the u random variates), and then transpose them into an n x 2 array.\n",
    "vstack = np.vstack((y, u)).T"
   ]
  },
  {
   "cell_type": "code",
   "execution_count": 99,
   "id": "26c7ce74-1929-44b2-b657-8ffa75d5b9b0",
   "metadata": {},
   "outputs": [],
   "source": [
    "fig = plt.figure()\n",
    "plt.xlim(0, 1)\n",
    "plt.ylim(0, 2.7)\n",
    "#graph, = plt.plot([], [], 'o') # another way of creating an empty plot.\n",
    "graph = plt.scatter([], [])\n",
    "\n",
    "def animate(i, graph):\n",
    "    # Note the way we are \"skipping frames\" here, we will improve upon this on the next animation.\n",
    "    i = i*30\n",
    "    \n",
    "    graph.set_offsets( vstack[:i+1] )\n",
    "    graph.set_facecolors(colors[:i+1])\n",
    "    return graph\n",
    "\n",
    "\n",
    "anim = functools.partial(animate, graph=graph)\n",
    "ani = animation.FuncAnimation(fig, anim, frames=50)\n",
    "\n",
    "# Output generated via `matplotlib.animation.Animation.to_jshtml`.\n",
    "plt.close(fig) # Used to prevent the PNG from showing.\n",
    "# TODO: delete the next line. we are commenting out because otherwise\n",
    "# the notebook will be too large and github won't render it.\n",
    "#HTML(ani.to_jshtml())"
   ]
  },
  {
   "cell_type": "code",
   "execution_count": 75,
   "id": "fd05b61c-929a-41d5-9090-f894d9f91f8f",
   "metadata": {},
   "outputs": [
    {
     "name": "stdout",
     "output_type": "stream",
     "text": [
      "[2.59471539 2.29384444 0.1125043  0.06507131 1.30403684]\n",
      "[4.85581300e-03 2.98612102e-15 2.52204208e+00 2.38790562e+00\n",
      " 2.56345475e+00]\n",
      "(array([2, 3, 4]),)\n"
     ]
    },
    {
     "data": {
      "text/plain": [
       "(3,)"
      ]
     },
     "execution_count": 75,
     "metadata": {},
     "output_type": "execute_result"
    }
   ],
   "source": [
    "# Soma chatgpt suggested improvements...\n",
    "y = np.random.uniform(0, 1, 5)\n",
    "u = np.random.uniform(0, 2.67, 5)\n",
    "f_y = np.array([target_beta_dist(xi) for xi in y])\n",
    "\n",
    "print(u)\n",
    "print(f_y)\n",
    "test_accepted = np.where(u <= f_y)\n",
    "print(test_accepted)\n",
    "test_accepted[0].shape"
   ]
  },
  {
   "cell_type": "code",
   "execution_count": 76,
   "id": "f557dd04-290a-4bcb-9375-4ca68f8e1440",
   "metadata": {},
   "outputs": [
    {
     "data": {
      "text/plain": [
       "array([2])"
      ]
     },
     "execution_count": 76,
     "metadata": {},
     "output_type": "execute_result"
    }
   ],
   "source": [
    "# Select specific values from the indices of accepted values only if the index meets\n",
    "# the condition that it is less than 3.\n",
    "test_accepted[0][test_accepted[0] < 3]"
   ]
  },
  {
   "cell_type": "code",
   "execution_count": 100,
   "id": "93be38ca-19f2-4de3-8ba2-25f5af2face6",
   "metadata": {},
   "outputs": [
    {
     "name": "stderr",
     "output_type": "stream",
     "text": [
      "/opt/conda/lib/python3.11/site-packages/matplotlib/animation.py:892: UserWarning: Animation was deleted without rendering anything. This is most likely not intended. To prevent deletion, assign the Animation to a variable, e.g. `anim`, that exists until you output the Animation using `plt.show()` or `anim.save()`.\n",
      "  warnings.warn(\n"
     ]
    }
   ],
   "source": [
    "import numpy as np\n",
    "import scipy.stats\n",
    "import functools\n",
    "import matplotlib.pyplot as plt\n",
    "import matplotlib.animation as animation\n",
    "from IPython.display import HTML\n",
    "\n",
    "iterations = 5_000\n",
    "nth = 100\n",
    "\n",
    "alpha = 2.7\n",
    "beta = 6.3\n",
    "\n",
    "def target_beta_dist(x, a, b):\n",
    "    return scipy.stats.beta.pdf(x, a, b)\n",
    "\n",
    "target_dist = functools.partial(target_beta_dist, a=alpha, b=beta)\n",
    "\n",
    "# https://en.wikipedia.org/wiki/Beta_distribution\n",
    "# The mode is the point where the density will be the highest (m).\n",
    "mode = (alpha - 1) / (alpha + beta - 2)\n",
    "max_density = target_dist(mode)\n",
    "\n",
    "y = np.random.uniform(0, 1, iterations)\n",
    "u = np.random.uniform(0, max_density, iterations)\n",
    "f_y = np.array([target_dist(xi) for xi in y])\n",
    "\n",
    "accepted_indices = np.where(u <= f_y)[0]\n",
    "rejected_indices = np.where(u > f_y)[0]\n",
    "\n",
    "fig, ax = plt.subplots()\n",
    "ax.set_xlim(0, 1)\n",
    "ax.set_ylim(0, round(max_density, 1))\n",
    "\n",
    "accepted_scatter = ax.scatter([], [], marker='^', color='green', s=10)\n",
    "rejected_scatter = ax.scatter([], [], marker='o', color='red', s=10)\n",
    "\n",
    "def init():\n",
    "    accepted_scatter.set_offsets(np.empty((0, 2)))  # Corrected here\n",
    "    rejected_scatter.set_offsets(np.empty((0, 2)))  # Corrected here\n",
    "    return accepted_scatter, rejected_scatter,\n",
    "\n",
    "def animate(i):\n",
    "    end_idx = min((i + 1) * nth, iterations)\n",
    "    \n",
    "    acc_idx = accepted_indices[accepted_indices < end_idx]\n",
    "    rej_idx = rejected_indices[rejected_indices < end_idx]\n",
    "    \n",
    "    accepted_scatter.set_offsets(np.vstack((y[acc_idx], u[acc_idx])).T)\n",
    "    rejected_scatter.set_offsets(np.vstack((y[rej_idx], u[rej_idx])).T)\n",
    "    \n",
    "    return accepted_scatter, rejected_scatter,\n",
    "\n",
    "ani = animation.FuncAnimation(fig, animate, init_func=init, frames=iterations // nth, blit=True, interval=50)\n",
    "\n",
    "plt.close(fig)  # Prevents duplicate output\n",
    "# TODO: delete the next line. we are commenting out because otherwise\n",
    "# the notebook will be too large and github won't render it.\n",
    "#HTML(ani.to_jshtml())"
   ]
  },
  {
   "cell_type": "code",
   "execution_count": 101,
   "id": "669297f1-6fcb-4318-939a-2a6235265e84",
   "metadata": {},
   "outputs": [
    {
     "data": {
      "text/plain": [
       "0.3746"
      ]
     },
     "execution_count": 101,
     "metadata": {},
     "output_type": "execute_result"
    }
   ],
   "source": [
    "# Acceptance rate.\n",
    "accepted_indices.size / iterations"
   ]
  },
  {
   "cell_type": "code",
   "execution_count": 102,
   "id": "83f8912b-9c36-464f-8665-b70161270f79",
   "metadata": {},
   "outputs": [
    {
     "data": {
      "text/plain": [
       "0.24285714285714288"
      ]
     },
     "execution_count": 102,
     "metadata": {},
     "output_type": "execute_result"
    }
   ],
   "source": [
    "mode"
   ]
  },
  {
   "cell_type": "code",
   "execution_count": null,
   "id": "8e49deda-3c5f-4d2b-9e2e-10927917188d",
   "metadata": {},
   "outputs": [],
   "source": []
  }
 ],
 "metadata": {
  "kernelspec": {
   "display_name": "Python 3 (ipykernel)",
   "language": "python",
   "name": "python3"
  },
  "language_info": {
   "codemirror_mode": {
    "name": "ipython",
    "version": 3
   },
   "file_extension": ".py",
   "mimetype": "text/x-python",
   "name": "python",
   "nbconvert_exporter": "python",
   "pygments_lexer": "ipython3",
   "version": "3.11.8"
  }
 },
 "nbformat": 4,
 "nbformat_minor": 5
}
