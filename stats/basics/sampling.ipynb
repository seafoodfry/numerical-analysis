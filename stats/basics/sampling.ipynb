{
 "cells": [
  {
   "cell_type": "markdown",
   "id": "63def38f-5144-4b7d-9912-a5a0f681c23d",
   "metadata": {},
   "source": [
    "# Rejection Sampling\n",
    "\n",
    "Is a type of exact simulation method. The method works for any distribution in $\\mathbf{R}^n$ with a PDF.\n",
    "\n",
    "Rejection sampling is based on the observation that to sample a random variable in one dimension, one can perform a uniformly random sampling of the two-dimensional Cartesian graph, and keep the samples in the region under the graph of its density function.\n",
    "\n",
    "First we need a source of random numbers uniformly distributed between 0 and 1.\n",
    "Given a source of random numbers with such a uniform distribution, we can easily produce a random sequence\n",
    "with an arbitrary distribution.\n",
    "Suppose we have a positive function $f(x)$ on the unit interval and we wish to generate points with a weighting proportional to\n",
    "$f$.\n",
    "For simplicity assume $f$ is bounded; if not, make a change of variables to make it so.\n",
    "Without logg of generality, we assume $f(x)$ us bounded by unity.\n",
    "Using the given random number generator, we obtains a trial number for the first element of our weighted sequence.\n",
    "Calling this number $x$, we obtain a second random number and accept $x$ if the new random variable is less than $f(x)$.\n",
    "This is repeated many times to form a sequence of accepted values of $x$.\n",
    "As the probability of accepting any $x$ is proportional to $f(x)$, the sequence has the desired weighting.\n",
    "\n",
    "From \"Quarks, Gluons, and Lattice\", page 132."
   ]
  },
  {
   "cell_type": "code",
   "execution_count": 1,
   "id": "45f071c8-b92b-47da-a29f-25a6905520c2",
   "metadata": {},
   "outputs": [],
   "source": [
    "import numpy as np\n",
    "import matplotlib.pyplot as plt\n",
    "\n",
    "from numpy.random import uniform"
   ]
  },
  {
   "cell_type": "code",
   "execution_count": 2,
   "id": "e78944d3-584f-4571-bb5f-0dbcab5d13b4",
   "metadata": {},
   "outputs": [
    {
     "name": "stdout",
     "output_type": "stream",
     "text": [
      "414 µs ± 3.79 µs per loop (mean ± std. dev. of 7 runs, 1,000 loops each)\n"
     ]
    }
   ],
   "source": [
    "%%timeit # -r 7 -n 1_000\n",
    "s = np.random.uniform(0, 1, 100_000)"
   ]
  },
  {
   "cell_type": "code",
   "execution_count": 5,
   "id": "185b64db-4d81-4d09-94da-83511cb966f6",
   "metadata": {
    "scrolled": true
   },
   "outputs": [
    {
     "data": {
      "image/png": "[encoded data removed]",
      "text/plain": [
       "<Figure size 640x480 with 1 Axes>"
      ]
     },
     "metadata": {},
     "output_type": "display_data"
    }
   ],
   "source": [
    "s = np.random.uniform(0, 1, 10_000)\n",
    "\n",
    "count, bins, ignored = plt.hist(s, 50, density=True)\n",
    "\n",
    "plt.plot(bins, np.ones_like(bins), linewidth=3, color='r')\n",
    "plt.xlim(0, 1)\n",
    "plt.show()"
   ]
  },
  {
   "cell_type": "code",
   "execution_count": 28,
   "id": "fae72728-2768-4d9a-87d2-81e2b6b66eb6",
   "metadata": {},
   "outputs": [],
   "source": [
    "from scipy.stats import norm\n",
    "\n",
    "sample = np.random.uniform(0, 1, 1000)"
   ]
  },
  {
   "cell_type": "code",
   "execution_count": 32,
   "id": "0ea968d3-af4c-4d84-bef1-04fd7817ff00",
   "metadata": {},
   "outputs": [],
   "source": [
    "approximation = []\n",
    "for u in sample:\n",
    "    if u < norm.cdf(u):\n",
    "        approximation.append(u)"
   ]
  },
  {
   "cell_type": "code",
   "execution_count": 33,
   "id": "e8dba292-7c1f-4a0a-8aea-74516f61206e",
   "metadata": {},
   "outputs": [
    {
     "data": {
      "text/plain": [
       "783"
      ]
     },
     "execution_count": 33,
     "metadata": {},
     "output_type": "execute_result"
    }
   ],
   "source": [
    "len(approximation)"
   ]
  },
  {
   "cell_type": "code",
   "execution_count": 34,
   "id": "856ddf2a-1e5c-4c98-a7e3-5feee732f850",
   "metadata": {},
   "outputs": [
    {
     "data": {
      "image/png": "[encoded data removed]",
      "text/plain": [
       "<Figure size 600x300 with 1 Axes>"
      ]
     },
     "metadata": {},
     "output_type": "display_data"
    }
   ],
   "source": [
    "fig, ax = plt.subplots(1, 1, figsize=(6, 3))\n",
    "\n",
    "x = np.linspace(norm.ppf(0.001), norm.ppf(0.999), 200)\n",
    "#ax.plot(x, norm.pdf(x), 'r-', lw=5, alpha=0.9, label=\"norm pdf\")\n",
    "\n",
    "ax.hist(approximation, bins=10, density=True)\n",
    "\n",
    "#ax.legend(loc='best', frameon=False)\n",
    "fig.show()"
   ]
  },
  {
   "cell_type": "code",
   "execution_count": null,
   "id": "87943eaa-ceeb-4e40-a460-b1b569ea21be",
   "metadata": {},
   "outputs": [],
   "source": []
  }
 ],
 "metadata": {
  "kernelspec": {
   "display_name": "Python 3 (ipykernel)",
   "language": "python",
   "name": "python3"
  },
  "language_info": {
   "codemirror_mode": {
    "name": "ipython",
    "version": 3
   },
   "file_extension": ".py",
   "mimetype": "text/x-python",
   "name": "python",
   "nbconvert_exporter": "python",
   "pygments_lexer": "ipython3",
   "version": "3.11.7"
  }
 },
 "nbformat": 4,
 "nbformat_minor": 5
}
