{
 "cells": [
  {
   "cell_type": "code",
   "execution_count": 1,
   "id": "fc08a021-0ca1-497a-9837-be5fa09e3d30",
   "metadata": {},
   "outputs": [],
   "source": [
    "import matplotlib.pyplot as plt\n",
    "import numpy as np"
   ]
  },
  {
   "cell_type": "markdown",
   "id": "d7f8f287-aca2-4c93-a1a1-bd9ce5ad9c99",
   "metadata": {},
   "source": [
    "# One-Sample Tests"
   ]
  },
  {
   "cell_type": "markdown",
   "id": "595894ad-2422-4c60-90f3-b3989570a844",
   "metadata": {},
   "source": [
    "## Proportion Hypothesis Tests\n",
    "\n",
    "## Ci as Hypothesis Tests\n",
    "\n",
    "**Note:** If the significance level $\\alpha$ for the hypotehsis test is 0.05, then the confidence level should be 95% for a 2-tailed test and 90% for a 1-tailed test.\n",
    "\n",
    "### References\n",
    "\n",
    "* Perform a binomial test that the probability of success is p https://docs.scipy.org/doc/scipy/reference/generated/scipy.stats.binomtest.html\n",
    "* binomtest.proportion_ci https://docs.scipy.org/doc/scipy/reference/generated/scipy.stats._result_classes.BinomTestResult.proportion_ci.html\n",
    "* Calculate the T-test for the mean of ONE group of scores https://docs.scipy.org/doc/scipy/reference/generated/scipy.stats.ttest_1samp.html"
   ]
  },
  {
   "cell_type": "code",
   "execution_count": 2,
   "id": "2d00f7fa-240a-4bbe-a89e-0c8c86fa00a0",
   "metadata": {},
   "outputs": [],
   "source": [
    "from scipy.stats import binom, binomtest\n",
    "from statsmodels.stats.proportion import proportion_confint, samplesize_confint_proportion"
   ]
  },
  {
   "cell_type": "code",
   "execution_count": 3,
   "id": "536fa0a9-eac6-4a06-9c4e-887a9613ad8b",
   "metadata": {},
   "outputs": [
    {
     "data": {
      "text/plain": [
       "BinomTestResult(k=3, n=15, alternative='greater', proportion_estimate=0.2, pvalue=0.18406106910639106)"
      ]
     },
     "execution_count": 3,
     "metadata": {},
     "output_type": "execute_result"
    }
   ],
   "source": [
    "# A car manufacturer claims that no more than 10% of their cars are unsafe.\n",
    "# 15 cars are inspected for safety, 3 were found to be unsafe.\n",
    "result = binomtest(3, n=15, p=0.1, alternative=\"greater\")\n",
    "result"
   ]
  },
  {
   "cell_type": "code",
   "execution_count": 4,
   "id": "baf531c2-ebfb-45bc-b290-5c229b75a234",
   "metadata": {},
   "outputs": [
    {
     "data": {
      "text/plain": [
       "BinomTestResult(k=9, n=10, alternative='greater', proportion_estimate=0.9, pvalue=0.24402523040771484)"
      ]
     },
     "execution_count": 4,
     "metadata": {},
     "output_type": "execute_result"
    }
   ],
   "source": [
    "# 10 randomly selected couple, 9 babies are girls.\n",
    "# H1: p(baby girl) > 0.75.\n",
    "result = binomtest(9, n=10, p=0.75, alternative=\"greater\")\n",
    "result"
   ]
  },
  {
   "cell_type": "code",
   "execution_count": 5,
   "id": "d2be25d7-af7f-47e0-8001-560e65a6a12f",
   "metadata": {},
   "outputs": [
    {
     "name": "stdout",
     "output_type": "stream",
     "text": [
      "BinomTestResult(k=545, n=1009, alternative='greater', proportion_estimate=0.5401387512388504, pvalue=0.005873947098135836)\n",
      "estimated proportion CI: ConfidenceInterval(low=0.5137732801593696, high=1.0)\n",
      "confint CI: (0.5143311435124278, 0.5659463589652729)\n",
      "estimate sample size from statsmodel: 1000.5708040293697\n"
     ]
    }
   ],
   "source": [
    "# 1009 consumers polled. 545 of them happy with the new store.\n",
    "# Are the majority content with the new store?\n",
    "result = binomtest(545, n=1009, p=0.5, alternative=\"greater\")\n",
    "ci = result.proportion_ci(confidence_level=0.95, method=\"exact\")\n",
    "\n",
    "# 90% confidence since the hypothesis test is not two-sided.\n",
    "ci_low, ci_high = proportion_confint(\n",
    "    count=545,  # Number of \"successes\"\n",
    "    nobs=1_009,  # Number of trials.\n",
    "    alpha=(1 - 0.90))\n",
    "\n",
    "estimate_n = samplesize_confint_proportion(proportion=0.5, half_length=0.026, alpha=(1-0.90))\n",
    "\n",
    "print(result)\n",
    "print(f\"estimated proportion CI: {ci}\")\n",
    "print(f\"confint CI: ({ci_low}, {ci_high})\")\n",
    "print(f\"estimate sample size from statsmodel: {estimate_n}\")"
   ]
  },
  {
   "cell_type": "code",
   "execution_count": 6,
   "id": "60d1341d-e875-4491-978d-70532b9790bf",
   "metadata": {},
   "outputs": [
    {
     "name": "stdout",
     "output_type": "stream",
     "text": [
      "k= 0  p-value:1.000000  proportion estimate:0.000  CI:(0.000,1.000) \n",
      "k= 1  p-value:0.999968  proportion estimate:0.042  CI:(0.002,1.000) \n",
      "k= 2  p-value:0.999550  proportion estimate:0.083  CI:(0.015,1.000) \n",
      "k= 3  p-value:0.996960  proportion estimate:0.125  CI:(0.035,1.000) \n",
      "k= 4  p-value:0.986737  proportion estimate:0.167  CI:(0.059,1.000) \n",
      "k= 5  p-value:0.957836  proportion estimate:0.208  CI:(0.086,1.000) \n",
      "k= 6  p-value:0.895589  proportion estimate:0.250  CI:(0.115,1.000) \n",
      "k= 7  p-value:0.789448  proportion estimate:0.292  CI:(0.146,1.000) \n",
      "k= 8  p-value:0.642484  proportion estimate:0.333  CI:(0.178,1.000) \n",
      "k= 9  p-value:0.474324  proportion estimate:0.375  CI:(0.212,1.000) \n",
      "k=10  p-value:0.313350  proportion estimate:0.417  CI:(0.246,1.000) \n",
      "k=11  p-value:0.183333  proportion estimate:0.458  CI:(0.282,1.000) \n",
      "k=12  p-value:0.094230  proportion estimate:0.500  CI:(0.319,1.000) \n",
      "k=13  p-value:0.042253  proportion estimate:0.542  CI:(0.358,1.000) <--\n",
      "k=14  p-value:0.016419  proportion estimate:0.583  CI:(0.397,1.000) <--\n",
      "k=15  p-value:0.005489  proportion estimate:0.625  CI:(0.437,1.000) <--\n",
      "k=16  p-value:0.001565  proportion estimate:0.667  CI:(0.479,1.000) <--\n",
      "k=17  p-value:0.000377  proportion estimate:0.708  CI:(0.521,1.000) <--\n",
      "k=18  p-value:0.000075  proportion estimate:0.750  CI:(0.565,1.000) <--\n",
      "k=19  p-value:0.000012  proportion estimate:0.792  CI:(0.611,1.000) <--\n",
      "k=20  p-value:0.000002  proportion estimate:0.833  CI:(0.658,1.000) <--\n",
      "k=21  p-value:0.000000  proportion estimate:0.875  CI:(0.708,1.000) <--\n",
      "k=22  p-value:0.000000  proportion estimate:0.917  CI:(0.760,1.000) <--\n",
      "k=23  p-value:0.000000  proportion estimate:0.958  CI:(0.817,1.000) <--\n",
      "k=24  p-value:0.000000  proportion estimate:1.000  CI:(0.883,1.000) <--\n"
     ]
    }
   ],
   "source": [
    "# 24 people and we found that 13 of them are smokers.\n",
    "# Can we claim that the proportion of smokers in the population is at least 35% at a 5% level of significance?\n",
    "for i in range(24+1): # range is not inclusive on the right.\n",
    "    res = binomtest(i, n=24, p=0.35, alternative=\"greater\")\n",
    "    pval = res.pvalue\n",
    "    point_est = res.proportion_estimate\n",
    "    ci = res.proportion_ci(confidence_level=0.95, method=\"exact\")\n",
    "    marker = \"<--\" if pval <= 0.05 else \"\"\n",
    "    print(f\"k={i:2}  p-value:{pval:5.6f}  proportion estimate:{point_est:5.3f}  CI:({ci.low:5.3f},{ci.high:5.3f}) {marker}\")"
   ]
  },
  {
   "cell_type": "code",
   "execution_count": 7,
   "id": "f793d5c0-de4f-4456-9baf-de4a1a149ce2",
   "metadata": {},
   "outputs": [
    {
     "data": {
      "text/plain": [
       "12.0"
      ]
     },
     "execution_count": 7,
     "metadata": {},
     "output_type": "execute_result"
    }
   ],
   "source": [
    "# 95th percentile (confidence level). N=24 and proportion of 0.35.\n",
    "# 1-tailed test.\n",
    "binom.ppf(q=0.95, n=24, p=0.35)\n",
    "\n",
    "# Ans: 12. We can see from the above that this matches with k=13 being a critical value.\n",
    "# Remember we reject the null for every value greater than or equal to the critical value."
   ]
  },
  {
   "cell_type": "code",
   "execution_count": 8,
   "id": "6243a575-3cbc-4f02-8606-a2a5d29a9a6d",
   "metadata": {},
   "outputs": [
    {
     "data": {
      "text/plain": [
       "0.042253074798904944"
      ]
     },
     "execution_count": 8,
     "metadata": {},
     "output_type": "execute_result"
    }
   ],
   "source": [
    "# Triple check: the area to the right of k=12 is indeed less than alpha of 0.05.\n",
    "binom.sf(k=12, n=24, p=0.35)"
   ]
  },
  {
   "cell_type": "markdown",
   "id": "3881fc53-dea4-46b7-a7ff-baf38c3a159f",
   "metadata": {},
   "source": [
    "$$\n",
    "\\alpha = P (\\text{type I error}) = P(\\text{false positive}) = P (\\text{reject }H_0 | H_0 \\text{ is true})\n",
    "$$\n",
    "\n",
    "$$\n",
    "\\beta = P (\\text{type II error}) = P(\\text{false negative}) = P (\\text{fail to reject } H_0 | H_0 \\text{ is false}) = P (\\text{fail to reject } H_0 | H_1 \\text{ is true})\n",
    "$$\n",
    "\n",
    "Power is then defined as\n",
    "$$\n",
    "Power = 1 - \\beta (\\text{type II error}) = 1 - P (\\text{fail to reject } H_0 | H_0 \\text{ is false}) = P (\\text{reject }H_0 | H_0 \\text{ is false})\n",
    "$$\n",
    "Or in a more wordy-way\n",
    "$$\n",
    "P(\\text{true positive}) = 1 - P(\\text{false negative})\n",
    "$$\n",
    "\n",
    "Putting it in a more concrete way\n",
    "$$\n",
    "Power = P(X \\geq \\text{critical value} | n, \\hat{p}) = 1 - P(X \\leq \\text{c - 1} | n, \\hat{p})\n",
    "$$\n",
    "$\\hat{p}$ is the observed proprtion (i.e., the 13 smokers we found in our sample of 24.\n",
    "\n",
    "Some useful references\n",
    "* How to Get the Power of Test in Hypothesis Testing with Binomial Distribution https://predictivehacks.com/how-to-get-the-power-of-test-in-hypothesis-testing-with-binomial-distribution/\n",
    "* A Gentle Introduction to Statistical Power and Power Analysis in Python https://machinelearningmastery.com/statistical-power-and-power-analysis-in-python/"
   ]
  },
  {
   "cell_type": "code",
   "execution_count": 9,
   "id": "faef9a5a-a2d5-4ec6-a6f1-283aa877dccd",
   "metadata": {},
   "outputs": [
    {
     "data": {
      "text/plain": [
       "0.5830354279549568"
      ]
     },
     "execution_count": 9,
     "metadata": {},
     "output_type": "execute_result"
    }
   ],
   "source": [
    "power = 1.0 - binom.cdf(k=12, n=24, p=13/24)\n",
    "power"
   ]
  },
  {
   "cell_type": "code",
   "execution_count": 10,
   "id": "8cf985b9-e9a6-4352-ba77-64d3c16878df",
   "metadata": {},
   "outputs": [
    {
     "data": {
      "text/plain": [
       "0.5830354279549568"
      ]
     },
     "execution_count": 10,
     "metadata": {},
     "output_type": "execute_result"
    }
   ],
   "source": [
    "# Power is 58.3%.\n",
    "binom.sf(k=12, n=24, p=13/24)"
   ]
  },
  {
   "cell_type": "code",
   "execution_count": 11,
   "id": "912b247e-d76f-4e17-a9c4-0c06294a7d38",
   "metadata": {},
   "outputs": [],
   "source": [
    "def proportion_sample_size(proportion_test, proportion_obs, confidence_level=0.95, power=0.8):\n",
    "    \"\"\"\n",
    "    proportion_test is the proportion being tested in the hypothesis test.\n",
    "    proportion_obs is the proportion observed in our sample.\n",
    "    \"\"\"\n",
    "    n=0\n",
    "    while True:\n",
    "        critical_val = binom.ppf(q=confidence_level, n=n, p=proportion_test)\n",
    "        calculated_power = binom.sf(k=critical_val, n=n, p=proportion_obs)\n",
    "        if n >= 30 and n%500 == 0:\n",
    "            print(f\"iteration={n} c={critical_val} calculated power={calculated_power}\")\n",
    "        if calculated_power >= power:\n",
    "            print(f\"iteration {n} critical value {critical_val} power = {calculated_power}\")\n",
    "            return n\n",
    "        if calculated_power <= 1e-6 and n > 10_000:\n",
    "            print(f\"iteration {n} critical value {critical_val} power = {calculated_power}\")\n",
    "            return n\n",
    "        n += 1"
   ]
  },
  {
   "cell_type": "code",
   "execution_count": 12,
   "id": "aefd8fa9-88df-46a3-8e32-10c29f2b7cf2",
   "metadata": {},
   "outputs": [
    {
     "name": "stdout",
     "output_type": "stream",
     "text": [
      "iteration=500 c=193.0 calculated power=0.003677571056930431\n",
      "iteration=1000 c=375.0 calculated power=0.0012185542487367685\n",
      "iteration=1500 c=555.0 calculated power=0.0004948164096803965\n",
      "iteration=2000 c=735.0 calculated power=0.00018487682519291036\n",
      "iteration=2500 c=914.0 calculated power=7.94774642815347e-05\n",
      "iteration=3000 c=1093.0 calculated power=3.3356838931427966e-05\n",
      "iteration=3500 c=1271.0 calculated power=1.61571226308318e-05\n",
      "iteration=4000 c=1450.0 calculated power=6.631262576346431e-06\n",
      "iteration=4500 c=1628.0 calculated power=3.14662361282887e-06\n",
      "iteration=5000 c=1806.0 calculated power=1.4830668011233708e-06\n",
      "iteration=5500 c=1983.0 calculated power=8.015756796702325e-07\n",
      "iteration=6000 c=2161.0 calculated power=3.741398280658078e-07\n",
      "iteration=6500 c=2338.0 calculated power=1.998960636188232e-07\n",
      "iteration=7000 c=2516.0 calculated power=9.287433664326712e-08\n",
      "iteration=7500 c=2693.0 calculated power=4.928736340063574e-08\n",
      "iteration=8000 c=2870.0 calculated power=2.6074272318582035e-08\n",
      "iteration=8500 c=3047.0 calculated power=1.375963472748466e-08\n",
      "iteration=9000 c=3225.0 calculated power=6.367736299476477e-09\n",
      "iteration=9500 c=3402.0 calculated power=3.3520722359094236e-09\n",
      "iteration=10000 c=3579.0 calculated power=1.7620725316181278e-09\n",
      "iteration 10001 critical value 3579.0 power = 1.840879856482558e-09\n"
     ]
    },
    {
     "data": {
      "text/plain": [
       "10001"
      ]
     },
     "execution_count": 12,
     "metadata": {},
     "output_type": "execute_result"
    }
   ],
   "source": [
    "# When prop_test > prop_obs: power -> 0.\n",
    "# The sf of a distribution with with the lower obs prop is 0 when using a critical value from a dist with a higher prop.\n",
    "proportion_sample_size(proportion_test=0.35, proportion_obs=0.33)"
   ]
  },
  {
   "cell_type": "code",
   "execution_count": 13,
   "id": "bcc36e9c-53a3-40c7-a4e7-22f993b50091",
   "metadata": {},
   "outputs": [
    {
     "name": "stdout",
     "output_type": "stream",
     "text": [
      "k= 0  p-value:1.000000  proportion estimate:0.000  CI:(0.000,1.000) \n",
      "k= 1  p-value:0.999939  proportion estimate:0.071  CI:(0.004,1.000) \n",
      "k= 2  p-value:0.999084  proportion estimate:0.143  CI:(0.026,1.000) \n",
      "k= 3  p-value:0.993530  proportion estimate:0.214  CI:(0.061,1.000) \n",
      "k= 4  p-value:0.971313  proportion estimate:0.286  CI:(0.104,1.000) \n",
      "k= 5  p-value:0.910217  proportion estimate:0.357  CI:(0.153,1.000) \n",
      "k= 6  p-value:0.788025  proportion estimate:0.429  CI:(0.206,1.000) \n",
      "k= 7  p-value:0.604736  proportion estimate:0.500  CI:(0.264,1.000) \n",
      "k= 8  p-value:0.395264  proportion estimate:0.571  CI:(0.325,1.000) \n",
      "k= 9  p-value:0.211975  proportion estimate:0.643  CI:(0.390,1.000) \n",
      "k=10  p-value:0.089783  proportion estimate:0.714  CI:(0.460,1.000) \n",
      "k=11  p-value:0.028687  proportion estimate:0.786  CI:(0.534,1.000) <--\n",
      "k=12  p-value:0.006470  proportion estimate:0.857  CI:(0.615,1.000) <--\n",
      "k=13  p-value:0.000916  proportion estimate:0.929  CI:(0.703,1.000) <--\n",
      "k=14  p-value:0.000061  proportion estimate:1.000  CI:(0.807,1.000) <--\n"
     ]
    }
   ],
   "source": [
    "# 14 babies and 13 were girls.\n",
    "# H0: p = 0.5 and H1: p > 0.5.\n",
    "for i in range(14+1): # range is not inclusive on the right.\n",
    "    res = binomtest(i, n=14, p=0.5, alternative=\"greater\")\n",
    "    pval = res.pvalue\n",
    "    point_est = res.proportion_estimate\n",
    "    ci = res.proportion_ci(confidence_level=0.95, method=\"exact\")\n",
    "    marker = \"<--\" if pval <= 0.05 else \"\"\n",
    "    print(f\"k={i:2}  p-value:{pval:5.6f}  proportion estimate:{point_est:5.3f}  CI:({ci.low:5.3f},{ci.high:5.3f}) {marker}\")"
   ]
  },
  {
   "cell_type": "code",
   "execution_count": 14,
   "id": "e4f7c9a2-b705-4760-a9e3-cb3431a08483",
   "metadata": {},
   "outputs": [
    {
     "data": {
      "text/plain": [
       "10.0"
      ]
     },
     "execution_count": 14,
     "metadata": {},
     "output_type": "execute_result"
    }
   ],
   "source": [
    "binom.ppf(q=0.95, n=14, p=0.5) # Critical value."
   ]
  },
  {
   "cell_type": "code",
   "execution_count": 15,
   "id": "7f4668fe-8868-4f78-b3a7-2cedef1028dc",
   "metadata": {},
   "outputs": [
    {
     "data": {
      "text/plain": [
       "0.0286865234375"
      ]
     },
     "execution_count": 15,
     "metadata": {},
     "output_type": "execute_result"
    }
   ],
   "source": [
    "binom.sf(k=10, n=14, p=0.5) # Area to the right of the critical value."
   ]
  },
  {
   "cell_type": "code",
   "execution_count": 16,
   "id": "b41714b1-82dc-434d-a025-6d07246f4602",
   "metadata": {},
   "outputs": [
    {
     "data": {
      "text/plain": [
       "0.9854295609664715"
      ]
     },
     "execution_count": 16,
     "metadata": {},
     "output_type": "execute_result"
    }
   ],
   "source": [
    "1.0 - binom.cdf(k=10, n=14, p=13/14) # Power."
   ]
  },
  {
   "cell_type": "code",
   "execution_count": 17,
   "id": "2957b35d-d3c9-40c2-8590-12cb361d510a",
   "metadata": {},
   "outputs": [
    {
     "data": {
      "text/plain": [
       "0.9854295609664715"
      ]
     },
     "execution_count": 17,
     "metadata": {},
     "output_type": "execute_result"
    }
   ],
   "source": [
    "binom.sf(k=10, n=14, p=13/14) # Power."
   ]
  },
  {
   "cell_type": "markdown",
   "id": "fa8c7459-fc9d-49a3-b336-cf96b64b6bd5",
   "metadata": {},
   "source": [
    "## Mean Hypothesis Tests\n",
    "\n",
    "### References\n",
    "\n",
    "* Calculate the T-test for the mean of ONE group of scores https://docs.scipy.org/doc/scipy/reference/generated/scipy.stats.ttest_1samp.html"
   ]
  },
  {
   "cell_type": "code",
   "execution_count": 3,
   "id": "8c755785-66c5-4724-8931-14eb95f92f44",
   "metadata": {},
   "outputs": [],
   "source": [
    "from scipy.stats import t, ttest_1samp\n",
    "import statsmodels.api as sm\n",
    "\n",
    "\n",
    "def mean_margin_of_error(sample_std, sample_size, confidence_lvl=0.95) -> float:\n",
    "    df = sample_size - 1\n",
    "    alpha = 1 - confidence_lvl\n",
    "    critical_value = t.ppf(confidence_lvl + (alpha / 2.0), df=df) # We want the t score from the desired covered area.\n",
    "    \n",
    "    print(f\"using critical value of {critical_value}\")\n",
    "    return critical_value * (sample_std / np.sqrt(sample_size))"
   ]
  },
  {
   "cell_type": "code",
   "execution_count": 25,
   "id": "080dcd6e-38f8-4934-86fc-048d90a3516d",
   "metadata": {},
   "outputs": [
    {
     "name": "stdout",
     "output_type": "stream",
     "text": [
      "using critical value of 1.7958848187036691\n",
      "mean: 6.833333333333333\n",
      "Ttest_1sampResult(statistic=-0.28977485337560827, pvalue=0.3886888458624178)\n",
      "ci: (5.800413696022227, 7.866252970644439)\n"
     ]
    },
    {
     "data": {
      "image/png": "[encoded data removed]",
      "text/plain": [
       "<Figure size 900x300 with 2 Axes>"
      ]
     },
     "metadata": {},
     "output_type": "display_data"
    }
   ],
   "source": [
    "sample = np.array([4, 4, 4, 8, 8, 6, 9, 7, 10, 7, 8, 7])\n",
    "result = ttest_1samp(sample, popmean=7, alternative=\"less\")\n",
    "\n",
    "mean = sample.mean()\n",
    "\n",
    "# 90% confidence interval because it is not a two-sided test.\n",
    "mean_err = mean_margin_of_error(sample.std(ddof=1), sample.size, confidence_lvl=0.9)\n",
    "\n",
    "print(f\"mean: {mean}\")\n",
    "print(result)\n",
    "print(f\"ci: ({mean-mean_err}, {mean+mean_err})\")\n",
    "# The critical value from the mean_margin_of_error function is 1.795.\n",
    "# Since this is a left-tailed test, the value should actually be negative.\n",
    "\n",
    "\n",
    "fig = plt.figure(figsize=(9, 3))\n",
    "ax1 = fig.add_subplot(121)\n",
    "ax1.hist(sample, edgecolor='black', bins=5)\n",
    "\n",
    "ax2 = fig.add_subplot(122)\n",
    "sm.qqplot(sample, ax=ax2, line='s')\n",
    "\n",
    "fig.tight_layout(pad=1.0)\n",
    "plt.show()"
   ]
  },
  {
   "cell_type": "code",
   "execution_count": 4,
   "id": "ad61fb6d-0d8e-4859-ab09-dc01489ae1c7",
   "metadata": {},
   "outputs": [
    {
     "name": "stdout",
     "output_type": "stream",
     "text": [
      "using critical value of 1.9828152737371543\n",
      "mean: 98.17306215849838\n",
      "Ttest_1sampResult(statistic=-7.34335360203123, pvalue=4.6484004159436583e-11)\n",
      "ci: (98.05778255752266, 98.28834175947411)\n"
     ]
    }
   ],
   "source": [
    "from scipy.stats import norm\n",
    "\n",
    "sample_temps = norm.rvs(loc=98.2, scale=0.62, size=106)\n",
    "result = ttest_1samp(sample_temps, popmean=98.6, alternative=\"two-sided\")\n",
    "\n",
    "mean = sample_temps.mean()\n",
    "\n",
    "# 95% confidence interval because it is a two-sided test.\n",
    "mean_err = mean_margin_of_error(sample_temps.std(ddof=1), sample_temps.size, confidence_lvl=0.95)\n",
    "\n",
    "print(f\"mean: {mean}\")\n",
    "print(result)\n",
    "print(f\"ci: ({mean-mean_err}, {mean+mean_err})\")\n",
    "# The critical value from the mean_margin_of_error function is +/- 1.983.\n",
    "# P value is 0+."
   ]
  },
  {
   "cell_type": "markdown",
   "id": "3d542559-93f5-48a6-af3d-41d4c8789cef",
   "metadata": {},
   "source": [
    "* solve for any one parameter of the power of a one sample t-test https://www.statsmodels.org/stable/generated/statsmodels.stats.power.tt_solve_power.html\n",
    "* Statistical Power calculations for one sample or paired sample t-test https://www.statsmodels.org/stable/generated/statsmodels.stats.power.TTestPower.html"
   ]
  },
  {
   "cell_type": "code",
   "execution_count": 5,
   "id": "2c46f3b2-4508-4d8c-afb4-d95fb8d5d2a3",
   "metadata": {},
   "outputs": [],
   "source": [
    "from statsmodels.stats.power import TTestPower, tt_solve_power"
   ]
  },
  {
   "cell_type": "code",
   "execution_count": 21,
   "id": "0010fdf8-dc87-44fa-b526-0926ac56bfd0",
   "metadata": {},
   "outputs": [
    {
     "data": {
      "text/plain": [
       "18.446225469774838"
      ]
     },
     "execution_count": 21,
     "metadata": {},
     "output_type": "execute_result"
    }
   ],
   "source": [
    "# Effect size is the difference between then mean under H0 and H1 divided by teh standard deviation.\n",
    "#\n",
    "# H0: mu = 850 hrs and H1: mu = 810 hrs.\n",
    "# Example from https://stats.oarc.ucla.edu/other/gpower/power-analysis-for-one-sample-t-test/\n",
    "tt_solve_power(effect_size=(850-810)/50,\n",
    "               nobs=None,\n",
    "               alpha=0.05,\n",
    "               power=0.9,\n",
    "               alternative=\"two-sided\")\n",
    "# Ans: 19 (18 df)."
   ]
  },
  {
   "cell_type": "code",
   "execution_count": 22,
   "id": "3b7bb5b1-daae-4935-8dcf-e36e7268ea6d",
   "metadata": {},
   "outputs": [
    {
     "name": "stdout",
     "output_type": "stream",
     "text": [
      "18.446225469774838\n",
      "0.9092070305788685\n"
     ]
    }
   ],
   "source": [
    "ttest = TTestPower()\n",
    "\n",
    "res = ttest.solve_power(effect_size=(850-810)/50,\n",
    "               nobs=None,\n",
    "               alpha=0.05,\n",
    "               power=0.9,\n",
    "               alternative=\"two-sided\")\n",
    "est_power = ttest.power(effect_size=(850-810)/50, nobs=19, alpha=0.05, df=18, alternative=\"two-sided\")\n",
    "\n",
    "print(res)\n",
    "print(est_power)"
   ]
  },
  {
   "cell_type": "code",
   "execution_count": 23,
   "id": "37c3002a-6f3f-47c3-97b5-b5239a197f8a",
   "metadata": {},
   "outputs": [
    {
     "data": {
      "image/png": "[encoded data removed]",
      "text/plain": [
       "<Figure size 600x300 with 1 Axes>"
      ]
     },
     "metadata": {},
     "output_type": "display_data"
    }
   ],
   "source": [
    "fig, ax = plt.subplots(1, 1, figsize=(6, 3))\n",
    "\n",
    "ttest = TTestPower()\n",
    "ttest.plot_power(\n",
    "    dep_var=\"nobs\",\n",
    "    effect_size=np.array([(850-810)/50]),\n",
    "    nobs=np.arange(5, 31),\n",
    "    alpha=0.05,\n",
    "    ax=ax)\n",
    "\n",
    "ax.axhline(y=0.90, xmin=0.0, xmax=30, color='y')\n",
    "ax.axvline(x=18.5, color='y')\n",
    "\n",
    "ax.set_xlim(xmin=5, xmax=30)\n",
    "#ax.set_ylim(ymin=0)\n",
    "fig.tight_layout(pad=1.0)\n",
    "plt.show()"
   ]
  },
  {
   "cell_type": "markdown",
   "id": "03b954da-a3a5-43cb-9238-05465848bc6e",
   "metadata": {},
   "source": [
    "# Variance Hypothesis Tests\n",
    "\n",
    "## References\n",
    "* Chi-Squared distribution https://docs.scipy.org/doc/scipy/reference/generated/scipy.stats.chi2.html"
   ]
  },
  {
   "cell_type": "code",
   "execution_count": 6,
   "id": "1320d9b8-98c6-495a-82b1-d7de6c56d2a1",
   "metadata": {},
   "outputs": [],
   "source": [
    "from scipy.stats import chi2"
   ]
  },
  {
   "cell_type": "code",
   "execution_count": 20,
   "id": "ebb06206-fd13-4295-835d-43ebfccb3706",
   "metadata": {},
   "outputs": [
    {
     "name": "stdout",
     "output_type": "stream",
     "text": [
      "Critical value is 1.0\n"
     ]
    },
    {
     "data": {
      "image/png": "[encoded data removed]",
      "text/plain": [
       "<Figure size 900x300 with 2 Axes>"
      ]
     },
     "metadata": {},
     "output_type": "display_data"
    }
   ],
   "source": [
    "# significance level of 0.01.\n",
    "# Test the hypothesis that variance is less than 7.5.\n",
    "heights = np.array([177, 176, 178, 175, 178, 174, 175, 178, 178, 177, 180, 176, 180, 178, 180, 176])\n",
    "test_sigma_sqr = 7.5**2 # ch2 distribution!\n",
    "critical_value = chi2.sf(7.5**2, df=heights.size-1, loc=heights.mean(), scale=heights.std(ddof=1))\n",
    "print(f\"Critical value is {critical_value}\")\n",
    "\n",
    "# Plot.\n",
    "fig = plt.figure(figsize=(9, 3))\n",
    "ax1 = fig.add_subplot(121)\n",
    "ax1.hist(heights, edgecolor='black', bins=5)\n",
    "\n",
    "ax2 = fig.add_subplot(122)\n",
    "sm.qqplot(heights, ax=ax2, line='s')\n",
    "\n",
    "fig.tight_layout(pad=1.0)\n",
    "plt.show()"
   ]
  },
  {
   "cell_type": "markdown",
   "id": "e52d33cd-2688-4f2c-aab4-4be62851b659",
   "metadata": {},
   "source": [
    "To do a one-sample hypothesis test about the variance, we can use the following procedure:\n",
    "Use the following equation\n",
    "$$\n",
    "\\chi^2 = \\frac{(n-1) s^2}{\\sigma^2}\n",
    "$$\n",
    "and substitue the sample variance for $s^2$ and $\\sigma^2$ for the population vairance you want to test."
   ]
  },
  {
   "cell_type": "code",
   "execution_count": 69,
   "id": "980ae65b-368e-40e8-8238-bf571e9b0bb3",
   "metadata": {},
   "outputs": [
    {
     "data": {
      "text/plain": [
       "0.9066666666666666"
      ]
     },
     "execution_count": 69,
     "metadata": {},
     "output_type": "execute_result"
    }
   ],
   "source": [
    "chi_crit = (heights.size-1) * heights.var(ddof=1) / (7.5**2)\n",
    "chi_crit"
   ]
  },
  {
   "cell_type": "code",
   "execution_count": 76,
   "id": "2b9e3857-06cb-48d7-ada4-424d649376d7",
   "metadata": {},
   "outputs": [
    {
     "data": {
      "text/plain": [
       "(0.9999998733167803, 1.2668321969222518e-07)"
      ]
     },
     "execution_count": 76,
     "metadata": {},
     "output_type": "execute_result"
    }
   ],
   "source": [
    "pvalue = chi2.sf(chi_crit, df=heights.size-1)\n",
    "pvalue, 1-pvalue\n",
    "# Area to the right of the critical value is 0.999...\n",
    "# This is a left-tailed test.\n",
    "# Reject the null"
   ]
  },
  {
   "cell_type": "code",
   "execution_count": 77,
   "id": "b7fdc913-af1c-4b80-963c-ebffbd1ff453",
   "metadata": {},
   "outputs": [
    {
     "data": {
      "text/plain": [
       "5.229348884098959"
      ]
     },
     "execution_count": 77,
     "metadata": {},
     "output_type": "execute_result"
    }
   ],
   "source": [
    "crit_region = chi2.ppf(0.01, df=15) \n",
    "crit_region"
   ]
  },
  {
   "cell_type": "markdown",
   "id": "b08087f4-ee5e-4883-b76c-db320c7493f8",
   "metadata": {},
   "source": [
    "# Two-Sample Tests\n",
    "\n",
    "## References\n",
    "\n",
    "* Calculate the T-test for the means of two independent samples of scores https://docs.scipy.org/doc/scipy/reference/generated/scipy.stats.ttest_ind.html"
   ]
  },
  {
   "cell_type": "markdown",
   "id": "c6d263bc-73c3-4be5-95c1-9d06dea896ea",
   "metadata": {},
   "source": [
    "* Statistical Power calculations for t-test for two independent sample https://www.statsmodels.org/stable/generated/statsmodels.stats.power.TTestIndPower.html"
   ]
  },
  {
   "cell_type": "code",
   "execution_count": 88,
   "id": "b6ab6966-493f-453a-aff3-7dff60c3f682",
   "metadata": {},
   "outputs": [],
   "source": [
    "from statsmodels.stats.power import TTestIndPower"
   ]
  },
  {
   "cell_type": "code",
   "execution_count": 90,
   "id": "e8618777-17ed-49cc-90d3-91753a8c9da2",
   "metadata": {},
   "outputs": [
    {
     "data": {
      "image/png": "[encoded data removed]",
      "text/plain": [
       "<Figure size 600x300 with 1 Axes>"
      ]
     },
     "metadata": {},
     "output_type": "display_data"
    }
   ],
   "source": [
    "fig, ax = plt.subplots(1, 1, figsize=(6, 3))\n",
    "\n",
    "panalysis = TTestIndPower()\n",
    "\n",
    "panalysis.plot_power(\n",
    "    dep_var=\"nobs\",\n",
    "    nobs=np.arange(5, 101),\n",
    "    effect_size=np.arange(0.5, 1.5, .2),\n",
    "    alpha=0.01,\n",
    "    ax=ax,\n",
    ")\n",
    "fig.tight_layout(pad=1.0)\n",
    "plt.show()"
   ]
  },
  {
   "cell_type": "code",
   "execution_count": 32,
   "id": "5f700668-69cc-423b-870b-5f2900d33713",
   "metadata": {},
   "outputs": [],
   "source": [
    "from statsmodels.stats.proportion import power_ztost_prop"
   ]
  },
  {
   "cell_type": "markdown",
   "id": "722149c2-104a-4d31-9948-dd753e12f203",
   "metadata": {},
   "source": [
    "# P Values\n",
    "\n",
    "## References\n",
    "\n",
    "* Combine p-values from independent tests that bear upon the same hypothesis https://docs.scipy.org/doc/scipy/reference/generated/scipy.stats.combine_pvalues.html"
   ]
  }
 ],
 "metadata": {
  "kernelspec": {
   "display_name": "Python 3 (ipykernel)",
   "language": "python",
   "name": "python3"
  },
  "language_info": {
   "codemirror_mode": {
    "name": "ipython",
    "version": 3
   },
   "file_extension": ".py",
   "mimetype": "text/x-python",
   "name": "python",
   "nbconvert_exporter": "python",
   "pygments_lexer": "ipython3",
   "version": "3.10.6"
  }
 },
 "nbformat": 4,
 "nbformat_minor": 5
}
