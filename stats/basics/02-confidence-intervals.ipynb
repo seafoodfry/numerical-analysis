{
 "cells": [
  {
   "cell_type": "code",
   "execution_count": 2,
   "id": "3a15b87e-4184-4d82-a779-35ea0d909993",
   "metadata": {},
   "outputs": [],
   "source": [
    "import numpy as np\n",
    "import matplotlib.pyplot as plt\n",
    "import statsmodels.api as sm\n",
    "from scipy.stats import binom, norm\n",
    "from statsmodels.stats.proportion import proportion_confint, proportions_ztest, samplesize_confint_proportion"
   ]
  },
  {
   "cell_type": "markdown",
   "id": "4aefa82b-292a-40f8-8bb2-501133fedde2",
   "metadata": {},
   "source": [
    "# Confidence Intervals for Proportions\n",
    "\n",
    "**Correct Interpretation**\n",
    "\n",
    "Ex: 95% confidence intervval estimate of population proportion being (0.5, 0.6).\n",
    "\n",
    "Interpreation: If we select many random samples, of the same sample size, and construct confidence intervals for them all.\n",
    "95% of the confidence intervals will contain the population proportion.\n",
    "If we repeat this process over and over, we should end up creating many confidence intervals and a \"confidence level\" proportion of them will contain the true population proportion.\n",
    "\n",
    "Bad interpreation: There is a 95% chance the true population proportion will fall in the range of the confidence interval.\n",
    "\n",
    "**Margin of Error**\n",
    "\n",
    "Note: this is for Wald confidence intervals.\n",
    "\n",
    "When a single random sample is used to estimate a population proportion, you can calculate the maximum likely amount of the error as such\n",
    "\n",
    "$$\n",
    "E = z_{\\alpha / 2} \\sqrt{ \\frac{\\hat p \\hat q}{n} }\n",
    "$$\n",
    "\n",
    "Here $z_{\\alpha / 2}$ is the critical value for the given confidence level $\\alpha$.\n",
    "The margin of error is the probability of $1 - \\alpha$ (i.e., 95%) that the difference between the sample proportion and the population proportion is equal to or less than the margin of error.\n",
    "\n",
    "This formula is one of the ways to build a confidence interval.\n",
    "\n",
    "## Coverage Probability\n",
    "\n",
    "The coverage probability of a confidence interval is the proportion in which our confidence intevals actually contain the population proportion.\n",
    "The margin of error expression we offer above is for a Wald confidence interval whose coverage probability is equal to or less than the desired confidence interval.\n",
    "\n",
    "* Plus Four Method is better than Wald and it just adds 2 successes and 2 failures to the sample size.\n",
    "* Wilson Score is also better than Wald but the margin of error formula is more complicated (and more complex to invert to estimate sample sizes).\n",
    "* Clopper-Pearson Method is exact because it makes use of a binomial distribution instead of using the normal distribution as an approximation. **Stats Model does support this method, set \"method=beta\"**.\n",
    "\n",
    "## Approximating a Binomial Distribution with a Normal One\n",
    "\n",
    "$$\n",
    "\\mu = np\n",
    "$$\n",
    "\n",
    "$$\n",
    "\\sigma = \\sqrt{npq}\n",
    "$$\n",
    "\n",
    "Make sure that $np \\geq 5$ and $nq \\geq 5$ (or greater than 10).\n",
    "\n",
    "## References\n",
    "\n",
    "* Statsmodel index https://www.statsmodels.org/dev/stats.html\n",
    "* Confidence interval for binomial proportions https://www.statsmodels.org/dev/generated/statsmodels.stats.proportion.proportion_confint.html\n",
    "* Find sample size to get desired confidence interval length https://www.statsmodels.org/dev/generated/statsmodels.stats.proportion.samplesize_confint_proportion.html"
   ]
  },
  {
   "cell_type": "code",
   "execution_count": 3,
   "id": "e4f2054a-78ea-492c-be15-f7d427fd0476",
   "metadata": {},
   "outputs": [],
   "source": [
    "def proportion_margin_of_error(sample_proportion, sample_size, confidence_lvl=0.95) -> float:\n",
    "    \"\"\" Wald confidence interval\n",
    "    \"\"\"\n",
    "    alpha = 1 - confidence_lvl\n",
    "    critical_value = norm.ppf(confidence_lvl + (alpha / 2.0)) # We want the Z score from the desired covered area.\n",
    "    \n",
    "    q = 1.0 - sample_proportion\n",
    "    return critical_value * np.sqrt(sample_proportion * q / sample_size)\n",
    "\n",
    "def binom_estimated_mu(p, n) -> float:\n",
    "    return n*p\n",
    "\n",
    "def binom_estimated_sigma(p, n) -> float:\n",
    "    return np.sqrt(n * p * (1.0-p))"
   ]
  },
  {
   "cell_type": "code",
   "execution_count": 4,
   "id": "2c0dc2cd-2781-4563-a8da-dfb52e22af25",
   "metadata": {},
   "outputs": [
    {
     "name": "stdout",
     "output_type": "stream",
     "text": [
      "margin of error = 0.025\n",
      "CI low and CI high with estimated margin of error: (0.405, 0.455)\n",
      "CI low and CI high from statsmodel: (0.405, 0.455)\n"
     ]
    }
   ],
   "source": [
    "# A gallup poll showed 43% of adults used facebook. Sample size was 1_487.\n",
    "\n",
    "margin_err = proportion_margin_of_error(0.43, 1_487, confidence_lvl=0.95)\n",
    "\n",
    "ci_low, ci_high = proportion_confint(\n",
    "    count=0.43 * 1_487,  # Number of \"successes\"\n",
    "    nobs=1_487,  # Number of trials.\n",
    "    alpha=(1 - 0.95))\n",
    "\n",
    "print(f\"margin of error = {round(margin_err, 3)}\")\n",
    "print(f\"CI low and CI high with estimated margin of error: ({round(0.43 - margin_err, 3)}, {round(0.43 + margin_err, 3)})\")\n",
    "print(f\"CI low and CI high from statsmodel: ({round(ci_low, 3)}, {round(ci_high, 3)})\")"
   ]
  },
  {
   "cell_type": "code",
   "execution_count": 5,
   "id": "3370c611-2f66-4b0c-ac9b-5c7156a44590",
   "metadata": {},
   "outputs": [
    {
     "data": {
      "text/plain": [
       "(601.9924600596482, 676.8275399403517)"
      ]
     },
     "execution_count": 5,
     "metadata": {},
     "output_type": "execute_result"
    }
   ],
   "source": [
    "# This works because here we can use a normal distribution to approximate the binomial distribution.\n",
    "norm.interval(0.95, loc=binom_estimated_mu(0.43, 1_487), scale=binom_estimated_sigma(0.43, 1_487))"
   ]
  },
  {
   "cell_type": "code",
   "execution_count": 6,
   "id": "cc444cf3-a653-4350-b8e0-34701130adbb",
   "metadata": {},
   "outputs": [
    {
     "data": {
      "text/plain": [
       "(602.0, 677.0)"
      ]
     },
     "execution_count": 6,
     "metadata": {},
     "output_type": "execute_result"
    }
   ],
   "source": [
    "binom.interval(0.95, n=1_487, p=0.43)"
   ]
  },
  {
   "cell_type": "code",
   "execution_count": 7,
   "id": "596d2033-5bcd-4d2f-a734-c9969d236a24",
   "metadata": {},
   "outputs": [
    {
     "name": "stdout",
     "output_type": "stream",
     "text": [
      "(0.405, 0.455)\n"
     ]
    }
   ],
   "source": [
    "# Both of the above give the number of successes, not the proportion.\n",
    "print(f\"({round(602/1_487, 3)}, {round(677/1_487, 3)})\")"
   ]
  },
  {
   "cell_type": "code",
   "execution_count": 8,
   "id": "55c3f209-ec3d-4036-b224-d7e8d2f90e60",
   "metadata": {},
   "outputs": [
    {
     "name": "stdout",
     "output_type": "stream",
     "text": [
      "CI low and CI high from statsmodel: (0.598, 0.81)\n",
      "margin of error: 0.106\n",
      "estimate of population proportion: 0.704\n",
      "CI low and CI high from statsmodel using Clopper-Pearson: (0.584, 0.807)\n",
      "margin of error using Clopper Pearson: 0.111\n",
      "estimate of population proportion using Clopper-Pearson: 0.695\n"
     ]
    }
   ],
   "source": [
    "# Out of 71 people, 70% were abstinent from smoking after 8 weeks of nicotine patches.\n",
    "# 95% confidence interval 58% to 81%.\n",
    "\n",
    "ci_low, ci_high = proportion_confint(\n",
    "    count=50, #0.7 * 71 - Number of \"successes\"\n",
    "    nobs=71,  # Number of trials.\n",
    "    alpha=(1 - 0.95))\n",
    "\n",
    "ci_low_exact, ci_high_exact = proportion_confint(\n",
    "    count=50, #0.7 * 71 - Number of \"successes\"\n",
    "    nobs=71,  # Number of trials.\n",
    "    method=\"beta\",\n",
    "    alpha=(1 - 0.95))\n",
    "\n",
    "estimate_margin_err = (ci_high - ci_low) / 2.0\n",
    "estimate_population_p = (ci_high + ci_low) / 2.0\n",
    "\n",
    "estimate_margin_err_exact = (ci_high_exact - ci_low_exact) / 2.0\n",
    "estimate_population_p_exact = (ci_high_exact + ci_low_exact) / 2.0\n",
    "\n",
    "print(f\"CI low and CI high from statsmodel: ({round(ci_low, 3)}, {round(ci_high, 3)})\")\n",
    "print(f\"margin of error: {round(estimate_margin_err, 3)}\")\n",
    "print(f\"estimate of population proportion: {round(estimate_population_p, 3)}\")\n",
    "\n",
    "print(f\"CI low and CI high from statsmodel using Clopper-Pearson: ({round(ci_low_exact, 3)}, {round(ci_high_exact, 3)})\")\n",
    "print(f\"margin of error using Clopper Pearson: {round(estimate_margin_err_exact, 3)}\")\n",
    "print(f\"estimate of population proportion using Clopper-Pearson: {round(estimate_population_p_exact, 3)}\")"
   ]
  },
  {
   "cell_type": "markdown",
   "id": "2825ebbe-bce2-4af2-be70-b9dcf2cbb3bd",
   "metadata": {},
   "source": [
    "## Determining Sample Size"
   ]
  },
  {
   "cell_type": "code",
   "execution_count": 9,
   "id": "048968f3-b211-4e95-8944-97aecb870141",
   "metadata": {},
   "outputs": [],
   "source": [
    "def estimate_ci_sample_size(margin_of_error, proportion=0.5, confidence_lvl=0.95) -> int:\n",
    "    \"\"\" Based on Wald confidence interval\n",
    "    \"\"\"\n",
    "    alpha = 1 - confidence_lvl\n",
    "    critical_value = norm.ppf(confidence_lvl + (alpha / 2.0)) # We want the Z score from the desired covered area.\n",
    "    \n",
    "    q = 1 - proportion\n",
    "    return critical_value**2 * proportion * q / (margin_of_error**2)"
   ]
  },
  {
   "cell_type": "code",
   "execution_count": 10,
   "id": "6a5fd97a-43b8-4311-b599-d872f9400c9b",
   "metadata": {},
   "outputs": [
    {
     "name": "stdout",
     "output_type": "stream",
     "text": [
      "estimated sample size based on margin of error: 1067.0718946372572\n",
      "estimate sample size from statsmodel: 1067.0718946372572\n"
     ]
    }
   ],
   "source": [
    "# How many people to build a CI with 95% confidence and have an error of no more than 3 percentage points.\n",
    "estimate_sample_size = estimate_ci_sample_size(\n",
    "    margin_of_error=0.03,\n",
    "    proportion=0.5,  # 0.5 maximizes the value.\n",
    "    confidence_lvl=0.95)\n",
    "\n",
    "estimate_n = samplesize_confint_proportion(proportion=0.5, half_length=0.03, alpha=(1-0.95))\n",
    "\n",
    "print(f\"estimated sample size based on margin of error: {estimate_sample_size}\")\n",
    "print(f\"estimate sample size from statsmodel: {estimate_n}\")"
   ]
  },
  {
   "cell_type": "markdown",
   "id": "06dfdbad-3bb4-4099-ad2c-ed90396cfc44",
   "metadata": {
    "tags": []
   },
   "source": [
    "# Confidence Intervals for Means"
   ]
  },
  {
   "cell_type": "markdown",
   "id": "8e461a54-ee5a-4ce9-a1a7-616d4551b7d7",
   "metadata": {},
   "source": [
    "Simplest way to build a CI for estimating a population mean is using a t distribution\n",
    "\n",
    "$$\n",
    "E = t_{\\alpha / 2} \\frac{s}{\\sqrt{n}}\n",
    "$$\n",
    "\n",
    "Where $E$ is again the margin of error and $s$ is the standard derivation from the sample (best estimate we got).\n",
    "Which is not a bad approximation if population is normally distributed or $n>30$.\n",
    "\n",
    "* t distribution https://docs.scipy.org/doc/scipy/reference/generated/scipy.stats.t.html\n",
    "* stats model doesn't seem to have a method for this specific CI"
   ]
  },
  {
   "cell_type": "code",
   "execution_count": 11,
   "id": "645a1853-2615-401e-8c37-1639c91807b4",
   "metadata": {},
   "outputs": [],
   "source": [
    "from scipy.stats import t"
   ]
  },
  {
   "cell_type": "code",
   "execution_count": 12,
   "id": "863d07d5-1ba3-46f6-b9f9-75e93a1cd8d4",
   "metadata": {},
   "outputs": [],
   "source": [
    "def mean_margin_of_error(sample_std, sample_size, confidence_lvl=0.95) -> float:\n",
    "    df = sample_size - 1\n",
    "    alpha = 1 - confidence_lvl\n",
    "    critical_value = t.ppf(confidence_lvl + (alpha / 2.0), df=df) # We want the t score from the desired covered area.\n",
    "    \n",
    "    print(f\"using critical value of {critical_value}\")\n",
    "    return critical_value * (sample_std / np.sqrt(sample_size))"
   ]
  },
  {
   "cell_type": "code",
   "execution_count": 13,
   "id": "ce9edb20-560c-4c69-a4e3-da3fcf74e54b",
   "metadata": {},
   "outputs": [],
   "source": [
    "birth_weigths = np.array([33, 28, 33, 37, 31, 32, 31, 28, 34, 28, 33, 26, 29, 31, 30])"
   ]
  },
  {
   "cell_type": "code",
   "execution_count": 14,
   "id": "3d08f617-724d-4267-93ec-ea6ce8279a76",
   "metadata": {},
   "outputs": [
    {
     "data": {
      "text/plain": [
       "30.933333333333334"
      ]
     },
     "execution_count": 14,
     "metadata": {},
     "output_type": "execute_result"
    }
   ],
   "source": [
    "birth_weigths.mean() # Ans: 30.9."
   ]
  },
  {
   "cell_type": "code",
   "execution_count": 15,
   "id": "8c6f058c-7330-47b3-be08-35b2963a6d00",
   "metadata": {},
   "outputs": [
    {
     "data": {
      "text/plain": [
       "2.865226659362887"
      ]
     },
     "execution_count": 15,
     "metadata": {},
     "output_type": "execute_result"
    }
   ],
   "source": [
    "birth_weigths.std(ddof=1) # Ans: 2.9. ddof=1 because this is a sample."
   ]
  },
  {
   "cell_type": "code",
   "execution_count": 16,
   "id": "8fdffb30-c2fb-4a72-9c0d-3ff5594be4ac",
   "metadata": {},
   "outputs": [
    {
     "data": {
      "text/plain": [
       "15"
      ]
     },
     "execution_count": 16,
     "metadata": {},
     "output_type": "execute_result"
    }
   ],
   "source": [
    "birth_weigths.size"
   ]
  },
  {
   "cell_type": "code",
   "execution_count": 17,
   "id": "09f009d3-ea14-45a1-9712-5dfebdbd3de6",
   "metadata": {},
   "outputs": [
    {
     "data": {
      "image/png": "[encoded data removed]",
      "text/plain": [
       "<Figure size 900x300 with 2 Axes>"
      ]
     },
     "metadata": {},
     "output_type": "display_data"
    }
   ],
   "source": [
    "fig = plt.figure(figsize=(9, 3))\n",
    "ax1 = fig.add_subplot(121)\n",
    "ax1.hist(birth_weigths, bins=8, edgecolor=\"black\", alpha=0.5)\n",
    "\n",
    "ax2 = fig.add_subplot(122)\n",
    "sm.qqplot(birth_weigths, ax=ax2, line='s')\n",
    "\n",
    "fig.tight_layout(pad=1.0)\n",
    "plt.show()"
   ]
  },
  {
   "cell_type": "code",
   "execution_count": 18,
   "id": "71cc4470-bfb0-456e-a726-141250eeab06",
   "metadata": {},
   "outputs": [
    {
     "name": "stdout",
     "output_type": "stream",
     "text": [
      "using critical value of 2.1447866879169273\n",
      "margin of error = 1.587\n",
      "CI low and CI high with estimated margin of error: (29.347, 32.52)\n"
     ]
    }
   ],
   "source": [
    "sample_mean = birth_weigths.mean()\n",
    "\n",
    "margin_err = mean_margin_of_error(\n",
    "    birth_weigths.std(ddof=1), birth_weigths.size,\n",
    "    confidence_lvl=0.95)\n",
    "\n",
    "print(f\"margin of error = {round(margin_err, 3)}\")\n",
    "print(f\"CI low and CI high with estimated margin of error: ({round(sample_mean - margin_err, 3)}, {round(sample_mean + margin_err, 3)})\")"
   ]
  },
  {
   "cell_type": "code",
   "execution_count": 19,
   "id": "11825fcd-ef94-45fd-b21a-731048c8fa5e",
   "metadata": {},
   "outputs": [
    {
     "data": {
      "text/plain": [
       "(24.788033336467127, 37.078633330199544)"
      ]
     },
     "execution_count": 19,
     "metadata": {},
     "output_type": "execute_result"
    }
   ],
   "source": [
    "# The above stimate is very much off.\n",
    "# Compare it with a more trusted way of getting a confidence interval.\n",
    "t.interval(0.95, df=birth_weigths.size-1, loc=birth_weigths.mean(), scale=birth_weigths.std(ddof=1))"
   ]
  },
  {
   "cell_type": "code",
   "execution_count": 20,
   "id": "31a15f11-0b41-447c-9804-230006d24281",
   "metadata": {},
   "outputs": [
    {
     "data": {
      "text/plain": [
       "(25.317592273438063, 36.54907439322861)"
      ]
     },
     "execution_count": 20,
     "metadata": {},
     "output_type": "execute_result"
    }
   ],
   "source": [
    "norm.interval(0.95, loc=birth_weigths.mean(), scale=birth_weigths.std(ddof=1))"
   ]
  },
  {
   "cell_type": "code",
   "execution_count": 21,
   "id": "e77f59c1-195d-48d5-ba16-35519249d121",
   "metadata": {},
   "outputs": [
    {
     "name": "stdout",
     "output_type": "stream",
     "text": [
      "30.934 30.934\n"
     ]
    }
   ],
   "source": [
    "# Our \"simple\" margin of error formula gives a very narrow CI but the point estimate agrees.\n",
    "estimate_1 = round((32.520 + 29.347)/2, 3)\n",
    "estimate_2 = round((37.079 + 24.788)/2, 3)\n",
    "print(f\"{estimate_1} {estimate_2}\")"
   ]
  },
  {
   "cell_type": "markdown",
   "id": "adff3613-9402-4e2c-a704-b73d13d1efdb",
   "metadata": {},
   "source": [
    "# Confidence Intervals for Standard Deviations"
   ]
  },
  {
   "cell_type": "markdown",
   "id": "c0ed4cef-cd17-4bb0-b240-12d20468fbf4",
   "metadata": {},
   "source": [
    "Normality is a much stricter requirement for this method: it doesn't matter if the sample size is large, the population must be normally distributed.\n",
    "If this is not the case then we need to use bootstrapping methods.\n",
    "\n",
    "An estimate formula for building confidence intervals to estimate a population's variance or standard deviation are the following:\n",
    "$$\n",
    "\\frac{(n-1)s^2}{\\chi^{2}_{R}} < \\sigma^2 < \\frac{(n-1)s^2}{\\chi^{2}_{L}}\n",
    "$$\n",
    "\n",
    "$$\n",
    "\\sqrt{ \\frac{(n-1)s^2}{\\chi^{2}_{R}} } < \\sigma < \\sqrt{ \\frac{(n-1)s^2}{\\chi^{2}_{L}} }\n",
    "$$\n",
    "\n",
    "The above expression comes from the fact that chi-squared random variables are distributed as\n",
    "$$\n",
    "\\chi^2 = \\frac{(n-1) s^2}{\\sigma^2}\n",
    "$$\n",
    "\n",
    "**Note:** there is a probability $1-\\alpha$ that the sample statistic will fall between the critical values $\\chi^{2}_{R}$ and $\\chi^{2}_{L}$.\n",
    "\n",
    "* Chi-Squared distribution https://docs.scipy.org/doc/scipy/reference/generated/scipy.stats.chi2.html"
   ]
  },
  {
   "cell_type": "code",
   "execution_count": 27,
   "id": "b5b4256b-2222-485b-aab6-37dab1005bc0",
   "metadata": {},
   "outputs": [],
   "source": [
    "from typing import Tuple\n",
    "from scipy.stats import chi2"
   ]
  },
  {
   "cell_type": "code",
   "execution_count": 25,
   "id": "c6e350a6-5b3c-4da6-a736-3ce3ec5ab6ed",
   "metadata": {},
   "outputs": [
    {
     "data": {
      "text/plain": [
       "(10.28289778252286, 35.47887590572725)"
      ]
     },
     "execution_count": 25,
     "metadata": {},
     "output_type": "execute_result"
    }
   ],
   "source": [
    "# Critical values for a 95% confidence interval from a sample of 22 measurements.\n",
    "chi2.ppf(0.05/2, df=21), chi2.isf(0.05/2, df=21) # Ans: 10.283, 35.475."
   ]
  },
  {
   "cell_type": "code",
   "execution_count": 38,
   "id": "592874ac-90d7-465b-a817-fd4b12925c6f",
   "metadata": {},
   "outputs": [],
   "source": [
    "def variance_ci(sample_variance: float, sample_size: int, confidence_level: float=0.95) -> Tuple[float, float]:\n",
    "    df = sample_size - 1\n",
    "    \n",
    "    alpha = 1.0 - confidence_level\n",
    "    chi2_l, chi2_r = chi2.ppf(alpha/2.0, df=df), chi2.isf(alpha/2.0, df=df)\n",
    "    \n",
    "    numerator = df * (sample_variance**2.0)\n",
    "    lo_bound = numerator/chi2_r\n",
    "    hi_bound = numerator/chi2_l\n",
    "    return lo_bound, hi_bound"
   ]
  },
  {
   "cell_type": "code",
   "execution_count": 39,
   "id": "df9598b3-48b3-4914-b169-4190eea0ad61",
   "metadata": {},
   "outputs": [
    {
     "name": "stdout",
     "output_type": "stream",
     "text": [
      "variance CI: (120.91320846956145, 417.1844172122464)\n",
      "std deviation CI: (10.996054222745606, 20.425092832402168)\n"
     ]
    }
   ],
   "source": [
    "# Sample of 22 with standard deviation of 14.293.\n",
    "ci_low, ci_high = variance_ci(sample_variance=14.29263, sample_size=22, confidence_level=0.95)\n",
    "\n",
    "ci_low_std, ci_high_std = np.sqrt(ci_low), np.sqrt(ci_high)\n",
    "\n",
    "print(f\"variance CI: ({ci_low}, {ci_high})\")\n",
    "print(f\"std deviation CI: ({ci_low_std}, {ci_high_std})\")"
   ]
  },
  {
   "cell_type": "code",
   "execution_count": null,
   "id": "befd2738-3e02-41f6-812e-63f326c7b831",
   "metadata": {},
   "outputs": [],
   "source": []
  }
 ],
 "metadata": {
  "kernelspec": {
   "display_name": "Python 3 (ipykernel)",
   "language": "python",
   "name": "python3"
  },
  "language_info": {
   "codemirror_mode": {
    "name": "ipython",
    "version": 3
   },
   "file_extension": ".py",
   "mimetype": "text/x-python",
   "name": "python",
   "nbconvert_exporter": "python",
   "pygments_lexer": "ipython3",
   "version": "3.10.6"
  }
 },
 "nbformat": 4,
 "nbformat_minor": 5
}
