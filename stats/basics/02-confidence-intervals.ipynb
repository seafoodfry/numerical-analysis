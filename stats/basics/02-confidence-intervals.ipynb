{
 "cells": [
  {
   "cell_type": "code",
   "execution_count": 75,
   "id": "3a15b87e-4184-4d82-a779-35ea0d909993",
   "metadata": {},
   "outputs": [],
   "source": [
    "import numpy as np\n",
    "import matplotlib.pyplot as plt\n",
    "import statsmodels.api as sm\n",
    "from scipy.stats import binom, norm\n",
    "from statsmodels.stats.proportion import proportion_confint, proportions_ztest, samplesize_confint_proportion"
   ]
  },
  {
   "cell_type": "markdown",
   "id": "4aefa82b-292a-40f8-8bb2-501133fedde2",
   "metadata": {},
   "source": [
    "# Confidence Intervals for Proportions\n",
    "\n",
    "**Correct Interpretation**\n",
    "\n",
    "Ex: 95% confidence intervval estimate of population proportion being (0.5, 0.6).\n",
    "\n",
    "Interpreation: If we select many random samples, of the same sample size, and construct confidence intervals for them all.\n",
    "95% of the confidence intervals will contain the population proportion.\n",
    "If we repeat this process over and over, we should end up creating many confidence intervals and a \"confidence level\" proportion of them will contain the true population proportion.\n",
    "\n",
    "Bad interpreation: There is a 95% chance the true population proportion will fall in the range of the confidence interval.\n",
    "\n",
    "**Margin of Error**\n",
    "\n",
    "Note: this is for Wald confidence intervals.\n",
    "\n",
    "When a single random sample is used to estimate a population proportion, you can calculate the maximum likely amount of the error as such\n",
    "\n",
    "$$\n",
    "E = z_{\\alpha / 2} \\sqrt{ \\frac{\\hat p \\hat q}{n} }\n",
    "$$\n",
    "\n",
    "Here $z_{\\alpha / 2}$ is the critical value for the given confidence level $\\alpha$.\n",
    "The margin of error is the probability of $1 - \\alpha$ (i.e., 95%) that the difference between the sample proportion and the population proportion is equal to or less than the margin of error.\n",
    "\n",
    "This formula is one of the ways to build a confidence interval.\n",
    "\n",
    "## Coverage Probability\n",
    "\n",
    "The coverage probability of a confidence interval is the proportion in which our confidence intevals actually contain the population proportion.\n",
    "The margin of error expression we offer above is for a Wald confidence interval whose coverage probability is equal to or less than the desired confidence interval.\n",
    "\n",
    "* Plus Four Method is better than Wald and it just adds 2 successes and 2 failures to the sample size.\n",
    "* Wilson Score is also better than Wald but the margin of error formula is more complicated (and more complex to invert to estimate sample sizes).\n",
    "* Clopper-Pearson Method is exact because it makes use of a binomial distribution instead of using the normal distribution as an approximation. **Stats Model does support this method, set \"method=beta\"**.\n",
    "\n",
    "## Approximating a Binomial Distribution with a Normal One\n",
    "\n",
    "$$\n",
    "\\mu = np\n",
    "$$\n",
    "\n",
    "$$\n",
    "\\sigma = \\sqrt{npq}\n",
    "$$\n",
    "\n",
    "Make sure that $np \\geq 5$ and $nq \\geq 5$ (or greater than 10).\n",
    "\n",
    "## References\n",
    "\n",
    "* Statsmodel index https://www.statsmodels.org/dev/stats.html\n",
    "* Confidence interval for binomial proportions https://www.statsmodels.org/dev/generated/statsmodels.stats.proportion.proportion_confint.html\n",
    "* Find sample size to get desired confidence interval length https://www.statsmodels.org/dev/generated/statsmodels.stats.proportion.samplesize_confint_proportion.html"
   ]
  },
  {
   "cell_type": "code",
   "execution_count": 84,
   "id": "e4f2054a-78ea-492c-be15-f7d427fd0476",
   "metadata": {},
   "outputs": [],
   "source": [
    "def proportion_margin_of_error(sample_proportion, sample_size, confidence_lvl=0.95) -> float:\n",
    "    \"\"\" Wald confidence interval\n",
    "    \"\"\"\n",
    "    alpha = 1 - confidence_lvl\n",
    "    critical_value = norm.ppf(confidence_lvl + (alpha / 2.0)) # We want the Z score from the desired covered area.\n",
    "    \n",
    "    q = 1.0 - sample_proportion\n",
    "    return critical_value * np.sqrt(sample_proportion * q / sample_size)\n",
    "\n",
    "def binom_estimated_mu(p, n) -> float:\n",
    "    return n*p\n",
    "\n",
    "def binom_estimated_sigma(p, n) -> float:\n",
    "    return np.sqrt(n * p * (1.0-p))"
   ]
  },
  {
   "cell_type": "code",
   "execution_count": 45,
   "id": "2c0dc2cd-2781-4563-a8da-dfb52e22af25",
   "metadata": {},
   "outputs": [
    {
     "name": "stdout",
     "output_type": "stream",
     "text": [
      "margin of error = 0.025\n",
      "CI low and CI high with estimated margin of error: (0.405, 0.455)\n",
      "CI low and CI high from statsmodel: (0.405, 0.455)\n"
     ]
    }
   ],
   "source": [
    "# A gallup poll showed 43% of adults used facebook. Sample size was 1_487.\n",
    "\n",
    "margin_err = proportion_margin_of_error(0.43, 1_487, confidence_lvl=0.95)\n",
    "\n",
    "ci_low, ci_high = proportion_confint(\n",
    "    count=0.43 * 1_487,  # Number of \"successes\"\n",
    "    nobs=1_487,  # Number of trials.\n",
    "    alpha=(1 - 0.95))\n",
    "\n",
    "print(f\"margin of error = {round(margin_err, 3)}\")\n",
    "print(f\"CI low and CI high with estimated margin of error: ({round(0.43 - margin_err, 3)}, {round(0.43 + margin_err, 3)})\")\n",
    "print(f\"CI low and CI high from statsmodel: ({round(ci_low, 3)}, {round(ci_high, 3)})\")"
   ]
  },
  {
   "cell_type": "code",
   "execution_count": 73,
   "id": "3370c611-2f66-4b0c-ac9b-5c7156a44590",
   "metadata": {},
   "outputs": [
    {
     "data": {
      "text/plain": [
       "(601.9924600596482, 676.8275399403517)"
      ]
     },
     "execution_count": 73,
     "metadata": {},
     "output_type": "execute_result"
    }
   ],
   "source": [
    "# This works because here we can use a normal distribution to approximate the binomial distribution.\n",
    "norm.interval(0.95, loc=binom_estimated_mu(0.43, 1_487), scale=binom_estimated_sigma(0.43, 1_487))"
   ]
  },
  {
   "cell_type": "code",
   "execution_count": 48,
   "id": "cc444cf3-a653-4350-b8e0-34701130adbb",
   "metadata": {},
   "outputs": [
    {
     "data": {
      "text/plain": [
       "(602.0, 677.0)"
      ]
     },
     "execution_count": 48,
     "metadata": {},
     "output_type": "execute_result"
    }
   ],
   "source": [
    "binom.interval(0.95, n=1_487, p=0.43)"
   ]
  },
  {
   "cell_type": "code",
   "execution_count": 74,
   "id": "596d2033-5bcd-4d2f-a734-c9969d236a24",
   "metadata": {},
   "outputs": [
    {
     "name": "stdout",
     "output_type": "stream",
     "text": [
      "(0.405, 0.455)\n"
     ]
    }
   ],
   "source": [
    "# Both of the above give the number of successes, not the proportion.\n",
    "print(f\"({round(602/1_487, 3)}, {round(677/1_487, 3)})\")"
   ]
  },
  {
   "cell_type": "code",
   "execution_count": 86,
   "id": "55c3f209-ec3d-4036-b224-d7e8d2f90e60",
   "metadata": {},
   "outputs": [
    {
     "name": "stdout",
     "output_type": "stream",
     "text": [
      "CI low and CI high from statsmodel: (0.598, 0.81)\n",
      "margin of error: 0.106\n",
      "estimate of population proportion: 0.704\n",
      "CI low and CI high from statsmodel using Clopper-Pearson: (0.584, 0.807)\n",
      "margin of error using Clopper Pearson: 0.111\n",
      "estimate of population proportion using Clopper-Pearson: 0.695\n"
     ]
    }
   ],
   "source": [
    "# Out of 71 people, 70% were abstinent from smoking after 8 weeks of nicotine patches.\n",
    "# 95% confidence interval 58% to 81%.\n",
    "\n",
    "ci_low, ci_high = proportion_confint(\n",
    "    count=50, #0.7 * 71 - Number of \"successes\"\n",
    "    nobs=71,  # Number of trials.\n",
    "    alpha=(1 - 0.95))\n",
    "\n",
    "ci_low_exact, ci_high_exact = proportion_confint(\n",
    "    count=50, #0.7 * 71 - Number of \"successes\"\n",
    "    nobs=71,  # Number of trials.\n",
    "    method=\"beta\",\n",
    "    alpha=(1 - 0.95))\n",
    "\n",
    "estimate_margin_err = (ci_high - ci_low) / 2.0\n",
    "estimate_population_p = (ci_high + ci_low) / 2.0\n",
    "\n",
    "estimate_margin_err_exact = (ci_high_exact - ci_low_exact) / 2.0\n",
    "estimate_population_p_exact = (ci_high_exact + ci_low_exact) / 2.0\n",
    "\n",
    "print(f\"CI low and CI high from statsmodel: ({round(ci_low, 3)}, {round(ci_high, 3)})\")\n",
    "print(f\"margin of error: {round(estimate_margin_err, 3)}\")\n",
    "print(f\"estimate of population proportion: {round(estimate_population_p, 3)}\")\n",
    "\n",
    "print(f\"CI low and CI high from statsmodel using Clopper-Pearson: ({round(ci_low_exact, 3)}, {round(ci_high_exact, 3)})\")\n",
    "print(f\"margin of error using Clopper Pearson: {round(estimate_margin_err_exact, 3)}\")\n",
    "print(f\"estimate of population proportion using Clopper-Pearson: {round(estimate_population_p_exact, 3)}\")"
   ]
  },
  {
   "cell_type": "markdown",
   "id": "2825ebbe-bce2-4af2-be70-b9dcf2cbb3bd",
   "metadata": {},
   "source": [
    "## Determining Sample Size"
   ]
  },
  {
   "cell_type": "code",
   "execution_count": 85,
   "id": "048968f3-b211-4e95-8944-97aecb870141",
   "metadata": {},
   "outputs": [],
   "source": [
    "def estimate_ci_sample_size(margin_of_error, proportion=0.5, confidence_lvl=0.95) -> int:\n",
    "    \"\"\" Based on Wald confidence interval\n",
    "    \"\"\"\n",
    "    alpha = 1 - confidence_lvl\n",
    "    critical_value = norm.ppf(confidence_lvl + (alpha / 2.0)) # We want the Z score from the desired covered area.\n",
    "    \n",
    "    q = 1 - proportion\n",
    "    return critical_value**2 * proportion * q / (margin_of_error**2)"
   ]
  },
  {
   "cell_type": "code",
   "execution_count": 83,
   "id": "6a5fd97a-43b8-4311-b599-d872f9400c9b",
   "metadata": {},
   "outputs": [
    {
     "name": "stdout",
     "output_type": "stream",
     "text": [
      "estimated sample size based on margin of error: 1067.0718946372572\n",
      "estimate sample size from statsmodel: 1067.0718946372572\n"
     ]
    }
   ],
   "source": [
    "# How many people to build a CI with 95% confidence and have an error of no more than 3 percentage points.\n",
    "estimate_sample_size = estimate_ci_sample_size(\n",
    "    margin_of_error=0.03,\n",
    "    proportion=0.5,  # 0.5 maximizes the value.\n",
    "    confidence_lvl=0.95)\n",
    "\n",
    "estimate_n = samplesize_confint_proportion(proportion=0.5, half_length=0.03, alpha=(1-0.95))\n",
    "\n",
    "print(f\"estimated sample size based on margin of error: {estimate_sample_size}\")\n",
    "print(f\"estimate sample size from statsmodel: {estimate_n}\")"
   ]
  },
  {
   "cell_type": "markdown",
   "id": "06dfdbad-3bb4-4099-ad2c-ed90396cfc44",
   "metadata": {
    "tags": []
   },
   "source": [
    "# Confidence Intervals for Means"
   ]
  },
  {
   "cell_type": "code",
   "execution_count": null,
   "id": "645a1853-2615-401e-8c37-1639c91807b4",
   "metadata": {},
   "outputs": [],
   "source": []
  }
 ],
 "metadata": {
  "kernelspec": {
   "display_name": "Python 3 (ipykernel)",
   "language": "python",
   "name": "python3"
  },
  "language_info": {
   "codemirror_mode": {
    "name": "ipython",
    "version": 3
   },
   "file_extension": ".py",
   "mimetype": "text/x-python",
   "name": "python",
   "nbconvert_exporter": "python",
   "pygments_lexer": "ipython3",
   "version": "3.10.6"
  }
 },
 "nbformat": 4,
 "nbformat_minor": 5
}
