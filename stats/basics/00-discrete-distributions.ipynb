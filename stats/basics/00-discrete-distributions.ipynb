{
 "cells": [
  {
   "cell_type": "code",
   "execution_count": 2,
   "id": "089ee341-43ca-4226-8afa-e31134617bfe",
   "metadata": {},
   "outputs": [],
   "source": [
    "from scipy.stats import binom, poisson\n",
    "import matplotlib.pyplot as plt\n",
    "import numpy as np\n",
    "\n",
    "# https://docs.scipy.org/doc/scipy/reference/generated/scipy.stats.binom.html\n",
    "# https://docs.scipy.org/doc/scipy/reference/generated/scipy.stats.poisson.html"
   ]
  },
  {
   "cell_type": "markdown",
   "id": "222d6025-ad96-4563-9f11-15434c02315a",
   "metadata": {},
   "source": [
    "# Binomial Distribution"
   ]
  },
  {
   "cell_type": "markdown",
   "id": "075039e7-e918-414a-ba89-1a4c5b8235c0",
   "metadata": {},
   "source": [
    "* A single success/failure experiment is called a **Bernoulli trial**.\n",
    "* The binomial distribution assumed the N trials are done with replacement, thus making each experiment independent.\n",
    "  * If the experiments are not with replacement, then each successive trial is not independent of the others and the resulting distribution is **hypergeometric**.\n",
    "  * If $N >> n$, then the binomial distribution remains a good approximation.\n",
    "* If the **random variable** $X$ follows the binomial distribution then we say $X \\sim B(n, p)$.\n",
    "* The probability of $k$ successes in $n$ independent Bernoulli trials is given by the **probability mass function**:\n",
    "\n",
    "$$\n",
    "f(k, n, p) = P(X=k) = {n \\choose k} p^k \\left( 1- p \\right)^{n-k}\n",
    "$$\n",
    "\n",
    "* The **cummulative distribution function** is given by\n",
    "\n",
    "$$\n",
    "F(k; n, p) = P(X \\leq k)\n",
    "$$"
   ]
  },
  {
   "cell_type": "code",
   "execution_count": 3,
   "id": "69b8e248-5380-44f0-9e8d-26b1d23a1f6a",
   "metadata": {},
   "outputs": [
    {
     "name": "stdout",
     "output_type": "stream",
     "text": [
      "mean:  4.25000\n",
      "var:  0.63750\n",
      "skew: -0.87671\n",
      "kurt:  0.36863\n"
     ]
    }
   ],
   "source": [
    "n, p = 5, 0.85\n",
    "mean, var, skew, kurt = binom.stats(n, p, moments=\"mvsk\")\n",
    "print(f\"mean: {mean:8.5f}\\nvar: {var:8.5f}\\nskew: {skew:8.5f}\\nkurt: {kurt:8.5f}\")"
   ]
  },
  {
   "cell_type": "code",
   "execution_count": 3,
   "id": "f4f45ea8-4997-414b-86e8-f9e642a7ded8",
   "metadata": {},
   "outputs": [
    {
     "data": {
      "text/plain": [
       "0.13817812499999993"
      ]
     },
     "execution_count": 3,
     "metadata": {},
     "output_type": "execute_result"
    }
   ],
   "source": [
    "k = 3\n",
    "n, p = 5, 0.85\n",
    "binom.pmf(k, n, p) # probability of finding k out of n with probability p for each.\n",
    "# Answer: 0.1382"
   ]
  },
  {
   "cell_type": "markdown",
   "id": "3b1c7bbd-73f6-40b3-b09c-ca9690e8f81b",
   "metadata": {},
   "source": [
    "The CDF is given by $F_{X} (x) : \\mathbf{R} \\rightarrow [0,1]$ and is continuous and strictly monotonic.\n",
    "\n",
    "The quantile function (ppf) $Q : [0,1] \\rightarrow \\mathbf{R}$ maps the input $p$ to a threshold value $x$\n",
    "so that the probability of $X$ being less or equal than $x$ is p.\n",
    "\n",
    "$$\n",
    "F_{X} (x) = P(X \\leq x) = p\n",
    "$$\n",
    "\n",
    "and \n",
    "$$\n",
    "Q(p) = F^{-1}_{X} (p)\n",
    "$$\n"
   ]
  },
  {
   "cell_type": "code",
   "execution_count": 4,
   "id": "6d10b7c4-3d5d-4a18-8488-df1bdeed0653",
   "metadata": {},
   "outputs": [
    {
     "data": {
      "text/plain": [
       "3.0"
      ]
     },
     "execution_count": 4,
     "metadata": {},
     "output_type": "execute_result"
    }
   ],
   "source": [
    "# Percent point function - inverse of CDF\n",
    "# the quantile function outputs the **value of a random variable** such that its probability\n",
    "# is less than or equal to an input probability value\n",
    "binom.ppf(0.138, n, p)"
   ]
  },
  {
   "cell_type": "code",
   "execution_count": 6,
   "id": "88048569-ec9e-4abe-8d43-a4cbb3d396f0",
   "metadata": {},
   "outputs": [
    {
     "name": "stdout",
     "output_type": "stream",
     "text": [
      "cdf [P(X <= x)]:  0.97757\n",
      "sf [P(X > x)]:  0.02243\n",
      "sf = 1 - cdf [1 - P(X <= x)]:  0.02243\n"
     ]
    }
   ],
   "source": [
    "# The CDF is P(X \\leq x)\n",
    "# The survival function is P(X > x) = 1 - CDF\n",
    "\n",
    "n, k, p = 460, 251, 0.5\n",
    "\n",
    "cdf = binom.cdf(k, n, p) # k or less successes.\n",
    "sf = binom.sf(k, n, p) # probability of more than k successes.\n",
    "\n",
    "print(f\"cdf [P(X <= x)]: {cdf:8.5f}\\nsf [P(X > x)]: {sf:8.5f}\")\n",
    "print(f\"sf = 1 - cdf [1 - P(X <= x)]: {1-cdf:8.5f}\")\n",
    "# CDF = 0.97757, SF = 0.02243 (1-CDF)"
   ]
  },
  {
   "cell_type": "code",
   "execution_count": 10,
   "id": "696ce8dc-2839-4624-ba5e-a03d16275e39",
   "metadata": {},
   "outputs": [
    {
     "name": "stdout",
     "output_type": "stream",
     "text": [
      "ppf(0.01) = 2.0\n",
      "ppf(0.99) = 5.0\n",
      "range = [2. 3. 4.]\n"
     ]
    },
    {
     "data": {
      "image/png": "[encoded data removed]",
      "text/plain": [
       "<Figure size 640x480 with 1 Axes>"
      ]
     },
     "metadata": {},
     "output_type": "display_data"
    }
   ],
   "source": [
    "n, p = 5, 0.85\n",
    "\n",
    "x_min = binom.ppf(0.01, n, p)\n",
    "x_max = binom.ppf(0.99, n, p)\n",
    "x = np.arange(\n",
    "    x_min,\n",
    "    x_max,\n",
    ")\n",
    "print(f\"ppf(0.01) = {x_min}\")\n",
    "print(f\"ppf(0.99) = {x_max}\")\n",
    "print(f\"range = {x}\")\n",
    "\n",
    "fig, ax = plt.subplots(1, 1)\n",
    "ax.plot(x, binom.pmf(x, n, p), 'bo', ms=8, label=\"binom pmf\")\n",
    "ax.vlines(x, 0, binom.pmf(x, n, p), colors='b', lw=5, alpha=0.5)\n",
    "\n",
    "rv = binom(n, p)\n",
    "ax.vlines(x, 0, rv.pmf(x), colors='k', linestyles='-', lw=1, label=\"frozen pmf\")\n",
    "\n",
    "ax.legend(loc='best', frameon=False)\n",
    "fig.show()"
   ]
  },
  {
   "cell_type": "markdown",
   "id": "8582cfa9-6e27-4149-b4c4-3e5541eaf32d",
   "metadata": {},
   "source": [
    "# Poisson Distribution"
   ]
  },
  {
   "cell_type": "code",
   "execution_count": 17,
   "id": "21e9d89c-6c22-470b-ba12-898abdde0dd6",
   "metadata": {},
   "outputs": [
    {
     "name": "stdout",
     "output_type": "stream",
     "text": [
      "P(8) = 0.10694\n"
     ]
    }
   ],
   "source": [
    "avg_hurricanes_per_yr = 336 / 55 # 55yr period since 1960 had 336 Atlantic hurricanes.\n",
    "\n",
    "k = 8\n",
    "p_k_per_year = poisson.pmf(k, avg_hurricanes_per_yr)\n",
    "print(f\"P(8) = {p_k_per_year:.5f}\")\n",
    "# Expected number of years with 8 hurricanes per year is = 55 yrs * 0.10694"
   ]
  },
  {
   "cell_type": "code",
   "execution_count": null,
   "id": "b443d6e4-6c6b-4830-aa61-d48af746542a",
   "metadata": {},
   "outputs": [],
   "source": []
  }
 ],
 "metadata": {
  "kernelspec": {
   "display_name": "Python 3 (ipykernel)",
   "language": "python",
   "name": "python3"
  },
  "language_info": {
   "codemirror_mode": {
    "name": "ipython",
    "version": 3
   },
   "file_extension": ".py",
   "mimetype": "text/x-python",
   "name": "python",
   "nbconvert_exporter": "python",
   "pygments_lexer": "ipython3",
   "version": "3.11.8"
  }
 },
 "nbformat": 4,
 "nbformat_minor": 5
}
