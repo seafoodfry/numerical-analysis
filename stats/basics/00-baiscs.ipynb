{
 "cells": [
  {
   "cell_type": "markdown",
   "id": "c1d7cb76-41e0-44fe-ab3c-14a2ad2d5cab",
   "metadata": {},
   "source": [
    "# Graphs"
   ]
  },
  {
   "cell_type": "markdown",
   "id": "89495e44-b591-439a-b010-7ab96bd621cc",
   "metadata": {},
   "source": [
    "1. Scales should start at zero! Otherwise ratios are misleading.\n",
    "2. Objects whose area or volume are meant to show a statistic can be deceptive. People will make \"linear comparisons\" but the area or volume do not grow linearly.\n",
    "\n",
    "**Statistical significance** is achieved when we get a result that is very unlikely to occur by chance. I.e., less than 5% chance that some result happened.\n",
    "\n",
    "1. A **Parameter** is a measurement describing some characteristic of a _population_.\n",
    "2. A **Statistic** is a measurement describing some characteristic of a _sample_.\n"
   ]
  },
  {
   "cell_type": "code",
   "execution_count": 1,
   "id": "21e27426-7c75-4fd6-928f-df1fc85ad653",
   "metadata": {},
   "outputs": [],
   "source": [
    "import numpy as np\n",
    "\n",
    "import rich\n",
    "from rich.console import Console\n",
    "from packaging.version import Version"
   ]
  },
  {
   "cell_type": "code",
   "execution_count": 2,
   "id": "2405db77-e181-445d-9b73-37f51147b0cf",
   "metadata": {},
   "outputs": [],
   "source": [
    "console = Console(\n",
    "    width=80,\n",
    "    color_system=\"truecolor\",\n",
    "    soft_wrap=True,\n",
    "    emoji=True,\n",
    "    log_time=True,\n",
    "    log_path=True\n",
    ")"
   ]
  },
  {
   "cell_type": "code",
   "execution_count": 5,
   "id": "9792cd6e-ab58-4158-a1be-cffee86c5cd2",
   "metadata": {},
   "outputs": [],
   "source": [
    "pkgs = {\n",
    "    'numpy': '2.1.2',\n",
    "    'scipy': '1.14.1',\n",
    "    'matplotlib': '3.9.2',\n",
    "    'sklearn': '1.5.2',\n",
    "    'pandas': '2.2.3'\n",
    "}"
   ]
  },
  {
   "cell_type": "code",
   "execution_count": 6,
   "id": "80a2e7f1-fcec-4f7b-851a-7f131b97fbd5",
   "metadata": {},
   "outputs": [],
   "source": [
    "for p in pkgs.keys():\n",
    "    imported = __import__(p)\n",
    "    actual = pkgs[imported.__name__]\n",
    "    if Version(actual) > Version(imported.__version__):\n",
    "        console.print(\":beetle: [bold rgb(255,20,147)]Go update your packages! [/bold rgb(255,20,147)]\")\n",
    "        console.print(f'your version of {imported.__name__} is {imported.__version__} but we\\'d like you to have {actual} at least')"
   ]
  },
  {
   "cell_type": "code",
   "execution_count": 7,
   "id": "d33a561a-581c-46d6-b32a-490d2dd5fe12",
   "metadata": {},
   "outputs": [
    {
     "data": {
      "text/html": [
       "<pre style=\"white-space:pre;overflow-x:auto;line-height:normal;font-family:Menlo,'DejaVu Sans Mono',consolas,'Courier New',monospace\"><span style=\"font-weight: bold\">{</span>\n",
       "    <span style=\"color: #008000; text-decoration-color: #008000\">'numpy'</span>: <span style=\"color: #008000; text-decoration-color: #008000\">'2.1.2'</span>,\n",
       "    <span style=\"color: #008000; text-decoration-color: #008000\">'scipy'</span>: <span style=\"color: #008000; text-decoration-color: #008000\">'1.14.1'</span>,\n",
       "    <span style=\"color: #008000; text-decoration-color: #008000\">'matplotlib'</span>: <span style=\"color: #008000; text-decoration-color: #008000\">'3.9.2'</span>,\n",
       "    <span style=\"color: #008000; text-decoration-color: #008000\">'sklearn'</span>: <span style=\"color: #008000; text-decoration-color: #008000\">'1.5.2'</span>,\n",
       "    <span style=\"color: #008000; text-decoration-color: #008000\">'pandas'</span>: <span style=\"color: #008000; text-decoration-color: #008000\">'2.2.3'</span>\n",
       "<span style=\"font-weight: bold\">}</span>\n",
       "</pre>\n"
      ],
      "text/plain": [
       "\u001b[1m{\u001b[0m\n",
       "    \u001b[32m'numpy'\u001b[0m: \u001b[32m'2.1.2'\u001b[0m,\n",
       "    \u001b[32m'scipy'\u001b[0m: \u001b[32m'1.14.1'\u001b[0m,\n",
       "    \u001b[32m'matplotlib'\u001b[0m: \u001b[32m'3.9.2'\u001b[0m,\n",
       "    \u001b[32m'sklearn'\u001b[0m: \u001b[32m'1.5.2'\u001b[0m,\n",
       "    \u001b[32m'pandas'\u001b[0m: \u001b[32m'2.2.3'\u001b[0m\n",
       "\u001b[1m}\u001b[0m\n"
      ]
     },
     "metadata": {},
     "output_type": "display_data"
    }
   ],
   "source": [
    "console.print(pkgs)"
   ]
  },
  {
   "cell_type": "code",
   "execution_count": null,
   "id": "3fd53443-7127-42e3-8d49-602ee6a5838a",
   "metadata": {},
   "outputs": [],
   "source": []
  }
 ],
 "metadata": {
  "kernelspec": {
   "display_name": "Python 3 (ipykernel)",
   "language": "python",
   "name": "python3"
  },
  "language_info": {
   "codemirror_mode": {
    "name": "ipython",
    "version": 3
   },
   "file_extension": ".py",
   "mimetype": "text/x-python",
   "name": "python",
   "nbconvert_exporter": "python",
   "pygments_lexer": "ipython3",
   "version": "3.13.3"
  }
 },
 "nbformat": 4,
 "nbformat_minor": 5
}
