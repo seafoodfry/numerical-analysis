{
 "cells": [
  {
   "cell_type": "markdown",
   "id": "c1d7cb76-41e0-44fe-ab3c-14a2ad2d5cab",
   "metadata": {},
   "source": [
    "# Graphs"
   ]
  },
  {
   "cell_type": "markdown",
   "id": "89495e44-b591-439a-b010-7ab96bd621cc",
   "metadata": {},
   "source": [
    "1. Scales should start at zero! Otherwise ratios are misleading.\n",
    "2. Objects whose area or volume are meant to show a statistic can be deceptive. People will make \"linear comparisons\" but the area or volume do not grow linearly.\n"
   ]
  },
  {
   "cell_type": "code",
   "execution_count": 25,
   "id": "21e27426-7c75-4fd6-928f-df1fc85ad653",
   "metadata": {},
   "outputs": [],
   "source": [
    "import numpy as np\n",
    "\n",
    "import rich\n",
    "from rich.console import Console\n",
    "from packaging.version import Version"
   ]
  },
  {
   "cell_type": "code",
   "execution_count": 2,
   "id": "2405db77-e181-445d-9b73-37f51147b0cf",
   "metadata": {},
   "outputs": [],
   "source": [
    "console = Console(\n",
    "    width=80,\n",
    "    color_system=\"truecolor\",\n",
    "    soft_wrap=True,\n",
    "    emoji=True,\n",
    "    log_time=True,\n",
    "    log_path=True\n",
    ")"
   ]
  },
  {
   "cell_type": "code",
   "execution_count": 3,
   "id": "72901454-b33c-474b-a9c8-aeeaea476aec",
   "metadata": {},
   "outputs": [
    {
     "ename": "ValueError",
     "evalue": "'list' argument must have no negative elements",
     "output_type": "error",
     "traceback": [
      "\u001b[0;31m---------------------------------------------------------------------------\u001b[0m",
      "\u001b[0;31mValueError\u001b[0m                                Traceback (most recent call last)",
      "Cell \u001b[0;32mIn[3], line 2\u001b[0m\n\u001b[1;32m      1\u001b[0m data \u001b[38;5;241m=\u001b[39m [\u001b[38;5;241m0\u001b[39m, \u001b[38;5;241m1\u001b[39m, \u001b[38;5;241m2\u001b[39m, \u001b[38;5;241m3\u001b[39m, \u001b[38;5;241m0\u001b[39m, \u001b[38;5;241m1\u001b[39m, \u001b[38;5;241m2\u001b[39m, \u001b[38;5;241m0\u001b[39m, \u001b[38;5;241m1\u001b[39m, \u001b[38;5;241m0\u001b[39m, \u001b[38;5;241m5\u001b[39m, \u001b[38;5;241m-\u001b[39m\u001b[38;5;241m1\u001b[39m]\n\u001b[0;32m----> 2\u001b[0m \u001b[43mnp\u001b[49m\u001b[38;5;241;43m.\u001b[39;49m\u001b[43mbincount\u001b[49m\u001b[43m(\u001b[49m\u001b[43mdata\u001b[49m\u001b[43m)\u001b[49m\n",
      "\u001b[0;31mValueError\u001b[0m: 'list' argument must have no negative elements"
     ]
    }
   ],
   "source": [
    "data = [0, 1, 2, 3, 0, 1, 2, 0, 1, 0, 5, -1]\n",
    "np.bincount(data)"
   ]
  },
  {
   "cell_type": "code",
   "execution_count": 4,
   "id": "5a6040e6-7a25-472a-b4a1-7659eb6fd9a4",
   "metadata": {},
   "outputs": [
    {
     "data": {
      "text/plain": [
       "array([4, 3, 2, 1, 0, 1])"
      ]
     },
     "execution_count": 4,
     "metadata": {},
     "output_type": "execute_result"
    }
   ],
   "source": [
    "data = [0, 1, 2, 3, 0, 1, 2, 0, 1, 0, 5]\n",
    "np.bincount(data)"
   ]
  },
  {
   "cell_type": "code",
   "execution_count": 5,
   "id": "81a0618c-a134-431e-a68b-7d31fd4cd938",
   "metadata": {},
   "outputs": [
    {
     "data": {
      "text/plain": [
       "(np.int64(5), np.True_)"
      ]
     },
     "execution_count": 5,
     "metadata": {},
     "output_type": "execute_result"
    }
   ],
   "source": [
    "# amax is an alias for max.\n",
    "# the thing with bincount is that since it assumes that entries are non-negative, then its size\n",
    "# should match the max + 1 (because python counts from 0).\n",
    "np.amax(data), np.bincount(data).size == np.max(data)+1"
   ]
  },
  {
   "cell_type": "code",
   "execution_count": 6,
   "id": "a25c7276-4c26-480b-a471-3008c3c5863f",
   "metadata": {},
   "outputs": [
    {
     "data": {
      "text/plain": [
       "(array([4, 3, 2, 1, 0, 1]),\n",
       " array([0.        , 0.83333333, 1.66666667, 2.5       , 3.33333333,\n",
       "        4.16666667, 5.        ]))"
      ]
     },
     "execution_count": 6,
     "metadata": {},
     "output_type": "execute_result"
    }
   ],
   "source": [
    "np.histogram(data, bins=6, density=False)"
   ]
  },
  {
   "cell_type": "code",
   "execution_count": 7,
   "id": "9792cd6e-ab58-4158-a1be-cffee86c5cd2",
   "metadata": {},
   "outputs": [],
   "source": [
    "pkgs = {\n",
    "    'numpy': '2.1.2',\n",
    "    'scipy': '1.14.1',\n",
    "    'matplotlib': '3.9.2',\n",
    "    'sklearn': '1.5.2',\n",
    "    'pandas': '2.2.3'\n"
   ]
  },
  {
   "cell_type": "code",
   "execution_count": 32,
   "id": "80a2e7f1-fcec-4f7b-851a-7f131b97fbd5",
   "metadata": {},
   "outputs": [],
   "source": [
    "for p in pkgs.keys():\n",
    "    imported = __import__(p)\n",
    "    actual = pkgs[imported.__name__]\n",
    "    if Version(actual) > Version(imported.__version__):\n",
    "        console.print(\":beetle: [bold rgb(255,20,147)]Go update your packages! [/bold rgb(255,20,147)]\")\n",
    "        console.print(f'your version of {imported.__name__} is {imported.__version__} but we\\'d like you to have {actual} at least')"
   ]
  },
  {
   "cell_type": "code",
   "execution_count": 33,
   "id": "d33a561a-581c-46d6-b32a-490d2dd5fe12",
   "metadata": {},
   "outputs": [
    {
     "data": {
      "text/html": [
       "<pre style=\"white-space:pre;overflow-x:auto;line-height:normal;font-family:Menlo,'DejaVu Sans Mono',consolas,'Courier New',monospace\"><span style=\"font-weight: bold\">{</span>\n",
       "    <span style=\"color: #008000; text-decoration-color: #008000\">'numpy'</span>: <span style=\"color: #008000; text-decoration-color: #008000\">'2.1.2'</span>,\n",
       "    <span style=\"color: #008000; text-decoration-color: #008000\">'scipy'</span>: <span style=\"color: #008000; text-decoration-color: #008000\">'1.14.1'</span>,\n",
       "    <span style=\"color: #008000; text-decoration-color: #008000\">'matplotlib'</span>: <span style=\"color: #008000; text-decoration-color: #008000\">'3.9.2'</span>,\n",
       "    <span style=\"color: #008000; text-decoration-color: #008000\">'sklearn'</span>: <span style=\"color: #008000; text-decoration-color: #008000\">'1.5.2'</span>,\n",
       "    <span style=\"color: #008000; text-decoration-color: #008000\">'pandas'</span>: <span style=\"color: #008000; text-decoration-color: #008000\">'2.2.3'</span>\n",
       "<span style=\"font-weight: bold\">}</span>\n",
       "</pre>\n"
      ],
      "text/plain": [
       "\u001b[1m{\u001b[0m\n",
       "    \u001b[32m'numpy'\u001b[0m: \u001b[32m'2.1.2'\u001b[0m,\n",
       "    \u001b[32m'scipy'\u001b[0m: \u001b[32m'1.14.1'\u001b[0m,\n",
       "    \u001b[32m'matplotlib'\u001b[0m: \u001b[32m'3.9.2'\u001b[0m,\n",
       "    \u001b[32m'sklearn'\u001b[0m: \u001b[32m'1.5.2'\u001b[0m,\n",
       "    \u001b[32m'pandas'\u001b[0m: \u001b[32m'2.2.3'\u001b[0m\n",
       "\u001b[1m}\u001b[0m\n"
      ]
     },
     "metadata": {},
     "output_type": "display_data"
    }
   ],
   "source": [
    "console.print(pkgs)"
   ]
  },
  {
   "cell_type": "code",
   "execution_count": null,
   "id": "3fd53443-7127-42e3-8d49-602ee6a5838a",
   "metadata": {},
   "outputs": [],
   "source": []
  }
 ],
 "metadata": {
  "kernelspec": {
   "display_name": "Python 3 (ipykernel)",
   "language": "python",
   "name": "python3"
  },
  "language_info": {
   "codemirror_mode": {
    "name": "ipython",
    "version": 3
   },
   "file_extension": ".py",
   "mimetype": "text/x-python",
   "name": "python",
   "nbconvert_exporter": "python",
   "pygments_lexer": "ipython3",
   "version": "3.12.5"
  }
 },
 "nbformat": 4,
 "nbformat_minor": 5
}
