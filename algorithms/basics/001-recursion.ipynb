{
 "cells": [
  {
   "cell_type": "markdown",
   "id": "839c3869-9b3c-4043-8e89-4703dc3f0e47",
   "metadata": {
    "tags": []
   },
   "source": [
    "# Converting numbers to different bases"
   ]
  },
  {
   "cell_type": "code",
   "execution_count": 25,
   "id": "3e408e3b-9e81-48ab-b185-d567c592addb",
   "metadata": {
    "tags": []
   },
   "outputs": [
    {
     "name": "stdout",
     "output_type": "stream",
     "text": [
      "5/2 = 2, 5%2 = 1\n",
      "2/2 = 1, 2%2 = 0\n",
      "1/2 = 0, 5%2 = 1\n"
     ]
    }
   ],
   "source": [
    "print(f'5/2 = {5//2}, 5%2 = {5%2}')\n",
    "print(f'2/2 = {2//2}, 2%2 = {2%2}')\n",
    "print(f'1/2 = {1//2}, 5%2 = {1%2}')"
   ]
  },
  {
   "cell_type": "code",
   "execution_count": 28,
   "id": "b4cec740-d123-499b-a3ca-d67f276b0ea9",
   "metadata": {
    "tags": []
   },
   "outputs": [],
   "source": [
    "def baseConversion(output: list[int], n: int, base: int=2):\n",
    "    if n > 0:\n",
    "        baseConversion(output, n//2, base=base)\n",
    "        digit = n % base\n",
    "        output.append(digit)\n",
    "        print(f'{digit}')"
   ]
  },
  {
   "cell_type": "code",
   "execution_count": 29,
   "id": "4f290863-7802-4838-b33b-58291e08d5b0",
   "metadata": {
    "tags": []
   },
   "outputs": [
    {
     "name": "stdout",
     "output_type": "stream",
     "text": [
      "1\n",
      "0\n",
      "1\n"
     ]
    }
   ],
   "source": [
    "output = []\n",
    "baseConversion(output, 5)"
   ]
  },
  {
   "cell_type": "code",
   "execution_count": 23,
   "id": "1c9431cf-51de-4d2d-bb72-2c5fd54ef048",
   "metadata": {
    "tags": []
   },
   "outputs": [
    {
     "name": "stdout",
     "output_type": "stream",
     "text": [
      "[1, 0, 1]\n"
     ]
    }
   ],
   "source": [
    "print(output)"
   ]
  },
  {
   "cell_type": "code",
   "execution_count": null,
   "id": "ceb60a59-53ed-442f-89c3-9934b5b76c23",
   "metadata": {},
   "outputs": [],
   "source": []
  }
 ],
 "metadata": {
  "kernelspec": {
   "display_name": "Python 3 (ipykernel)",
   "language": "python",
   "name": "python3"
  },
  "language_info": {
   "codemirror_mode": {
    "name": "ipython",
    "version": 3
   },
   "file_extension": ".py",
   "mimetype": "text/x-python",
   "name": "python",
   "nbconvert_exporter": "python",
   "pygments_lexer": "ipython3",
   "version": "3.10.11"
  }
 },
 "nbformat": 4,
 "nbformat_minor": 5
}
